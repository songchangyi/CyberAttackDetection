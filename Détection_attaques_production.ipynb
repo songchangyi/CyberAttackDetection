{
 "cells": [
  {
   "cell_type": "markdown",
   "metadata": {},
   "source": [
    "# Détecter des attaques sur les vraies données (fournit par Thales Datalab)  "
   ]
  },
  {
   "cell_type": "markdown",
   "metadata": {},
   "source": [
    "### Import data"
   ]
  },
  {
   "cell_type": "code",
   "execution_count": 8,
   "metadata": {
    "scrolled": true
   },
   "outputs": [
    {
     "data": {
      "text/plain": [
       "(102989, 14)"
      ]
     },
     "execution_count": 8,
     "metadata": {},
     "output_type": "execute_result"
    }
   ],
   "source": [
    "import pandas as pd \n",
    "import numpy as np \n",
    "from pandas import Series,DataFrame\n",
    "test_logs = pd.read_csv(\"./data/test.csv\")\n",
    "test_logs.shape"
   ]
  },
  {
   "cell_type": "markdown",
   "metadata": {},
   "source": [
    "### Pré-traitement des données\n",
    "#### Ajout des nouveaux features comme les longueurs, des symboles spéciaux et des mots spéciaux"
   ]
  },
  {
   "cell_type": "code",
   "execution_count": 9,
   "metadata": {
    "collapsed": true
   },
   "outputs": [],
   "source": [
    "import re\n",
    "from sklearn.feature_extraction.text import CountVectorizer\n",
    "# obtenir la longueur de lien(information)\n",
    "def get_len(info_comp):\n",
    "    return len(info_comp)\n",
    "\n",
    "# obtenir des symboles spécials pour logs sql\n",
    "def get_sql_char(info_comp):\n",
    "    return len(re.findall(\"[?=\\*#@%>]\", info_comp, re.IGNORECASE))\n",
    "\n",
    "# obtenir des mots spécials pour logs sql\n",
    "def get_sql_word(info_comp):\n",
    "    return len(re.findall(\"(SELECT)|(version)|(comment)|(user)|(FROM)|(mysql)|(host)|(DELET)|(name)|(MYSQL)|(WHERE)|(password)|(ORDER)\",info_comp,re.IGNORECASE))\n",
    "\n",
    "# obtenir des symboles spécials pour logs xss\n",
    "def get_xss_char(info_comp):\n",
    "    return len(re.findall(\"[<>\\\"\\'=&{}!#\\*]\", info_comp, re.IGNORECASE))\n",
    "\n",
    "# obtenir des mots spécials pour logs xss\n",
    "def get_xss_word(info_comp):\n",
    "    return len(re.findall(\"(alert)|(script)|(XSS)|(SRC=)|(xss)|(onerror)|(onload)|(BODY)|(src=)|(INPUT)|(http)|(LINK)|(url=)|(SCRIPT)\",info_comp,re.IGNORECASE))\n",
    "\n",
    "def get_password_number(info_comp):\n",
    "    return len(re.findall(\"((?:0(?=1)|1(?=2)|2(?=3)|3(?=4)|4(?=5)|5(?=6)|6(?=7)|7(?=8)|8(?=9)|9(?=0)){2}\\d)|((\\d)\\1{2})\",info_comp,re.IGNORECASE))\n",
    "\n",
    "def get_feature(info_comp):\n",
    "    return [get_len(info_comp),get_evil_char(info_comp),get_evil_word(info_comp)]\n"
   ]
  },
  {
   "cell_type": "code",
   "execution_count": 10,
   "metadata": {
    "collapsed": true
   },
   "outputs": [
    {
     "data": {
      "text/html": [
       "<div>\n",
       "<style scoped>\n",
       "    .dataframe tbody tr th:only-of-type {\n",
       "        vertical-align: middle;\n",
       "    }\n",
       "\n",
       "    .dataframe tbody tr th {\n",
       "        vertical-align: top;\n",
       "    }\n",
       "\n",
       "    .dataframe thead th {\n",
       "        text-align: right;\n",
       "    }\n",
       "</style>\n",
       "<table border=\"1\" class=\"dataframe\">\n",
       "  <thead>\n",
       "    <tr style=\"text-align: right;\">\n",
       "      <th></th>\n",
       "      <th>Unnamed: 0</th>\n",
       "      <th>ip_address</th>\n",
       "      <th>date</th>\n",
       "      <th>hour</th>\n",
       "      <th>minute</th>\n",
       "      <th>seconds</th>\n",
       "      <th>zone</th>\n",
       "      <th>protocol</th>\n",
       "      <th>username</th>\n",
       "      <th>password</th>\n",
       "      <th>status</th>\n",
       "      <th>respsize</th>\n",
       "      <th>timed</th>\n",
       "      <th>label</th>\n",
       "      <th>len</th>\n",
       "      <th>sqlchar</th>\n",
       "      <th>sqlword</th>\n",
       "      <th>xsschar</th>\n",
       "      <th>xssword</th>\n",
       "      <th>passnumber</th>\n",
       "    </tr>\n",
       "  </thead>\n",
       "  <tbody>\n",
       "    <tr>\n",
       "      <th>0</th>\n",
       "      <td>0</td>\n",
       "      <td>189.188.154.208</td>\n",
       "      <td>07/Jul/2017</td>\n",
       "      <td>12</td>\n",
       "      <td>10</td>\n",
       "      <td>0</td>\n",
       "      <td>200</td>\n",
       "      <td>GET</td>\n",
       "      <td>frank</td>\n",
       "      <td>frank</td>\n",
       "      <td>200</td>\n",
       "      <td>24478</td>\n",
       "      <td>800</td>\n",
       "      <td>0</td>\n",
       "      <td>5</td>\n",
       "      <td>0</td>\n",
       "      <td>0</td>\n",
       "      <td>0</td>\n",
       "      <td>0</td>\n",
       "      <td>0</td>\n",
       "    </tr>\n",
       "    <tr>\n",
       "      <th>1</th>\n",
       "      <td>1</td>\n",
       "      <td>189.183.172.77</td>\n",
       "      <td>07/Jul/2017</td>\n",
       "      <td>12</td>\n",
       "      <td>15</td>\n",
       "      <td>0</td>\n",
       "      <td>200</td>\n",
       "      <td>GET</td>\n",
       "      <td>bob</td>\n",
       "      <td>123456789</td>\n",
       "      <td>200</td>\n",
       "      <td>3243</td>\n",
       "      <td>1431</td>\n",
       "      <td>1</td>\n",
       "      <td>9</td>\n",
       "      <td>0</td>\n",
       "      <td>0</td>\n",
       "      <td>0</td>\n",
       "      <td>0</td>\n",
       "      <td>3</td>\n",
       "    </tr>\n",
       "    <tr>\n",
       "      <th>2</th>\n",
       "      <td>2</td>\n",
       "      <td>128.55.162.143</td>\n",
       "      <td>07/Jul/2017</td>\n",
       "      <td>12</td>\n",
       "      <td>20</td>\n",
       "      <td>0</td>\n",
       "      <td>200</td>\n",
       "      <td>GET</td>\n",
       "      <td>alice</td>\n",
       "      <td>alice</td>\n",
       "      <td>200</td>\n",
       "      <td>28222</td>\n",
       "      <td>802</td>\n",
       "      <td>0</td>\n",
       "      <td>5</td>\n",
       "      <td>0</td>\n",
       "      <td>0</td>\n",
       "      <td>0</td>\n",
       "      <td>0</td>\n",
       "      <td>0</td>\n",
       "    </tr>\n",
       "    <tr>\n",
       "      <th>3</th>\n",
       "      <td>3</td>\n",
       "      <td>128.147.11.33</td>\n",
       "      <td>07/Jul/2017</td>\n",
       "      <td>12</td>\n",
       "      <td>25</td>\n",
       "      <td>0</td>\n",
       "      <td>200</td>\n",
       "      <td>GET</td>\n",
       "      <td>ted</td>\n",
       "      <td>ted</td>\n",
       "      <td>200</td>\n",
       "      <td>16281</td>\n",
       "      <td>803</td>\n",
       "      <td>0</td>\n",
       "      <td>3</td>\n",
       "      <td>0</td>\n",
       "      <td>0</td>\n",
       "      <td>0</td>\n",
       "      <td>0</td>\n",
       "      <td>0</td>\n",
       "    </tr>\n",
       "    <tr>\n",
       "      <th>4</th>\n",
       "      <td>4</td>\n",
       "      <td>128.168.150.134</td>\n",
       "      <td>07/Jul/2017</td>\n",
       "      <td>12</td>\n",
       "      <td>30</td>\n",
       "      <td>0</td>\n",
       "      <td>200</td>\n",
       "      <td>GET</td>\n",
       "      <td>dimi</td>\n",
       "      <td>dimi</td>\n",
       "      <td>200</td>\n",
       "      <td>20261</td>\n",
       "      <td>804</td>\n",
       "      <td>0</td>\n",
       "      <td>4</td>\n",
       "      <td>0</td>\n",
       "      <td>0</td>\n",
       "      <td>0</td>\n",
       "      <td>0</td>\n",
       "      <td>0</td>\n",
       "    </tr>\n",
       "  </tbody>\n",
       "</table>\n",
       "</div>"
      ],
      "text/plain": [
       "   Unnamed: 0       ip_address         date  hour  minute  seconds  zone  \\\n",
       "0           0  189.188.154.208  07/Jul/2017    12      10        0   200   \n",
       "1           1   189.183.172.77  07/Jul/2017    12      15        0   200   \n",
       "2           2   128.55.162.143  07/Jul/2017    12      20        0   200   \n",
       "3           3    128.147.11.33  07/Jul/2017    12      25        0   200   \n",
       "4           4  128.168.150.134  07/Jul/2017    12      30        0   200   \n",
       "\n",
       "  protocol username   password  status  respsize  timed  label  len  sqlchar  \\\n",
       "0      GET    frank      frank     200     24478    800      0    5        0   \n",
       "1      GET      bob  123456789     200      3243   1431      1    9        0   \n",
       "2      GET    alice      alice     200     28222    802      0    5        0   \n",
       "3      GET      ted        ted     200     16281    803      0    3        0   \n",
       "4      GET     dimi       dimi     200     20261    804      0    4        0   \n",
       "\n",
       "   sqlword  xsschar  xssword  passnumber  \n",
       "0        0        0        0           0  \n",
       "1        0        0        0           3  \n",
       "2        0        0        0           0  \n",
       "3        0        0        0           0  \n",
       "4        0        0        0           0  "
      ]
     },
     "execution_count": 10,
     "metadata": {},
     "output_type": "execute_result"
    }
   ],
   "source": [
    "f=lambda x: str(x)\n",
    "test_logs['len']=test_logs['password'].apply(f).apply(get_len)\n",
    "test_logs['sqlchar']=test_logs['password'].apply(f).apply(get_sql_char)\n",
    "test_logs['sqlword']=test_logs['password'].apply(f).apply(get_sql_word)\n",
    "test_logs['xsschar']=test_logs['password'].apply(f).apply(get_xss_char)\n",
    "test_logs['xssword']=test_logs['password'].apply(f).apply(get_xss_word)\n",
    "test_logs['passnumber']=test_logs['password'].apply(f).apply(get_password_number)\n",
    "test_logs.head()"
   ]
  },
  {
   "cell_type": "markdown",
   "metadata": {},
   "source": [
    "#### Transformation de la forme de l'adresse IP"
   ]
  },
  {
   "cell_type": "code",
   "execution_count": 11,
   "metadata": {
    "collapsed": true
   },
   "outputs": [
    {
     "data": {
      "text/html": [
       "<div>\n",
       "<style scoped>\n",
       "    .dataframe tbody tr th:only-of-type {\n",
       "        vertical-align: middle;\n",
       "    }\n",
       "\n",
       "    .dataframe tbody tr th {\n",
       "        vertical-align: top;\n",
       "    }\n",
       "\n",
       "    .dataframe thead th {\n",
       "        text-align: right;\n",
       "    }\n",
       "</style>\n",
       "<table border=\"1\" class=\"dataframe\">\n",
       "  <thead>\n",
       "    <tr style=\"text-align: right;\">\n",
       "      <th></th>\n",
       "      <th>Unnamed: 0</th>\n",
       "      <th>ip_address</th>\n",
       "      <th>date</th>\n",
       "      <th>hour</th>\n",
       "      <th>minute</th>\n",
       "      <th>seconds</th>\n",
       "      <th>zone</th>\n",
       "      <th>protocol</th>\n",
       "      <th>username</th>\n",
       "      <th>password</th>\n",
       "      <th>status</th>\n",
       "      <th>respsize</th>\n",
       "      <th>timed</th>\n",
       "      <th>label</th>\n",
       "      <th>len</th>\n",
       "      <th>sqlchar</th>\n",
       "      <th>sqlword</th>\n",
       "      <th>xsschar</th>\n",
       "      <th>xssword</th>\n",
       "      <th>passnumber</th>\n",
       "    </tr>\n",
       "  </thead>\n",
       "  <tbody>\n",
       "    <tr>\n",
       "      <th>0</th>\n",
       "      <td>0</td>\n",
       "      <td>88643</td>\n",
       "      <td>07/Jul/2017</td>\n",
       "      <td>12</td>\n",
       "      <td>10</td>\n",
       "      <td>0</td>\n",
       "      <td>200</td>\n",
       "      <td>GET</td>\n",
       "      <td>frank</td>\n",
       "      <td>frank</td>\n",
       "      <td>200</td>\n",
       "      <td>24478</td>\n",
       "      <td>800</td>\n",
       "      <td>0</td>\n",
       "      <td>5</td>\n",
       "      <td>0</td>\n",
       "      <td>0</td>\n",
       "      <td>0</td>\n",
       "      <td>0</td>\n",
       "      <td>0</td>\n",
       "    </tr>\n",
       "    <tr>\n",
       "      <th>1</th>\n",
       "      <td>1</td>\n",
       "      <td>88200</td>\n",
       "      <td>07/Jul/2017</td>\n",
       "      <td>12</td>\n",
       "      <td>15</td>\n",
       "      <td>0</td>\n",
       "      <td>200</td>\n",
       "      <td>GET</td>\n",
       "      <td>bob</td>\n",
       "      <td>123456789</td>\n",
       "      <td>200</td>\n",
       "      <td>3243</td>\n",
       "      <td>1431</td>\n",
       "      <td>1</td>\n",
       "      <td>9</td>\n",
       "      <td>0</td>\n",
       "      <td>0</td>\n",
       "      <td>0</td>\n",
       "      <td>0</td>\n",
       "      <td>3</td>\n",
       "    </tr>\n",
       "    <tr>\n",
       "      <th>2</th>\n",
       "      <td>2</td>\n",
       "      <td>64556</td>\n",
       "      <td>07/Jul/2017</td>\n",
       "      <td>12</td>\n",
       "      <td>20</td>\n",
       "      <td>0</td>\n",
       "      <td>200</td>\n",
       "      <td>GET</td>\n",
       "      <td>alice</td>\n",
       "      <td>alice</td>\n",
       "      <td>200</td>\n",
       "      <td>28222</td>\n",
       "      <td>802</td>\n",
       "      <td>0</td>\n",
       "      <td>5</td>\n",
       "      <td>0</td>\n",
       "      <td>0</td>\n",
       "      <td>0</td>\n",
       "      <td>0</td>\n",
       "      <td>0</td>\n",
       "    </tr>\n",
       "    <tr>\n",
       "      <th>3</th>\n",
       "      <td>3</td>\n",
       "      <td>16722</td>\n",
       "      <td>07/Jul/2017</td>\n",
       "      <td>12</td>\n",
       "      <td>25</td>\n",
       "      <td>0</td>\n",
       "      <td>200</td>\n",
       "      <td>GET</td>\n",
       "      <td>ted</td>\n",
       "      <td>ted</td>\n",
       "      <td>200</td>\n",
       "      <td>16281</td>\n",
       "      <td>803</td>\n",
       "      <td>0</td>\n",
       "      <td>3</td>\n",
       "      <td>0</td>\n",
       "      <td>0</td>\n",
       "      <td>0</td>\n",
       "      <td>0</td>\n",
       "      <td>0</td>\n",
       "    </tr>\n",
       "    <tr>\n",
       "      <th>4</th>\n",
       "      <td>4</td>\n",
       "      <td>23870</td>\n",
       "      <td>07/Jul/2017</td>\n",
       "      <td>12</td>\n",
       "      <td>30</td>\n",
       "      <td>0</td>\n",
       "      <td>200</td>\n",
       "      <td>GET</td>\n",
       "      <td>dimi</td>\n",
       "      <td>dimi</td>\n",
       "      <td>200</td>\n",
       "      <td>20261</td>\n",
       "      <td>804</td>\n",
       "      <td>0</td>\n",
       "      <td>4</td>\n",
       "      <td>0</td>\n",
       "      <td>0</td>\n",
       "      <td>0</td>\n",
       "      <td>0</td>\n",
       "      <td>0</td>\n",
       "    </tr>\n",
       "  </tbody>\n",
       "</table>\n",
       "</div>"
      ],
      "text/plain": [
       "   Unnamed: 0  ip_address         date  hour  minute  seconds  zone protocol  \\\n",
       "0           0       88643  07/Jul/2017    12      10        0   200      GET   \n",
       "1           1       88200  07/Jul/2017    12      15        0   200      GET   \n",
       "2           2       64556  07/Jul/2017    12      20        0   200      GET   \n",
       "3           3       16722  07/Jul/2017    12      25        0   200      GET   \n",
       "4           4       23870  07/Jul/2017    12      30        0   200      GET   \n",
       "\n",
       "  username   password  status  respsize  timed  label  len  sqlchar  sqlword  \\\n",
       "0    frank      frank     200     24478    800      0    5        0        0   \n",
       "1      bob  123456789     200      3243   1431      1    9        0        0   \n",
       "2    alice      alice     200     28222    802      0    5        0        0   \n",
       "3      ted        ted     200     16281    803      0    3        0        0   \n",
       "4     dimi       dimi     200     20261    804      0    4        0        0   \n",
       "\n",
       "   xsschar  xssword  passnumber  \n",
       "0        0        0           0  \n",
       "1        0        0           3  \n",
       "2        0        0           0  \n",
       "3        0        0           0  \n",
       "4        0        0           0  "
      ]
     },
     "execution_count": 11,
     "metadata": {},
     "output_type": "execute_result"
    }
   ],
   "source": [
    "from sklearn import preprocessing\n",
    "le = preprocessing.LabelEncoder()\n",
    "test_logs['ip_address'] = le.fit_transform(test_logs['ip_address'].apply(f))\n",
    "test_logs.head()"
   ]
  },
  {
   "cell_type": "code",
   "execution_count": 12,
   "metadata": {
    "scrolled": true
   },
   "outputs": [],
   "source": [
    "del test_logs[test_logs.columns[0]]"
   ]
  },
  {
   "cell_type": "markdown",
   "metadata": {},
   "source": [
    "#### Remplacement des données null au 0"
   ]
  },
  {
   "cell_type": "code",
   "execution_count": 13,
   "metadata": {},
   "outputs": [],
   "source": [
    "def replace(resp):\n",
    "    if resp == '-':\n",
    "        resp = 0\n",
    "    elif (resp == resp) == False:\n",
    "        resp = 0\n",
    "    return (resp)\n",
    "test_logs['respsize']=test_logs['respsize'].apply(replace)\n",
    "test_logs['timed']=test_logs['timed'].apply(replace)\n",
    "test_logs['status']=test_logs['status'].apply(replace)"
   ]
  },
  {
   "cell_type": "markdown",
   "metadata": {},
   "source": [
    "#### Fonctions pour évaluer la performance"
   ]
  },
  {
   "cell_type": "code",
   "execution_count": 14,
   "metadata": {
    "collapsed": true
   },
   "outputs": [],
   "source": [
    "from sklearn import metrics\n",
    "def do_metrics(y_test,y_pred):\n",
    "    print (\"metrics.confusion_matrix:\")\n",
    "    print (metrics.confusion_matrix(y_test, y_pred))\n",
    "    print (\"metrics.accuracy_score:\")\n",
    "    print (metrics.accuracy_score(y_test, y_pred))\n",
    "    print (\"metrics.precision_score:\")\n",
    "    print (metrics.precision_score(y_test, y_pred))\n",
    "    print (\"metrics.recall_score:\")\n",
    "    print (metrics.recall_score(y_test, y_pred))\n",
    "    print (\"metrics.f1_score:\")\n",
    "    print (metrics.f1_score(y_test,y_pred))"
   ]
  },
  {
   "cell_type": "code",
   "execution_count": 15,
   "metadata": {
    "collapsed": true
   },
   "outputs": [],
   "source": [
    "import matplotlib.pyplot as plt\n",
    "from sklearn.metrics import roc_curve, auc\n",
    "\n",
    "def plot_cm(cm, labels):\n",
    "    \n",
    "    # Compute percentanges\n",
    "    percent = (cm*100.0)/np.array(np.matrix(cm.sum(axis=1)).T)  # Derp, I'm sure there's a better way\n",
    "    \n",
    "    print ('Confusion Matrix Stats')\n",
    "    for i, label_i in enumerate(labels):\n",
    "        for j, label_j in enumerate(labels):\n",
    "            print (\"%s/%s: %.2f%% (%d/%d)\" % (label_i, label_j, (percent[i][j]), cm[i][j], cm[i].sum()))\n",
    "\n",
    "    # Show confusion matrix\n",
    "    # Thanks kermit666 from stackoverflow :)\n",
    "    fig = plt.figure()\n",
    "    ax = fig.add_subplot(111)\n",
    "    ax.grid(b=False)\n",
    "    cax = ax.matshow(percent, cmap='Greens')\n",
    "    plt.title('Confusion matrix of the classifier')\n",
    "    fig.colorbar(cax)\n",
    "    ax.set_xticklabels([''] + labels)\n",
    "    ax.set_yticklabels([''] + labels)\n",
    "    plt.xlabel('Predicted')\n",
    "    plt.ylabel('True')\n",
    "    plt.show()\n",
    "    \n",
    "def plot_roc(model,y_test,y_pred):\n",
    "    # Compute ROC curve and ROC area for each class  \n",
    "    fpr,tpr,threshold = roc_curve(y_test, y_pred) ###True positive和false positive  \n",
    "    roc_auc = auc(fpr,tpr) ###auc \n",
    "\n",
    "    plt.figure()  \n",
    "    lw = 2  \n",
    "    plt.figure(figsize=(5,5))  \n",
    "    plt.plot(fpr, tpr, color='darkorange',  \n",
    "             lw=lw, label='ROC curve (area = %0.2f)' % roc_auc) \n",
    "    plt.plot([0, 1], [0, 1], color='navy', lw=lw, linestyle='--')  \n",
    "    plt.xlim([0.0, 1.0])  \n",
    "    plt.ylim([0.0, 1.05])  \n",
    "    plt.xlabel('False Positive Rate')  \n",
    "    plt.ylabel('True Positive Rate')  \n",
    "    plt.title('Receiver operating characteristic example')  \n",
    "    plt.legend(loc=\"lower right\")  \n",
    "    plt.show()  "
   ]
  },
  {
   "cell_type": "markdown",
   "metadata": {},
   "source": [
    "### Feature Engineering"
   ]
  },
  {
   "cell_type": "markdown",
   "metadata": {},
   "source": [
    "#### Nettoyage des features manuellement"
   ]
  },
  {
   "cell_type": "code",
   "execution_count": 17,
   "metadata": {
    "collapsed": true
   },
   "outputs": [
    {
     "data": {
      "text/html": [
       "<div>\n",
       "<style scoped>\n",
       "    .dataframe tbody tr th:only-of-type {\n",
       "        vertical-align: middle;\n",
       "    }\n",
       "\n",
       "    .dataframe tbody tr th {\n",
       "        vertical-align: top;\n",
       "    }\n",
       "\n",
       "    .dataframe thead th {\n",
       "        text-align: right;\n",
       "    }\n",
       "</style>\n",
       "<table border=\"1\" class=\"dataframe\">\n",
       "  <thead>\n",
       "    <tr style=\"text-align: right;\">\n",
       "      <th></th>\n",
       "      <th>ip_address</th>\n",
       "      <th>hour</th>\n",
       "      <th>minute</th>\n",
       "      <th>seconds</th>\n",
       "      <th>status</th>\n",
       "      <th>respsize</th>\n",
       "      <th>timed</th>\n",
       "      <th>len</th>\n",
       "      <th>sqlchar</th>\n",
       "      <th>sqlword</th>\n",
       "      <th>xsschar</th>\n",
       "      <th>xssword</th>\n",
       "      <th>passnumber</th>\n",
       "    </tr>\n",
       "  </thead>\n",
       "  <tbody>\n",
       "    <tr>\n",
       "      <th>0</th>\n",
       "      <td>88643</td>\n",
       "      <td>12</td>\n",
       "      <td>10</td>\n",
       "      <td>0</td>\n",
       "      <td>200</td>\n",
       "      <td>24478</td>\n",
       "      <td>800</td>\n",
       "      <td>5</td>\n",
       "      <td>0</td>\n",
       "      <td>0</td>\n",
       "      <td>0</td>\n",
       "      <td>0</td>\n",
       "      <td>0</td>\n",
       "    </tr>\n",
       "    <tr>\n",
       "      <th>1</th>\n",
       "      <td>88200</td>\n",
       "      <td>12</td>\n",
       "      <td>15</td>\n",
       "      <td>0</td>\n",
       "      <td>200</td>\n",
       "      <td>3243</td>\n",
       "      <td>1431</td>\n",
       "      <td>9</td>\n",
       "      <td>0</td>\n",
       "      <td>0</td>\n",
       "      <td>0</td>\n",
       "      <td>0</td>\n",
       "      <td>3</td>\n",
       "    </tr>\n",
       "    <tr>\n",
       "      <th>2</th>\n",
       "      <td>64556</td>\n",
       "      <td>12</td>\n",
       "      <td>20</td>\n",
       "      <td>0</td>\n",
       "      <td>200</td>\n",
       "      <td>28222</td>\n",
       "      <td>802</td>\n",
       "      <td>5</td>\n",
       "      <td>0</td>\n",
       "      <td>0</td>\n",
       "      <td>0</td>\n",
       "      <td>0</td>\n",
       "      <td>0</td>\n",
       "    </tr>\n",
       "    <tr>\n",
       "      <th>3</th>\n",
       "      <td>16722</td>\n",
       "      <td>12</td>\n",
       "      <td>25</td>\n",
       "      <td>0</td>\n",
       "      <td>200</td>\n",
       "      <td>16281</td>\n",
       "      <td>803</td>\n",
       "      <td>3</td>\n",
       "      <td>0</td>\n",
       "      <td>0</td>\n",
       "      <td>0</td>\n",
       "      <td>0</td>\n",
       "      <td>0</td>\n",
       "    </tr>\n",
       "    <tr>\n",
       "      <th>4</th>\n",
       "      <td>23870</td>\n",
       "      <td>12</td>\n",
       "      <td>30</td>\n",
       "      <td>0</td>\n",
       "      <td>200</td>\n",
       "      <td>20261</td>\n",
       "      <td>804</td>\n",
       "      <td>4</td>\n",
       "      <td>0</td>\n",
       "      <td>0</td>\n",
       "      <td>0</td>\n",
       "      <td>0</td>\n",
       "      <td>0</td>\n",
       "    </tr>\n",
       "  </tbody>\n",
       "</table>\n",
       "</div>"
      ],
      "text/plain": [
       "   ip_address  hour  minute  seconds  status  respsize  timed  len  sqlchar  \\\n",
       "0       88643    12      10        0     200     24478    800    5        0   \n",
       "1       88200    12      15        0     200      3243   1431    9        0   \n",
       "2       64556    12      20        0     200     28222    802    5        0   \n",
       "3       16722    12      25        0     200     16281    803    3        0   \n",
       "4       23870    12      30        0     200     20261    804    4        0   \n",
       "\n",
       "   sqlword  xsschar  xssword  passnumber  \n",
       "0        0        0        0           0  \n",
       "1        0        0        0           3  \n",
       "2        0        0        0           0  \n",
       "3        0        0        0           0  \n",
       "4        0        0        0           0  "
      ]
     },
     "execution_count": 17,
     "metadata": {},
     "output_type": "execute_result"
    }
   ],
   "source": [
    "features = list(test_logs.columns[[0,2,3,4,9,10,11,13,14,15,16,17,18]])\n",
    "X = test_logs[features]\n",
    "X.head()"
   ]
  },
  {
   "cell_type": "code",
   "execution_count": 18,
   "metadata": {
    "collapsed": true
   },
   "outputs": [
    {
     "name": "stderr",
     "output_type": "stream",
     "text": [
      "D:\\Anaconda3\\lib\\site-packages\\ipykernel\\__main__.py:4: SettingWithCopyWarning: \n",
      "A value is trying to be set on a copy of a slice from a DataFrame.\n",
      "Try using .loc[row_indexer,col_indexer] = value instead\n",
      "\n",
      "See the caveats in the documentation: http://pandas.pydata.org/pandas-docs/stable/indexing.html#indexing-view-versus-copy\n",
      "D:\\Anaconda3\\lib\\site-packages\\ipykernel\\__main__.py:5: SettingWithCopyWarning: \n",
      "A value is trying to be set on a copy of a slice from a DataFrame.\n",
      "Try using .loc[row_indexer,col_indexer] = value instead\n",
      "\n",
      "See the caveats in the documentation: http://pandas.pydata.org/pandas-docs/stable/indexing.html#indexing-view-versus-copy\n",
      "D:\\Anaconda3\\lib\\site-packages\\ipykernel\\__main__.py:6: SettingWithCopyWarning: \n",
      "A value is trying to be set on a copy of a slice from a DataFrame.\n",
      "Try using .loc[row_indexer,col_indexer] = value instead\n",
      "\n",
      "See the caveats in the documentation: http://pandas.pydata.org/pandas-docs/stable/indexing.html#indexing-view-versus-copy\n"
     ]
    }
   ],
   "source": [
    "def transint(x):\n",
    "    x=int(x)\n",
    "    return(x)\n",
    "X['status']=X['status'].apply(transint)\n",
    "X['respsize']=X['respsize'].apply(transint)\n",
    "X['timed']=X['timed'].apply(transint)"
   ]
  },
  {
   "cell_type": "markdown",
   "metadata": {},
   "source": [
    "#### Nettoyage des labels"
   ]
  },
  {
   "cell_type": "code",
   "execution_count": 21,
   "metadata": {},
   "outputs": [],
   "source": [
    "y = test_logs['label']"
   ]
  },
  {
   "cell_type": "markdown",
   "metadata": {},
   "source": [
    "#### Séparation des données aux train set(70%) et test set(30%)"
   ]
  },
  {
   "cell_type": "code",
   "execution_count": 22,
   "metadata": {
    "collapsed": true
   },
   "outputs": [
    {
     "name": "stderr",
     "output_type": "stream",
     "text": [
      "D:\\Anaconda3\\lib\\site-packages\\sklearn\\cross_validation.py:41: DeprecationWarning: This module was deprecated in version 0.18 in favor of the model_selection module into which all the refactored classes and functions are moved. Also note that the interface of the new CV iterators are different from that of this module. This module will be removed in 0.20.\n",
      "  \"This module will be removed in 0.20.\", DeprecationWarning)\n"
     ]
    }
   ],
   "source": [
    "from sklearn import cross_validation\n",
    "X_train, X_test, y_train, y_test = cross_validation.train_test_split(X, y, test_size=0.3, random_state=0)"
   ]
  },
  {
   "cell_type": "code",
   "execution_count": 24,
   "metadata": {},
   "outputs": [
    {
     "name": "stderr",
     "output_type": "stream",
     "text": [
      "D:\\Anaconda3\\lib\\site-packages\\ipykernel\\__main__.py:6: SettingWithCopyWarning: \n",
      "A value is trying to be set on a copy of a slice from a DataFrame.\n",
      "Try using .loc[row_indexer,col_indexer] = value instead\n",
      "\n",
      "See the caveats in the documentation: http://pandas.pydata.org/pandas-docs/stable/indexing.html#indexing-view-versus-copy\n",
      "D:\\Anaconda3\\lib\\site-packages\\ipykernel\\__main__.py:11: SettingWithCopyWarning: \n",
      "A value is trying to be set on a copy of a slice from a DataFrame.\n",
      "Try using .loc[row_indexer,col_indexer] = value instead\n",
      "\n",
      "See the caveats in the documentation: http://pandas.pydata.org/pandas-docs/stable/indexing.html#indexing-view-versus-copy\n"
     ]
    }
   ],
   "source": [
    "# add \"IP count\" feature\n",
    "list_ip_train=np.array(X_train['ip_address']).tolist()\n",
    "def count_ip_train(x):\n",
    "    ipcount=list_ip_train.count(x)\n",
    "    return(ipcount)\n",
    "X_train['ipcount']=X_train['ip_address'].apply(count_ip_train)\n",
    "list_ip_test=np.array(X_test['ip_address']).tolist()\n",
    "def count_ip_test(x):\n",
    "    ipcount=list_ip_test.count(x)\n",
    "    return(ipcount)\n",
    "X_test['ipcount']=X_test['ip_address'].apply(count_ip_test)"
   ]
  },
  {
   "cell_type": "code",
   "execution_count": 25,
   "metadata": {},
   "outputs": [
    {
     "data": {
      "text/html": [
       "<div>\n",
       "<style scoped>\n",
       "    .dataframe tbody tr th:only-of-type {\n",
       "        vertical-align: middle;\n",
       "    }\n",
       "\n",
       "    .dataframe tbody tr th {\n",
       "        vertical-align: top;\n",
       "    }\n",
       "\n",
       "    .dataframe thead th {\n",
       "        text-align: right;\n",
       "    }\n",
       "</style>\n",
       "<table border=\"1\" class=\"dataframe\">\n",
       "  <thead>\n",
       "    <tr style=\"text-align: right;\">\n",
       "      <th></th>\n",
       "      <th>ip_address</th>\n",
       "      <th>hour</th>\n",
       "      <th>minute</th>\n",
       "      <th>seconds</th>\n",
       "      <th>status</th>\n",
       "      <th>respsize</th>\n",
       "      <th>timed</th>\n",
       "      <th>len</th>\n",
       "      <th>sqlchar</th>\n",
       "      <th>sqlword</th>\n",
       "      <th>xsschar</th>\n",
       "      <th>xssword</th>\n",
       "      <th>passnumber</th>\n",
       "      <th>ipcount</th>\n",
       "    </tr>\n",
       "  </thead>\n",
       "  <tbody>\n",
       "    <tr>\n",
       "      <th>24825</th>\n",
       "      <td>94715</td>\n",
       "      <td>21</td>\n",
       "      <td>40</td>\n",
       "      <td>0</td>\n",
       "      <td>200</td>\n",
       "      <td>28220</td>\n",
       "      <td>736</td>\n",
       "      <td>6</td>\n",
       "      <td>0</td>\n",
       "      <td>0</td>\n",
       "      <td>0</td>\n",
       "      <td>0</td>\n",
       "      <td>0</td>\n",
       "      <td>1</td>\n",
       "    </tr>\n",
       "    <tr>\n",
       "      <th>79636</th>\n",
       "      <td>54454</td>\n",
       "      <td>19</td>\n",
       "      <td>40</td>\n",
       "      <td>0</td>\n",
       "      <td>200</td>\n",
       "      <td>9650</td>\n",
       "      <td>711</td>\n",
       "      <td>4</td>\n",
       "      <td>0</td>\n",
       "      <td>0</td>\n",
       "      <td>0</td>\n",
       "      <td>0</td>\n",
       "      <td>0</td>\n",
       "      <td>1</td>\n",
       "    </tr>\n",
       "  </tbody>\n",
       "</table>\n",
       "</div>"
      ],
      "text/plain": [
       "       ip_address  hour  minute  seconds  status  respsize  timed  len  \\\n",
       "24825       94715    21      40        0     200     28220    736    6   \n",
       "79636       54454    19      40        0     200      9650    711    4   \n",
       "\n",
       "       sqlchar  sqlword  xsschar  xssword  passnumber  ipcount  \n",
       "24825        0        0        0        0           0        1  \n",
       "79636        0        0        0        0           0        1  "
      ]
     },
     "execution_count": 25,
     "metadata": {},
     "output_type": "execute_result"
    }
   ],
   "source": [
    "X_train.head(2)"
   ]
  },
  {
   "cell_type": "markdown",
   "metadata": {},
   "source": [
    "#### Choix des features"
   ]
  },
  {
   "cell_type": "code",
   "execution_count": 26,
   "metadata": {},
   "outputs": [
    {
     "data": {
      "text/plain": [
       "array([1.85096017e-01, 7.08635527e-03, 9.48860291e-02, 0.00000000e+00,\n",
       "       0.00000000e+00, 8.28747325e-03, 3.10021923e-01, 2.26113050e-01,\n",
       "       0.00000000e+00, 1.60654342e-02, 0.00000000e+00, 0.00000000e+00,\n",
       "       1.52340402e-01, 1.03316842e-04])"
      ]
     },
     "execution_count": 26,
     "metadata": {},
     "output_type": "execute_result"
    }
   ],
   "source": [
    "from sklearn.ensemble import ExtraTreesClassifier\n",
    "from sklearn.feature_selection import SelectFromModel\n",
    "clf_f = ExtraTreesClassifier()\n",
    "clf_f = clf_f.fit(X_train, y_train)\n",
    "clf_f.feature_importances_"
   ]
  },
  {
   "cell_type": "code",
   "execution_count": 27,
   "metadata": {},
   "outputs": [
    {
     "name": "stderr",
     "output_type": "stream",
     "text": [
      "D:\\Anaconda3\\lib\\site-packages\\sklearn\\utils\\__init__.py:93: FutureWarning: Conversion of the second argument of issubdtype from `int` to `np.signedinteger` is deprecated. In future, it will be treated as `np.int32 == np.dtype(int).type`.\n",
      "  if np.issubdtype(mask.dtype, np.int):\n"
     ]
    }
   ],
   "source": [
    "model = SelectFromModel(clf_f, prefit=True)\n",
    "X_train_new = model.transform(X_train)\n",
    "X_test_new = model.transform(X_test)"
   ]
  },
  {
   "cell_type": "code",
   "execution_count": 28,
   "metadata": {},
   "outputs": [
    {
     "data": {
      "text/plain": [
       "array([94715,    40,   736,     6,     0], dtype=int64)"
      ]
     },
     "execution_count": 28,
     "metadata": {},
     "output_type": "execute_result"
    }
   ],
   "source": [
    "X_train_new[0]"
   ]
  },
  {
   "cell_type": "markdown",
   "metadata": {},
   "source": [
    "### Détection des attaques en utilisant RandomForest"
   ]
  },
  {
   "cell_type": "code",
   "execution_count": 30,
   "metadata": {
    "scrolled": true
   },
   "outputs": [
    {
     "name": "stdout",
     "output_type": "stream",
     "text": [
      "metrics.confusion_matrix:\n",
      "[[27441     0]\n",
      " [    1  3455]]\n",
      "metrics.accuracy_score:\n",
      "0.9999676343981616\n",
      "metrics.precision_score:\n",
      "1.0\n",
      "metrics.recall_score:\n",
      "0.9997106481481481\n",
      "metrics.f1_score:\n",
      "0.9998553031399219\n",
      "Confusion Matrix Stats\n",
      "no attaque/no attaque: 100.00% (27441/27441)\n",
      "no attaque/attaque: 0.00% (0/27441)\n",
      "attaque/no attaque: 0.03% (1/3456)\n",
      "attaque/attaque: 99.97% (3455/3456)\n"
     ]
    },
    {
     "data": {
      "image/png": "[encoded data removed]",
      "text/plain": [
       "<matplotlib.figure.Figure at 0x910c310e48>"
      ]
     },
     "metadata": {},
     "output_type": "display_data"
    }
   ],
   "source": [
    "from sklearn.ensemble import RandomForestClassifier\n",
    "# classifier\n",
    "clf_rf = RandomForestClassifier(n_estimators= 170, max_depth=11, min_samples_split=2,\n",
    "                                  min_samples_leaf=1)\n",
    "# training\n",
    "clf_rf = clf_rf.fit(X_train_new, y_train)\n",
    "# classification\n",
    "y_pred = clf_rf.predict(X_test_new)\n",
    "# confusion matrix\n",
    "do_metrics(y_test,y_pred)\n",
    "labels = ['no attaque', 'attaque']\n",
    "cm = metrics.confusion_matrix(y_test, y_pred)\n",
    "plot_cm(cm, labels)"
   ]
  }
 ],
 "metadata": {
  "anaconda-cloud": {},
  "kernelspec": {
   "display_name": "Python [default]",
   "language": "python",
   "name": "python3"
  },
  "language_info": {
   "codemirror_mode": {
    "name": "ipython",
    "version": 3
   },
   "file_extension": ".py",
   "mimetype": "text/x-python",
   "name": "python",
   "nbconvert_exporter": "python",
   "pygments_lexer": "ipython3",
   "version": "3.5.2"
  }
 },
 "nbformat": 4,
 "nbformat_minor": 1
}
