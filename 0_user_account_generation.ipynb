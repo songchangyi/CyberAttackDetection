{
 "cells": [
  {
   "cell_type": "markdown",
   "metadata": {},
   "source": [
    "### Import data"
   ]
  },
  {
   "cell_type": "markdown",
   "metadata": {},
   "source": [
    "#### Account (Resource: https://motivesense.com/common-bad-web-usernames/)"
   ]
  },
  {
   "cell_type": "code",
   "execution_count": 3,
   "metadata": {},
   "outputs": [
    {
     "data": {
      "text/plain": [
       "121"
      ]
     },
     "execution_count": 3,
     "metadata": {},
     "output_type": "execute_result"
    }
   ],
   "source": [
    "inputFn = \"bad_username.txt\"\n",
    "with open(inputFn) as inputFileHandle:\n",
    "    bad_username = inputFileHandle.readlines()\n",
    "len(bad_username)"
   ]
  },
  {
   "cell_type": "markdown",
   "metadata": {},
   "source": [
    "#### Password"
   ]
  },
  {
   "cell_type": "code",
   "execution_count": 1,
   "metadata": {},
   "outputs": [
    {
     "data": {
      "text/plain": [
       "['123456\\n', 'password\\n', '12345678\\n', 'qwerty\\n', '123456789\\n']"
      ]
     },
     "execution_count": 1,
     "metadata": {},
     "output_type": "execute_result"
    }
   ],
   "source": [
    "inputFn = \"password_top_100\"\n",
    "with open(inputFn) as inputFileHandle:\n",
    "    password_top_100 = inputFileHandle.readlines()\n",
    "password_top_100[:5]"
   ]
  },
  {
   "cell_type": "markdown",
   "metadata": {},
   "source": [
    "### Combo"
   ]
  },
  {
   "cell_type": "code",
   "execution_count": 4,
   "metadata": {
    "collapsed": true
   },
   "outputs": [],
   "source": [
    "import random"
   ]
  },
  {
   "cell_type": "code",
   "execution_count": 20,
   "metadata": {
    "collapsed": true
   },
   "outputs": [
    {
     "name": "stdout",
     "output_type": "stream",
     "text": [
      "{'home': 'matthew\\n', 'abc123': 'iloveyou\\n', 'baranov': 'football\\n', 'uploader': 'batman\\n', 'alexeev': 'pepper\\n', 'ao': 'matthew\\n', 'moscow': 'aaaaaa\\n', 'advertising': '159753\\n', 'finance': 'hockey\\n', 'abramov': 'buster\\n', 'secretar': '123456\\n', 'mogggnomgon': '6969\\n', 'oracle': 'ranger\\n', 'buhgalteria': 'maggie\\n', 'alexe': 'fuckme\\n', 'marketing': 'freedom\\n', 'support': '111111\\n', 'job': 'asshole\\n', 'sekretar': '1234\\n', '111111': 'andrew\\n', 'buhgalter': 'soccer\\n', 'hr': 'password\\n', 'afanasev': 'summer\\n', 'ingthisleter': 'hockey\\n', 'john': 'access\\n', 'adver': '121212\\n', 'bux': 'asdfgh\\n', 'thisisjusttestletter': 'pussy\\n', 'fin': '987654321\\n', 'avdeev': 'qwerty\\n', 'andre': 'robert\\n', 'glbuh': 'mustang\\n', 'iamjustsendingthisleter': 'qwertyuiop\\n', 'www-data': '123qwe\\n', 'rbury': 'robert\\n', 'trade': 'ashley\\n', 'webmaster': 'thomas\\n', 'agata': 'taylor\\n', 'fabrika': 'joshua\\n', 'sales': 'abc123\\n', 'blinov': 'cheese\\n', 'andreev': 'joshua\\n', 'aozt': 'fuckyou\\n', 'design': 'jennifer\\n', 'dragon': 'daniel\\n', 'root': '1234567\\n', 'bill': 'access\\n', 'corp': 'george\\n', 'er': 'zxcvbnm\\n', 'test': 'chelsea\\n', 'mysql': 'charlie\\n', 'qwerty': '666666\\n', 'aksenov': '123456\\n', 'kadry': 'george\\n', 'user': '000000\\n', 'anya': 'amanda\\n', 'bogdanov': '1234567\\n', 'agafonov': 'joshua\\n', 'contact': 'asdfgh\\n', 'helloitmenice': 'fuckme\\n', 'export': 'george\\n', 'anna': '123456789\\n', 'anatol': 'ginger\\n', 'reklama': '666666\\n', 'email': 'fuck\\n', 'aleksander': 'dragon\\n', 'account': 'michael\\n', 'password': '123321\\n', 'adm': 'soccer\\n', 'info': '112233\\n', 'manager': 'access\\n', 'andrey': 'football\\n', 'glavbux': 'abc123\\n', 'office': 'jessica\\n', 'arhipov': 'fuckme\\n', 'advert': 'dragon\\n', 'company': '1111\\n', 'direktor': '112233\\n', 'glavbuh': 'summer\\n', 'belousov': '1234\\n', 'post': 'michael\\n', 'buhg': 'baseball\\n', 'buh': 'football\\n', 'art': 'princess\\n', 'Baseball': 'austin\\n', 'alekse': 'tigger\\n', 'avto': 'password\\n', 'economist': 'hunter\\n', 'holding': '987654321\\n', 'admin': 'taylor\\n', 'postmaster': '6969\\n', 'expert': '112233\\n', 'director': '1234567890\\n', 'alenka': '12345678\\n', 'administrator': '159753\\n', '123456': 'ashley\\n', 'testing': 'amanda\\n', 'accounting': 'batman\\n', 'mike': 'chelsea\\n', 'petgord34truew': 'klaster\\n', 'catchthismail': '2000\\n', 'ftp': '111111\\n', 'bank': 'killer\\n', 'contactus': 'qazwsx\\n', 'letmein': 'chelsea\\n', 'monkey': '1234567890\\n', 'edu': 'zxcvbnm\\n', 'dir': 'trustno1\\n', 'personal': 'klaster\\n', 'alla': 'abc123\\n', 'billing': 'joshua\\n', 'pr': '131313\\n', 'ok': 'robert\\n', 'aleksandrov': '654321\\n', 'ad': '1234567\\n', 'mail': 'george\\n', 'sale': '1qaz2wsx\\n', '12345678': 'michael\\n', 'business': 'maggie\\n', 'help': '2000\\n', 'bobrov': 'sunshine\\n'}\n"
     ]
    }
   ],
   "source": [
    "combo = {}\n",
    "for user in bad_username:\n",
    "    user = user.replace('\\n','')\n",
    "    combo[user] = password_top_100[random.randint(0, len(password_top_100)-1)]\n",
    "print(combo)"
   ]
  },
  {
   "cell_type": "markdown",
   "metadata": {},
   "source": [
    "#### Save"
   ]
  },
  {
   "cell_type": "code",
   "execution_count": 28,
   "metadata": {},
   "outputs": [],
   "source": [
    "thefile = open('combo_list.txt', 'w')\n",
    "for k,v in combo.items(): \n",
    "    thefile.write(\"%s\\n\" % str([k, v]))"
   ]
  },
  {
   "cell_type": "markdown",
   "metadata": {},
   "source": [
    "### Encryption"
   ]
  },
  {
   "cell_type": "code",
   "execution_count": 33,
   "metadata": {
    "collapsed": true
   },
   "outputs": [
    {
     "name": "stdout",
     "output_type": "stream",
     "text": [
      "{'home': '88f6670dbea39304427dc6df5f30c029', 'abc123': '9aa2a870d0001ea6569ec7ab579bd409', 'baranov': 'a174fdeed30655297c43208a716875b3', '12345678': '3a8c088f9cfe9a0a564fe3fbb277263a', 'alexeev': '514ece4319da928bbd44bb53d923d660', 'ao': '88f6670dbea39304427dc6df5f30c029', 'moscow': 'b1ffb6b5d22cd9f210fbc8b7fdaf0e19', 'advertising': '73d0349abaa9844f454b1350fa8e0a95', 'finance': 'ff01642a6fe6c55b7999d8d6798c73c5', 'abramov': '08476ebefb2e98a93e511134e8627926', 'mogggnomgon': '79f9c3cf1559493a2b36053619f33b52', 'oracle': '56b0207d10ce4354d4e28060efca8f03', 'buhgalteria': '923c1493ae16a344a2c3e2d66b311c1b', 'alexe': '5425494668bbd812ca8bf3ff51355ea7', 'marketing': 'a745d6158302ea63df7a38202af497df', 'support': '77a319564621b96fa0656e24c67960ef', 'job': '7d731d312813e2d699cab6bb7f0448c3', 'sekretar': 'e7df7cd2ca07f4f1ab415d457a6e1c13', '111111': 'a1a71f4b46feaf72bf33627d78bbdc3e', 'buhgalter': '0226baf472475e30a7712b48c33d7d07', 'hr': '286755fad04869ca523320acce0dc6a4', 'economist': '5ba474997fa090f1fd8cd806d60d8213', 'ingthisleter': 'ff01642a6fe6c55b7999d8d6798c73c5', 'ad': '1b504d3328e16fdf281d1fb9516dd90b', 'john': 'a56ffd9f01fa749377cbaea011a57365', 'adver': 'c4d3fa1cbed3f838da59f45b4ff136bd', 'bux': '3ca1b36125cff3edf43a5dca40c53639', 'thisisjusttestletter': '7084a436b3808b98b7ae9a6418b8eb6a', 'fin': '3d319012c6d0be0e1964a70674878d7d', 'avdeev': 'a86850deb2742ec3cb41518e26aa2d89', 'andre': '1824a43316c3b0ce229ba75492d571c5', 'glbuh': 'd3c3ce1b8b4e88e23a04a1f123eeb593', 'iamjustsendingthisleter': '90cc35374d52b2870f705448029cbc04', 'postmaster': '79f9c3cf1559493a2b36053619f33b52', 'rbury': '1824a43316c3b0ce229ba75492d571c5', 'trade': '5cbef845d9a8e0f7b115530cc9001bf0', 'webmaster': 'ccc4a4aa49c50b298595b5fc9dee547b', 'agata': 'b3e2610c632f5b3f7c31e243f9b93679', 'fabrika': '6c18ec1127d5a8951265f35c66b60f82', 'sales': '2c6c8ab6ba8b9c98a1939450eb4089ed', 'blinov': 'be2c38e286fff7df25d17e21294604a8', 'andreev': '6c18ec1127d5a8951265f35c66b60f82', 'aozt': '64ef367018099de4d4183ffa3bc0848a', 'design': '9bf4c002560f3f814ed5cdbeba250808', 'dragon': '2e96b290f6c5ccd2bc6830557c0aba6e', 'root': '1b504d3328e16fdf281d1fb9516dd90b', 'bill': 'a56ffd9f01fa749377cbaea011a57365', 'corp': '58209f2486ba57275e5432a093632bb6', 'er': 'ca260e0426f72e9d87ebd353ec38e15c', 'test': '5b1897f88d8d1e3d703326fd4703a6b3', 'mysql': '742330d6617e449e7bb460e802d50701', 'qwerty': '5196c22f7dd4ef303bb66adba23965bb', 'aksenov': 'f447b20a7fcbf53a5d5be013ea0b15af', 'kadry': '58209f2486ba57275e5432a093632bb6', 'user': 'd232105eb59a344df4b54db1c24009b1', 'anya': '74210b12fc0caf9177fd552e5ff45f88', 'alenka': '23cdc18507b52418db7740cbb5543e54', 'agafonov': '6c18ec1127d5a8951265f35c66b60f82', 'contact': '3ca1b36125cff3edf43a5dca40c53639', 'alla': '2c6c8ab6ba8b9c98a1939450eb4089ed', 'aleksandrov': '4a62cf6ee3f8d889e65af1cc271f20fa', 'andrey': 'a174fdeed30655297c43208a716875b3', 'anna': 'b2cfa4183267af678ea06c7407d4d6d8', 'anatol': '7493d8ff26e55f5b90cb3544f22577ac', 'reklama': '5196c22f7dd4ef303bb66adba23965bb', 'email': '810a5bdaafc6dd30b1d9979215935871', 'aleksander': 'c0ce0dff9996a7d40c1e96a944dd0fc5', 'account': '3a8c088f9cfe9a0a564fe3fbb277263a', 'password': 'db877e831c9d533dd4fa73f16b1d9de6', 'arhipov': '5425494668bbd812ca8bf3ff51355ea7', 'info': 'cc9d7e078ba46da002aba1cf665b0acf', 'manager': 'a56ffd9f01fa749377cbaea011a57365', 'export': '58209f2486ba57275e5432a093632bb6', 'glavbux': '2c6c8ab6ba8b9c98a1939450eb4089ed', 'office': '5f17def7c4112344bc5b8f0a525404e4', 'adm': '0226baf472475e30a7712b48c33d7d07', 'advert': 'c0ce0dff9996a7d40c1e96a944dd0fc5', 'company': '1f18348f32c9a4694f16426798937ae2', 'post': '3a8c088f9cfe9a0a564fe3fbb277263a', 'glavbuh': 'e75e33e14332df297c9ef5ea0cdcd006', 'belousov': 'e7df7cd2ca07f4f1ab415d457a6e1c13', 'direktor': 'cc9d7e078ba46da002aba1cf665b0acf', 'buhg': '5b9d07ad9c1bed09d6986e593f4ca7dc', 'buh': 'a174fdeed30655297c43208a716875b3', 'art': '4f55abe1e695c1468857f3335aba8ad9', 'alekse': '9a67c7914a9d1a069f5925d3bae14658', 'avto': '286755fad04869ca523320acce0dc6a4', 'afanasev': 'e75e33e14332df297c9ef5ea0cdcd006', 'holding': '3d319012c6d0be0e1964a70674878d7d', 'admin': 'b3e2610c632f5b3f7c31e243f9b93679', 'www-data': 'd360cb7f589c1449eb14a9ee4ae5bb8a', 'expert': 'cc9d7e078ba46da002aba1cf665b0acf', 'director': '7c12772809c1c0c3deda6103b10fdfa0', 'bogdanov': '1b504d3328e16fdf281d1fb9516dd90b', 'administrator': '73d0349abaa9844f454b1350fa8e0a95', 'help': 'f95f8943f6dcf7b3c1c8c2cab5455f8b', 'testing': '74210b12fc0caf9177fd552e5ff45f88', 'accounting': 'f6c282d8733da3736c03c2d8d2804e5c', 'mike': '5b1897f88d8d1e3d703326fd4703a6b3', 'petgord34truew': '7f6b21d9ce48e3595827107f73c70eaa', 'catchthismail': 'f95f8943f6dcf7b3c1c8c2cab5455f8b', 'ftp': '77a319564621b96fa0656e24c67960ef', 'bank': 'b38cca5bf1a697a1c4a19e9d1b57cd13', 'contactus': '6ac94831e385d825079895886b371b1f', 'letmein': '5b1897f88d8d1e3d703326fd4703a6b3', 'monkey': '7c12772809c1c0c3deda6103b10fdfa0', 'edu': 'ca260e0426f72e9d87ebd353ec38e15c', 'dir': '2d25ed4f66c1860c4aeeaa667734c466', 'personal': '7f6b21d9ce48e3595827107f73c70eaa', 'secretar': 'f447b20a7fcbf53a5d5be013ea0b15af', 'billing': '6c18ec1127d5a8951265f35c66b60f82', 'pr': '4d46f0aea5c51215c187302f62ddff8f', 'ok': '1824a43316c3b0ce229ba75492d571c5', 'helloitmenice': '5425494668bbd812ca8bf3ff51355ea7', 'uploader': 'f6c282d8733da3736c03c2d8d2804e5c', 'mail': '58209f2486ba57275e5432a093632bb6', 'sale': '925ee55508fa9a7f68e730be20bfa17c', 'Baseball': 'bdb9d90bb01c229d70bcd48afa336538', 'business': '923c1493ae16a344a2c3e2d66b311c1b', '123456': '5cbef845d9a8e0f7b115530cc9001bf0', 'bobrov': 'f6760ba7dd0e677969f6db8bcbad69ef'}\n"
     ]
    }
   ],
   "source": [
    "import hashlib\n",
    "\n",
    "combo_encryption = {}\n",
    "for user,password in combo.items(): \n",
    "    combo_encryption[user] = hashlib.md5(password.encode('utf-8')).hexdigest()\n",
    "print(combo_encryption)"
   ]
  },
  {
   "cell_type": "markdown",
   "metadata": {},
   "source": [
    "#### Save"
   ]
  },
  {
   "cell_type": "code",
   "execution_count": 35,
   "metadata": {
    "collapsed": true
   },
   "outputs": [],
   "source": [
    "thefile = open('combo_list_encryption.txt', 'w')\n",
    "for k,v in combo_encryption.items(): \n",
    "    thefile.write(\"%s\\n\" % str([k, v]))"
   ]
  }
 ],
 "metadata": {
  "anaconda-cloud": {},
  "kernelspec": {
   "display_name": "Python [default]",
   "language": "python",
   "name": "python3"
  },
  "language_info": {
   "codemirror_mode": {
    "name": "ipython",
    "version": 3
   },
   "file_extension": ".py",
   "mimetype": "text/x-python",
   "name": "python",
   "nbconvert_exporter": "python",
   "pygments_lexer": "ipython3",
   "version": "3.5.2"
  }
 },
 "nbformat": 4,
 "nbformat_minor": 1
}
