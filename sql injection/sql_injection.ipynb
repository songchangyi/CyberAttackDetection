{
 "cells": [
  {
   "cell_type": "code",
   "execution_count": 1,
   "metadata": {
    "collapsed": false
   },
   "outputs": [
    {
     "data": {
      "text/plain": [
       "'0.19.1'"
      ]
     },
     "execution_count": 1,
     "metadata": {},
     "output_type": "execute_result"
    }
   ],
   "source": [
    "import sklearn.feature_extraction\n",
    "sklearn.__version__"
   ]
  },
  {
   "cell_type": "code",
   "execution_count": 2,
   "metadata": {
    "collapsed": false
   },
   "outputs": [
    {
     "data": {
      "text/plain": [
       "u'0.20.3'"
      ]
     },
     "execution_count": 2,
     "metadata": {},
     "output_type": "execute_result"
    }
   ],
   "source": [
    "import pandas as pd\n",
    "pd.__version__"
   ]
  },
  {
   "cell_type": "code",
   "execution_count": 3,
   "metadata": {
    "collapsed": true
   },
   "outputs": [],
   "source": [
    "# Plotting defaults\n",
    "import matplotlib.pyplot as plt\n",
    "%matplotlib inline\n",
    "plt.rcParams['font.size'] = 18.0\n",
    "plt.rcParams['figure.figsize'] = 12.0, 5.0"
   ]
  },
  {
   "cell_type": "code",
   "execution_count": 4,
   "metadata": {
    "collapsed": true
   },
   "outputs": [],
   "source": [
    "# A plotting helper method\n",
    "def plot_it(df,label_x,label_y):\n",
    "    fig, ax = plt.subplots(subplot_kw={'axisbg':'#EEEEE5'})\n",
    "    ax.grid(color='grey', linestyle='solid')\n",
    "    df.T.plot(kind='bar', logx=True, rot=0, ax=ax, colormap='PiYG')\n",
    "    ax.legend(loc=0, prop={'size':14})\n",
    "    plt.subplots_adjust(left=0, right=1, bottom=0, top=1, wspace=0, hspace=0)\n",
    "    plt.xlabel(label_x)\n",
    "    plt.ylabel(label_y)\n",
    "    return ax"
   ]
  },
  {
   "cell_type": "code",
   "execution_count": 5,
   "metadata": {
    "collapsed": false
   },
   "outputs": [
    {
     "name": "stdout",
     "output_type": "stream",
     "text": [
      "['activeSQL.txt', 'legit.txt', 'MSSQL.txt', 'mySQL.txt', 'passiveSQL.txt', 'sql.txt', 'SQL_3.txt']\n",
      "legit        4613\n",
      "malicious    4085\n",
      "Name: type, dtype: int64\n"
     ]
    },
    {
     "name": "stderr",
     "output_type": "stream",
     "text": [
      "C:\\Users\\18791\\Anaconda3\\envs\\py\\lib\\site-packages\\ipykernel_launcher.py:7: ParserWarning: Falling back to the 'python' engine because the 'c' engine does not support regex separators (separators > 1 char and different from '\\s+' are interpreted as regex); you can avoid this warning by specifying engine='python'.\n",
      "  import sys\n"
     ]
    },
    {
     "data": {
      "text/html": [
       "<div>\n",
       "<style>\n",
       "    .dataframe thead tr:only-child th {\n",
       "        text-align: right;\n",
       "    }\n",
       "\n",
       "    .dataframe thead th {\n",
       "        text-align: left;\n",
       "    }\n",
       "\n",
       "    .dataframe tbody tr th {\n",
       "        vertical-align: top;\n",
       "    }\n",
       "</style>\n",
       "<table border=\"1\" class=\"dataframe\">\n",
       "  <thead>\n",
       "    <tr style=\"text-align: right;\">\n",
       "      <th></th>\n",
       "      <th>raw_sql</th>\n",
       "      <th>type</th>\n",
       "    </tr>\n",
       "  </thead>\n",
       "  <tbody>\n",
       "    <tr>\n",
       "      <th>0</th>\n",
       "      <td>&lt;!DOCTYPE html&gt;</td>\n",
       "      <td>malicious</td>\n",
       "    </tr>\n",
       "    <tr>\n",
       "      <th>1</th>\n",
       "      <td>&lt;html lang=\"en\"&gt;</td>\n",
       "      <td>malicious</td>\n",
       "    </tr>\n",
       "    <tr>\n",
       "      <th>2</th>\n",
       "      <td>&lt;head&gt;</td>\n",
       "      <td>malicious</td>\n",
       "    </tr>\n",
       "    <tr>\n",
       "      <th>3</th>\n",
       "      <td>&lt;meta charset=\"utf-8\"&gt;</td>\n",
       "      <td>malicious</td>\n",
       "    </tr>\n",
       "    <tr>\n",
       "      <th>4</th>\n",
       "      <td>&lt;link rel=\"dns-prefetch\" href=\"https://assets-...</td>\n",
       "      <td>malicious</td>\n",
       "    </tr>\n",
       "  </tbody>\n",
       "</table>\n",
       "</div>"
      ],
      "text/plain": [
       "                                             raw_sql       type\n",
       "0                                    <!DOCTYPE html>  malicious\n",
       "1                                   <html lang=\"en\">  malicious\n",
       "2                                             <head>  malicious\n",
       "3                             <meta charset=\"utf-8\">  malicious\n",
       "4  <link rel=\"dns-prefetch\" href=\"https://assets-...  malicious"
      ]
     },
     "execution_count": 5,
     "metadata": {},
     "output_type": "execute_result"
    }
   ],
   "source": [
    "import os\n",
    "basedir = './data'\n",
    "filelist = os.listdir(basedir)\n",
    "print(filelist)\n",
    "df_list = []\n",
    "for file in filelist:\n",
    "    df = pd.read_csv(os.path.join(basedir,file), sep='|||', names=['raw_sql'], header=None)\n",
    "    df['type'] = 'legit' if file.split('.')[0] == 'legit' else 'malicious'\n",
    "    df_list.append(df)\n",
    "dataframe = pd.concat(df_list, ignore_index=True)\n",
    "dataframe.dropna(inplace=True)\n",
    "print (dataframe['type'].value_counts())\n",
    "dataframe.head()"
   ]
  },
  {
   "cell_type": "code",
   "execution_count": 6,
   "metadata": {
    "collapsed": false
   },
   "outputs": [
    {
     "name": "stdout",
     "output_type": "stream",
     "text": [
      "/c/Users/18791/Anaconda3/envs/py/python\n"
     ]
    }
   ],
   "source": [
    "!which python"
   ]
  },
  {
   "cell_type": "code",
   "execution_count": 9,
   "metadata": {
    "collapsed": false
   },
   "outputs": [
    {
     "name": "stdout",
     "output_type": "stream",
     "text": [
      "Collecting sqlparse\n",
      "  Downloading sqlparse-0.2.4-py2.py3-none-any.whl\n",
      "Installing collected packages: sqlparse\n",
      "Successfully installed sqlparse-0.2.4\n"
     ]
    }
   ],
   "source": [
    "# Use the SQLParse module: sqlparse is a non-validating SQL parser module for Python\n",
    "# https://github.com/andialbrecht/sqlparse\n",
    "!pip install sqlparse\n",
    "import sqlparse\n",
    "def parse_it(raw_sql):\n",
    "    parsed = sqlparse.parse(unicode(raw_sql,'utf-8'))\n",
    "    return [token._get_repr_name() for parse in parsed for token in parse.tokens if token._get_repr_name() != 'Whitespace']\n",
    "\n",
    "dataframe['parsed_sql'] = dataframe['raw_sql'].map(lambda x: parse_it(x))"
   ]
  },
  {
   "cell_type": "code",
   "execution_count": 11,
   "metadata": {
    "collapsed": false
   },
   "outputs": [
    {
     "data": {
      "text/html": [
       "<div>\n",
       "<style>\n",
       "    .dataframe thead tr:only-child th {\n",
       "        text-align: right;\n",
       "    }\n",
       "\n",
       "    .dataframe thead th {\n",
       "        text-align: left;\n",
       "    }\n",
       "\n",
       "    .dataframe tbody tr th {\n",
       "        vertical-align: top;\n",
       "    }\n",
       "</style>\n",
       "<table border=\"1\" class=\"dataframe\">\n",
       "  <thead>\n",
       "    <tr style=\"text-align: right;\">\n",
       "      <th></th>\n",
       "      <th>raw_sql</th>\n",
       "      <th>type</th>\n",
       "      <th>parsed_sql</th>\n",
       "    </tr>\n",
       "  </thead>\n",
       "  <tbody>\n",
       "    <tr>\n",
       "      <th>0</th>\n",
       "      <td>&lt;!DOCTYPE html&gt;</td>\n",
       "      <td>malicious</td>\n",
       "      <td>[Comparison, Identifier, Comparison]</td>\n",
       "    </tr>\n",
       "    <tr>\n",
       "      <th>1</th>\n",
       "      <td>&lt;html lang=\"en\"&gt;</td>\n",
       "      <td>malicious</td>\n",
       "      <td>[Comparison, Identifier, Comparison, Comparison]</td>\n",
       "    </tr>\n",
       "    <tr>\n",
       "      <th>2</th>\n",
       "      <td>&lt;head&gt;</td>\n",
       "      <td>malicious</td>\n",
       "      <td>[Comparison, Identifier, Comparison]</td>\n",
       "    </tr>\n",
       "    <tr>\n",
       "      <th>3</th>\n",
       "      <td>&lt;meta charset=\"utf-8\"&gt;</td>\n",
       "      <td>malicious</td>\n",
       "      <td>[Comparison, Identifier, Keyword, Comparison, ...</td>\n",
       "    </tr>\n",
       "    <tr>\n",
       "      <th>4</th>\n",
       "      <td>&lt;link rel=\"dns-prefetch\" href=\"https://assets-...</td>\n",
       "      <td>malicious</td>\n",
       "      <td>[Comparison, Keyword, Comparison, Comparison, ...</td>\n",
       "    </tr>\n",
       "  </tbody>\n",
       "</table>\n",
       "</div>"
      ],
      "text/plain": [
       "                                             raw_sql       type  \\\n",
       "0                                    <!DOCTYPE html>  malicious   \n",
       "1                                   <html lang=\"en\">  malicious   \n",
       "2                                             <head>  malicious   \n",
       "3                             <meta charset=\"utf-8\">  malicious   \n",
       "4  <link rel=\"dns-prefetch\" href=\"https://assets-...  malicious   \n",
       "\n",
       "                                          parsed_sql  \n",
       "0               [Comparison, Identifier, Comparison]  \n",
       "1   [Comparison, Identifier, Comparison, Comparison]  \n",
       "2               [Comparison, Identifier, Comparison]  \n",
       "3  [Comparison, Identifier, Keyword, Comparison, ...  \n",
       "4  [Comparison, Keyword, Comparison, Comparison, ...  "
      ]
     },
     "execution_count": 11,
     "metadata": {},
     "output_type": "execute_result"
    }
   ],
   "source": [
    "dataframe.head()"
   ]
  },
  {
   "cell_type": "code",
   "execution_count": 12,
   "metadata": {
    "collapsed": true
   },
   "outputs": [],
   "source": [
    "# Looking at the SQL tokens is 'kinda' interesting but sequences of tokens and transitions\n",
    "# between tokens seems more meaningful so we're also going to compute sequences by\n",
    "# computing NGrams for every SQL statement...\n",
    "def ngrams(lst, N):\n",
    "    ngrams = []\n",
    "    for n in xrange(0,N):\n",
    "        ngrams += zip(*(lst[i:] for i in xrange(n+1)))\n",
    "    return [str(tuple) for tuple in ngrams]"
   ]
  },
  {
   "cell_type": "code",
   "execution_count": 13,
   "metadata": {
    "collapsed": true
   },
   "outputs": [],
   "source": [
    "dataframe['sequences'] = dataframe['parsed_sql'].map(lambda x: ngrams(x, 3))"
   ]
  },
  {
   "cell_type": "code",
   "execution_count": 14,
   "metadata": {
    "collapsed": true
   },
   "outputs": [],
   "source": [
    "# Helper method\n",
    "def token_expansion(series, types):\n",
    "    _tokens, _types = zip(*[(token,token_type) for t_list,token_type in zip(series,types) for token in t_list])\n",
    "    return pd.Series(_tokens), pd.Series(_types)"
   ]
  },
  {
   "cell_type": "code",
   "execution_count": 15,
   "metadata": {
    "collapsed": false
   },
   "outputs": [
    {
     "data": {
      "text/plain": [
       "0       [('Comparison',), ('Identifier',), ('Compariso...\n",
       "1       [('Comparison',), ('Identifier',), ('Compariso...\n",
       "2       [('Comparison',), ('Identifier',), ('Compariso...\n",
       "3       [('Comparison',), ('Identifier',), ('Keyword',...\n",
       "4       [('Comparison',), ('Keyword',), ('Comparison',...\n",
       "5       [('Comparison',), ('Keyword',), ('Comparison',...\n",
       "6       [('Comparison',), ('Keyword',), ('Comparison',...\n",
       "7       [('Comparison',), ('Keyword',), ('Comparison',...\n",
       "8       [('Comparison',), ('Keyword',), ('Comparison',...\n",
       "9       [('Comparison',), ('Keyword',), ('Comparison',...\n",
       "10      [('Comparison',), ('Keyword',), ('Comparison',...\n",
       "11      [('Comparison',), ('Keyword',), ('Comparison',...\n",
       "12      [('Comparison',), ('Keyword',), ('Comparison',...\n",
       "13      [('Comparison',), ('Identifier',), ('Compariso...\n",
       "14      [('Comparison',), ('Comparison',), ('Keyword',...\n",
       "15      [('Comparison',), ('Keyword',), ('Comparison',...\n",
       "16      [('Comparison',), ('Keyword',), ('Comparison',...\n",
       "17      [('Comparison',), ('Identifier',), ('Compariso...\n",
       "18      [('Comparison',), ('Identifier',), ('Compariso...\n",
       "19      [('Comparison',), ('Keyword',), ('Comparison',...\n",
       "20      [('Comparison',), ('Keyword',), ('Comparison',...\n",
       "21      [('Comparison',), ('Identifier',), ('Compariso...\n",
       "22      [('Comparison',), ('Keyword',), ('Comparison',...\n",
       "23      [('Comparison',), ('Identifier',), ('Compariso...\n",
       "24      [('Comparison',), ('Identifier',), ('Compariso...\n",
       "25      [('Comparison',), ('Identifier',), ('Compariso...\n",
       "26      [('Comparison',), ('Identifier',), ('Compariso...\n",
       "27      [('Comparison',), ('Identifier',), ('Compariso...\n",
       "28      [('Comparison',), ('Identifier',), ('Compariso...\n",
       "29      [('Comparison',), ('Identifier',), ('Compariso...\n",
       "                              ...                        \n",
       "8668    [('Comparison',), ('Identifier',), ('Keyword',...\n",
       "8669    [('Comparison',), ('Comparison',), ('Compariso...\n",
       "8670    [('Comparison',), ('Operator',), ('Identifier'...\n",
       "8671    [('Comparison',), ('Operator',), ('Identifier'...\n",
       "8672    [('Comparison',), ('Operator',), ('Identifier'...\n",
       "8673    [('Comparison',), ('Identifier',), ('Compariso...\n",
       "8674    [('Comparison',), ('Identifier',), ('Compariso...\n",
       "8675    [('Comparison',), ('Identifier',), ('Keyword',...\n",
       "8676    [('Comparison',), ('Identifier',), ('Compariso...\n",
       "8677    [('Comparison',), ('Operator',), ('Identifier'...\n",
       "8678    [('Identifier',), ('Error',), ('Identifier',),...\n",
       "8679    [('Comparison',), ('Operator',), ('Identifier'...\n",
       "8680    [('Comparison',), ('Identifier',), ('Compariso...\n",
       "8681    [('Comparison',), ('Identifier',), ('Compariso...\n",
       "8682    [('Comparison',), ('Identifier',), ('Keyword',...\n",
       "8683    [('Comparison',), ('Identifier',), ('Compariso...\n",
       "8684    [('Comparison',), ('Identifier',), ('Keyword',...\n",
       "8685    [('Comparison',), ('Identifier',), ('Keyword',...\n",
       "8686    [('Comparison',), ('Operator',), ('Identifier'...\n",
       "8687    [('Comparison',), ('Identifier',), ('Keyword',...\n",
       "8688    [('Comparison',), ('Identifier',), ('Keyword',...\n",
       "8689    [('Comparison',), ('Identifier',), ('Keyword',...\n",
       "8690    [('Comparison',), ('Operator',), ('Identifier'...\n",
       "8691    [('Comparison',), ('Identifier',), ('Keyword',...\n",
       "8692    [('Comparison',), ('Identifier',), ('Compariso...\n",
       "8693    [('Comparison',), ('Operator',), ('Identifier'...\n",
       "8694    [('Comparison',), ('Operator',), ('Identifier'...\n",
       "8695    [('Comparison',), ('Operator',), ('Identifier'...\n",
       "8696    [('Comparison',), ('Operator',), ('Keyword',),...\n",
       "8697    [('Comparison',), ('Operator',), ('Identifier'...\n",
       "Name: sequences, Length: 8698, dtype: object"
      ]
     },
     "execution_count": 15,
     "metadata": {},
     "output_type": "execute_result"
    }
   ],
   "source": [
    "dataframe['sequences']"
   ]
  },
  {
   "cell_type": "code",
   "execution_count": 19,
   "metadata": {
    "collapsed": false
   },
   "outputs": [
    {
     "data": {
      "text/html": [
       "<div>\n",
       "<style>\n",
       "    .dataframe thead tr:only-child th {\n",
       "        text-align: right;\n",
       "    }\n",
       "\n",
       "    .dataframe thead th {\n",
       "        text-align: left;\n",
       "    }\n",
       "\n",
       "    .dataframe tbody tr th {\n",
       "        vertical-align: top;\n",
       "    }\n",
       "</style>\n",
       "<table border=\"1\" class=\"dataframe\">\n",
       "  <thead>\n",
       "    <tr style=\"text-align: right;\">\n",
       "      <th></th>\n",
       "      <th>legit</th>\n",
       "      <th>malicious</th>\n",
       "      <th>legit_cd</th>\n",
       "      <th>malicious_cd</th>\n",
       "      <th>total_cd</th>\n",
       "      <th>legit_exp</th>\n",
       "      <th>legit_g</th>\n",
       "      <th>malicious_exp</th>\n",
       "      <th>malicious_g</th>\n",
       "    </tr>\n",
       "  </thead>\n",
       "  <tbody>\n",
       "    <tr>\n",
       "      <th>('Comparison',)</th>\n",
       "      <td>18363.0</td>\n",
       "      <td>14962.0</td>\n",
       "      <td>0.551028</td>\n",
       "      <td>0.448972</td>\n",
       "      <td>33325.0</td>\n",
       "      <td>21463.431599</td>\n",
       "      <td>-5729.728320</td>\n",
       "      <td>11861.568401</td>\n",
       "      <td>6948.652809</td>\n",
       "    </tr>\n",
       "    <tr>\n",
       "      <th>('Comparison', 'Comparison')</th>\n",
       "      <td>415.0</td>\n",
       "      <td>2055.0</td>\n",
       "      <td>0.168016</td>\n",
       "      <td>0.831984</td>\n",
       "      <td>2470.0</td>\n",
       "      <td>1590.837991</td>\n",
       "      <td>-1115.302270</td>\n",
       "      <td>879.162009</td>\n",
       "      <td>3489.644555</td>\n",
       "    </tr>\n",
       "    <tr>\n",
       "      <th>('Keyword', 'Comparison')</th>\n",
       "      <td>2616.0</td>\n",
       "      <td>2680.0</td>\n",
       "      <td>0.493958</td>\n",
       "      <td>0.506042</td>\n",
       "      <td>5296.0</td>\n",
       "      <td>3410.962753</td>\n",
       "      <td>-1388.301522</td>\n",
       "      <td>1885.037247</td>\n",
       "      <td>1886.018988</td>\n",
       "    </tr>\n",
       "    <tr>\n",
       "      <th>('Identifier', 'Keyword', 'Comparison')</th>\n",
       "      <td>277.0</td>\n",
       "      <td>1063.0</td>\n",
       "      <td>0.206716</td>\n",
       "      <td>0.793284</td>\n",
       "      <td>1340.0</td>\n",
       "      <td>863.045712</td>\n",
       "      <td>-629.593384</td>\n",
       "      <td>476.954288</td>\n",
       "      <td>1703.839593</td>\n",
       "    </tr>\n",
       "    <tr>\n",
       "      <th>('Operator', 'Comparison')</th>\n",
       "      <td>159.0</td>\n",
       "      <td>935.0</td>\n",
       "      <td>0.145338</td>\n",
       "      <td>0.854662</td>\n",
       "      <td>1094.0</td>\n",
       "      <td>704.605977</td>\n",
       "      <td>-473.417586</td>\n",
       "      <td>389.394023</td>\n",
       "      <td>1638.035447</td>\n",
       "    </tr>\n",
       "    <tr>\n",
       "      <th>('Comparison', 'Identifier')</th>\n",
       "      <td>6660.0</td>\n",
       "      <td>4781.0</td>\n",
       "      <td>0.582117</td>\n",
       "      <td>0.417883</td>\n",
       "      <td>11441.0</td>\n",
       "      <td>7368.735812</td>\n",
       "      <td>-1347.007315</td>\n",
       "      <td>4072.264188</td>\n",
       "      <td>1534.228381</td>\n",
       "    </tr>\n",
       "    <tr>\n",
       "      <th>('Keyword', 'Comparison', 'Identifier')</th>\n",
       "      <td>2307.0</td>\n",
       "      <td>2236.0</td>\n",
       "      <td>0.507814</td>\n",
       "      <td>0.492186</td>\n",
       "      <td>4543.0</td>\n",
       "      <td>2925.982588</td>\n",
       "      <td>-1096.666468</td>\n",
       "      <td>1617.017412</td>\n",
       "      <td>1449.398485</td>\n",
       "    </tr>\n",
       "    <tr>\n",
       "      <th>('Comparison', 'Operator')</th>\n",
       "      <td>3425.0</td>\n",
       "      <td>2773.0</td>\n",
       "      <td>0.552598</td>\n",
       "      <td>0.447402</td>\n",
       "      <td>6198.0</td>\n",
       "      <td>3991.908449</td>\n",
       "      <td>-1049.200476</td>\n",
       "      <td>2206.091551</td>\n",
       "      <td>1268.410939</td>\n",
       "    </tr>\n",
       "    <tr>\n",
       "      <th>('Identifier', 'Comparison', 'Comparison')</th>\n",
       "      <td>110.0</td>\n",
       "      <td>657.0</td>\n",
       "      <td>0.143416</td>\n",
       "      <td>0.856584</td>\n",
       "      <td>767.0</td>\n",
       "      <td>493.997060</td>\n",
       "      <td>-330.450824</td>\n",
       "      <td>273.002940</td>\n",
       "      <td>1153.956712</td>\n",
       "    </tr>\n",
       "    <tr>\n",
       "      <th>('Comparison', 'Comparison', 'Comparison')</th>\n",
       "      <td>107.0</td>\n",
       "      <td>620.0</td>\n",
       "      <td>0.147180</td>\n",
       "      <td>0.852820</td>\n",
       "      <td>727.0</td>\n",
       "      <td>468.234502</td>\n",
       "      <td>-315.894047</td>\n",
       "      <td>258.765498</td>\n",
       "      <td>1083.508576</td>\n",
       "    </tr>\n",
       "  </tbody>\n",
       "</table>\n",
       "</div>"
      ],
      "text/plain": [
       "                                              legit  malicious  legit_cd  \\\n",
       "('Comparison',)                             18363.0    14962.0  0.551028   \n",
       "('Comparison', 'Comparison')                  415.0     2055.0  0.168016   \n",
       "('Keyword', 'Comparison')                    2616.0     2680.0  0.493958   \n",
       "('Identifier', 'Keyword', 'Comparison')       277.0     1063.0  0.206716   \n",
       "('Operator', 'Comparison')                    159.0      935.0  0.145338   \n",
       "('Comparison', 'Identifier')                 6660.0     4781.0  0.582117   \n",
       "('Keyword', 'Comparison', 'Identifier')      2307.0     2236.0  0.507814   \n",
       "('Comparison', 'Operator')                   3425.0     2773.0  0.552598   \n",
       "('Identifier', 'Comparison', 'Comparison')    110.0      657.0  0.143416   \n",
       "('Comparison', 'Comparison', 'Comparison')    107.0      620.0  0.147180   \n",
       "\n",
       "                                            malicious_cd  total_cd  \\\n",
       "('Comparison',)                                 0.448972   33325.0   \n",
       "('Comparison', 'Comparison')                    0.831984    2470.0   \n",
       "('Keyword', 'Comparison')                       0.506042    5296.0   \n",
       "('Identifier', 'Keyword', 'Comparison')         0.793284    1340.0   \n",
       "('Operator', 'Comparison')                      0.854662    1094.0   \n",
       "('Comparison', 'Identifier')                    0.417883   11441.0   \n",
       "('Keyword', 'Comparison', 'Identifier')         0.492186    4543.0   \n",
       "('Comparison', 'Operator')                      0.447402    6198.0   \n",
       "('Identifier', 'Comparison', 'Comparison')      0.856584     767.0   \n",
       "('Comparison', 'Comparison', 'Comparison')      0.852820     727.0   \n",
       "\n",
       "                                               legit_exp      legit_g  \\\n",
       "('Comparison',)                             21463.431599 -5729.728320   \n",
       "('Comparison', 'Comparison')                 1590.837991 -1115.302270   \n",
       "('Keyword', 'Comparison')                    3410.962753 -1388.301522   \n",
       "('Identifier', 'Keyword', 'Comparison')       863.045712  -629.593384   \n",
       "('Operator', 'Comparison')                    704.605977  -473.417586   \n",
       "('Comparison', 'Identifier')                 7368.735812 -1347.007315   \n",
       "('Keyword', 'Comparison', 'Identifier')      2925.982588 -1096.666468   \n",
       "('Comparison', 'Operator')                   3991.908449 -1049.200476   \n",
       "('Identifier', 'Comparison', 'Comparison')    493.997060  -330.450824   \n",
       "('Comparison', 'Comparison', 'Comparison')    468.234502  -315.894047   \n",
       "\n",
       "                                            malicious_exp  malicious_g  \n",
       "('Comparison',)                              11861.568401  6948.652809  \n",
       "('Comparison', 'Comparison')                   879.162009  3489.644555  \n",
       "('Keyword', 'Comparison')                     1885.037247  1886.018988  \n",
       "('Identifier', 'Keyword', 'Comparison')        476.954288  1703.839593  \n",
       "('Operator', 'Comparison')                     389.394023  1638.035447  \n",
       "('Comparison', 'Identifier')                  4072.264188  1534.228381  \n",
       "('Keyword', 'Comparison', 'Identifier')       1617.017412  1449.398485  \n",
       "('Comparison', 'Operator')                    2206.091551  1268.410939  \n",
       "('Identifier', 'Comparison', 'Comparison')     273.002940  1153.956712  \n",
       "('Comparison', 'Comparison', 'Comparison')     258.765498  1083.508576  "
      ]
     },
     "execution_count": 19,
     "metadata": {},
     "output_type": "execute_result"
    }
   ],
   "source": [
    "# The data hacking repository has a simple stats module we're going to use\n",
    "\n",
    "import data_hacking.simple_stats as ss\n",
    "\n",
    "# Spin up our g_test class\n",
    "g_test = ss.GTest()\n",
    "\n",
    "# Here we'd like to see how various sql tokens and transitions are related.\n",
    "# Is there an association with particular token sets and malicious SQL statements.\n",
    "tokens, types = token_expansion(dataframe['sequences'], dataframe['type'])\n",
    "df_ct, df_cd, df_stats = g_test.highest_gtest_scores(tokens, types, matches=0, N=0)\n",
    "\n",
    "df_stats.sort_values('malicious_g', ascending=0).head(10)\n",
    "\n",
    "# The table below shows raw counts, conditional distributions, expected counts, and g-test score."
   ]
  },
  {
   "cell_type": "code",
   "execution_count": 20,
   "metadata": {
    "collapsed": false
   },
   "outputs": [
    {
     "name": "stderr",
     "output_type": "stream",
     "text": [
      "C:\\Users\\18791\\Anaconda3\\envs\\py\\lib\\site-packages\\matplotlib\\cbook\\deprecation.py:106: MatplotlibDeprecationWarning: The axisbg attribute was deprecated in version 2.0. Use facecolor instead.\n",
      "  warnings.warn(message, mplDeprecation, stacklevel=1)\n",
      "C:\\Users\\18791\\Anaconda3\\envs\\py\\lib\\site-packages\\matplotlib\\ticker.py:2210: UserWarning: Data has no positive values, and therefore cannot be log-scaled.\n",
      "  \"Data has no positive values, and therefore cannot be \"\n",
      "C:\\Users\\18791\\Anaconda3\\envs\\py\\lib\\site-packages\\matplotlib\\axes\\_base.py:2923: UserWarning: Attempted to set non-positive xlimits for log-scale axis; invalid limits will be ignored.\n",
      "  'Attempted to set non-positive xlimits for log-scale axis; '\n"
     ]
    },
    {
     "data": {
      "text/plain": [
       "(0.2, 1.4)"
      ]
     },
     "execution_count": 20,
     "metadata": {},
     "output_type": "execute_result"
    },
    {
     "data": {
      "image/png": "[encoded data removed]",
      "text/plain": [
       "<matplotlib.figure.Figure at 0xaf75b38>"
      ]
     },
     "metadata": {},
     "output_type": "display_data"
    }
   ],
   "source": [
    "sorted_df = df_stats.sort_values('malicious_g', ascending=0)\n",
    "naughty = sorted_df.head(7)\n",
    "nice = sorted_df.tail(7).sort_values('malicious_g', ascending=0)\n",
    "naughty_and_nice = pd.concat([naughty, nice])\n",
    "ax = plot_it(naughty_and_nice[['malicious_g']],'SQL Command Types','G-Test Scores')\n",
    "ax.set_xlim(.2, 1.4)"
   ]
  },
  {
   "cell_type": "code",
   "execution_count": 21,
   "metadata": {
    "collapsed": false
   },
   "outputs": [
    {
     "data": {
      "text/html": [
       "<div>\n",
       "<style>\n",
       "    .dataframe thead tr:only-child th {\n",
       "        text-align: right;\n",
       "    }\n",
       "\n",
       "    .dataframe thead th {\n",
       "        text-align: left;\n",
       "    }\n",
       "\n",
       "    .dataframe tbody tr th {\n",
       "        vertical-align: top;\n",
       "    }\n",
       "</style>\n",
       "<table border=\"1\" class=\"dataframe\">\n",
       "  <thead>\n",
       "    <tr style=\"text-align: right;\">\n",
       "      <th></th>\n",
       "      <th>raw_sql</th>\n",
       "      <th>type</th>\n",
       "      <th>parsed_sql</th>\n",
       "      <th>sequences</th>\n",
       "    </tr>\n",
       "  </thead>\n",
       "  <tbody>\n",
       "  </tbody>\n",
       "</table>\n",
       "</div>"
      ],
      "text/plain": [
       "Empty DataFrame\n",
       "Columns: [raw_sql, type, parsed_sql, sequences]\n",
       "Index: []"
      ]
     },
     "execution_count": 21,
     "metadata": {},
     "output_type": "execute_result"
    }
   ],
   "source": [
    "dataframe[dataframe['sequences'].map(lambda x: \"('Single', 'Identifier')\" in x)].head()"
   ]
  },
  {
   "cell_type": "code",
   "execution_count": 22,
   "metadata": {
    "collapsed": false
   },
   "outputs": [
    {
     "data": {
      "text/html": [
       "<div>\n",
       "<style>\n",
       "    .dataframe thead tr:only-child th {\n",
       "        text-align: right;\n",
       "    }\n",
       "\n",
       "    .dataframe thead th {\n",
       "        text-align: left;\n",
       "    }\n",
       "\n",
       "    .dataframe tbody tr th {\n",
       "        vertical-align: top;\n",
       "    }\n",
       "</style>\n",
       "<table border=\"1\" class=\"dataframe\">\n",
       "  <thead>\n",
       "    <tr style=\"text-align: right;\">\n",
       "      <th></th>\n",
       "      <th>raw_sql</th>\n",
       "      <th>type</th>\n",
       "      <th>parsed_sql</th>\n",
       "      <th>sequences</th>\n",
       "    </tr>\n",
       "  </thead>\n",
       "  <tbody>\n",
       "    <tr>\n",
       "      <th>368</th>\n",
       "      <td>&lt;i&gt;Branch:&lt;/i&gt;</td>\n",
       "      <td>malicious</td>\n",
       "      <td>[Comparison, Comparison, Punctuation, Comparis...</td>\n",
       "      <td>[('Comparison',), ('Comparison',), ('Punctuati...</td>\n",
       "    </tr>\n",
       "    <tr>\n",
       "      <th>529</th>\n",
       "      <td>&lt;td id=\"LC1\" class=\"blob-code blob-code-inner ...</td>\n",
       "      <td>malicious</td>\n",
       "      <td>[Comparison, Identifier, Comparison, Keyword, ...</td>\n",
       "      <td>[('Comparison',), ('Identifier',), ('Compariso...</td>\n",
       "    </tr>\n",
       "    <tr>\n",
       "      <th>533</th>\n",
       "      <td>&lt;td id=\"LC2\" class=\"blob-code blob-code-inner ...</td>\n",
       "      <td>malicious</td>\n",
       "      <td>[Comparison, Identifier, Comparison, Keyword, ...</td>\n",
       "      <td>[('Comparison',), ('Identifier',), ('Compariso...</td>\n",
       "    </tr>\n",
       "    <tr>\n",
       "      <th>537</th>\n",
       "      <td>&lt;td id=\"LC3\" class=\"blob-code blob-code-inner ...</td>\n",
       "      <td>malicious</td>\n",
       "      <td>[Comparison, Identifier, Comparison, Keyword, ...</td>\n",
       "      <td>[('Comparison',), ('Identifier',), ('Compariso...</td>\n",
       "    </tr>\n",
       "    <tr>\n",
       "      <th>541</th>\n",
       "      <td>&lt;td id=\"LC4\" class=\"blob-code blob-code-inner ...</td>\n",
       "      <td>malicious</td>\n",
       "      <td>[Comparison, Identifier, Comparison, Keyword, ...</td>\n",
       "      <td>[('Comparison',), ('Identifier',), ('Compariso...</td>\n",
       "    </tr>\n",
       "  </tbody>\n",
       "</table>\n",
       "</div>"
      ],
      "text/plain": [
       "                                               raw_sql       type  \\\n",
       "368                                     <i>Branch:</i>  malicious   \n",
       "529  <td id=\"LC1\" class=\"blob-code blob-code-inner ...  malicious   \n",
       "533  <td id=\"LC2\" class=\"blob-code blob-code-inner ...  malicious   \n",
       "537  <td id=\"LC3\" class=\"blob-code blob-code-inner ...  malicious   \n",
       "541  <td id=\"LC4\" class=\"blob-code blob-code-inner ...  malicious   \n",
       "\n",
       "                                            parsed_sql  \\\n",
       "368  [Comparison, Comparison, Punctuation, Comparis...   \n",
       "529  [Comparison, Identifier, Comparison, Keyword, ...   \n",
       "533  [Comparison, Identifier, Comparison, Keyword, ...   \n",
       "537  [Comparison, Identifier, Comparison, Keyword, ...   \n",
       "541  [Comparison, Identifier, Comparison, Keyword, ...   \n",
       "\n",
       "                                             sequences  \n",
       "368  [('Comparison',), ('Comparison',), ('Punctuati...  \n",
       "529  [('Comparison',), ('Identifier',), ('Compariso...  \n",
       "533  [('Comparison',), ('Identifier',), ('Compariso...  \n",
       "537  [('Comparison',), ('Identifier',), ('Compariso...  \n",
       "541  [('Comparison',), ('Identifier',), ('Compariso...  "
      ]
     },
     "execution_count": 22,
     "metadata": {},
     "output_type": "execute_result"
    }
   ],
   "source": [
    "\n",
    "dataframe[dataframe['sequences'].map(lambda x: \"('Punctuation',)\" in x)].head()"
   ]
  },
  {
   "cell_type": "code",
   "execution_count": 23,
   "metadata": {
    "collapsed": false
   },
   "outputs": [
    {
     "data": {
      "text/html": [
       "<div>\n",
       "<style>\n",
       "    .dataframe thead tr:only-child th {\n",
       "        text-align: right;\n",
       "    }\n",
       "\n",
       "    .dataframe thead th {\n",
       "        text-align: left;\n",
       "    }\n",
       "\n",
       "    .dataframe tbody tr th {\n",
       "        vertical-align: top;\n",
       "    }\n",
       "</style>\n",
       "<table border=\"1\" class=\"dataframe\">\n",
       "  <thead>\n",
       "    <tr style=\"text-align: right;\">\n",
       "      <th></th>\n",
       "      <th>raw_sql</th>\n",
       "      <th>type</th>\n",
       "      <th>parsed_sql</th>\n",
       "      <th>sequences</th>\n",
       "      <th>length</th>\n",
       "      <th>entropy</th>\n",
       "    </tr>\n",
       "  </thead>\n",
       "  <tbody>\n",
       "    <tr>\n",
       "      <th>0</th>\n",
       "      <td>&lt;!DOCTYPE html&gt;</td>\n",
       "      <td>malicious</td>\n",
       "      <td>[Comparison, Identifier, Comparison]</td>\n",
       "      <td>[('Comparison',), ('Identifier',), ('Compariso...</td>\n",
       "      <td>3</td>\n",
       "      <td>3.906891</td>\n",
       "    </tr>\n",
       "    <tr>\n",
       "      <th>1</th>\n",
       "      <td>&lt;html lang=\"en\"&gt;</td>\n",
       "      <td>malicious</td>\n",
       "      <td>[Comparison, Identifier, Comparison, Comparison]</td>\n",
       "      <td>[('Comparison',), ('Identifier',), ('Compariso...</td>\n",
       "      <td>4</td>\n",
       "      <td>3.625000</td>\n",
       "    </tr>\n",
       "    <tr>\n",
       "      <th>2</th>\n",
       "      <td>&lt;head&gt;</td>\n",
       "      <td>malicious</td>\n",
       "      <td>[Comparison, Identifier, Comparison]</td>\n",
       "      <td>[('Comparison',), ('Identifier',), ('Compariso...</td>\n",
       "      <td>3</td>\n",
       "      <td>2.584963</td>\n",
       "    </tr>\n",
       "    <tr>\n",
       "      <th>3</th>\n",
       "      <td>&lt;meta charset=\"utf-8\"&gt;</td>\n",
       "      <td>malicious</td>\n",
       "      <td>[Comparison, Identifier, Keyword, Comparison, ...</td>\n",
       "      <td>[('Comparison',), ('Identifier',), ('Keyword',...</td>\n",
       "      <td>6</td>\n",
       "      <td>3.970573</td>\n",
       "    </tr>\n",
       "    <tr>\n",
       "      <th>4</th>\n",
       "      <td>&lt;link rel=\"dns-prefetch\" href=\"https://assets-...</td>\n",
       "      <td>malicious</td>\n",
       "      <td>[Comparison, Keyword, Comparison, Comparison, ...</td>\n",
       "      <td>[('Comparison',), ('Keyword',), ('Comparison',...</td>\n",
       "      <td>5</td>\n",
       "      <td>4.581719</td>\n",
       "    </tr>\n",
       "  </tbody>\n",
       "</table>\n",
       "</div>"
      ],
      "text/plain": [
       "                                             raw_sql       type  \\\n",
       "0                                    <!DOCTYPE html>  malicious   \n",
       "1                                   <html lang=\"en\">  malicious   \n",
       "2                                             <head>  malicious   \n",
       "3                             <meta charset=\"utf-8\">  malicious   \n",
       "4  <link rel=\"dns-prefetch\" href=\"https://assets-...  malicious   \n",
       "\n",
       "                                          parsed_sql  \\\n",
       "0               [Comparison, Identifier, Comparison]   \n",
       "1   [Comparison, Identifier, Comparison, Comparison]   \n",
       "2               [Comparison, Identifier, Comparison]   \n",
       "3  [Comparison, Identifier, Keyword, Comparison, ...   \n",
       "4  [Comparison, Keyword, Comparison, Comparison, ...   \n",
       "\n",
       "                                           sequences  length   entropy  \n",
       "0  [('Comparison',), ('Identifier',), ('Compariso...       3  3.906891  \n",
       "1  [('Comparison',), ('Identifier',), ('Compariso...       4  3.625000  \n",
       "2  [('Comparison',), ('Identifier',), ('Compariso...       3  2.584963  \n",
       "3  [('Comparison',), ('Identifier',), ('Keyword',...       6  3.970573  \n",
       "4  [('Comparison',), ('Keyword',), ('Comparison',...       5  4.581719  "
      ]
     },
     "execution_count": 23,
     "metadata": {},
     "output_type": "execute_result"
    }
   ],
   "source": [
    "import math\n",
    "from collections import Counter\n",
    "def entropy(s):\n",
    "    p, lns = Counter(s), float(len(s))\n",
    "    return -sum( count/lns * math.log(count/lns, 2) for count in p.values())\n",
    "dataframe['length'] = dataframe['parsed_sql'].map(lambda x: len(x))\n",
    "dataframe['entropy'] = dataframe['raw_sql'].map(lambda x: entropy(x))\n",
    "dataframe.head()"
   ]
  },
  {
   "cell_type": "code",
   "execution_count": 24,
   "metadata": {
    "collapsed": false
   },
   "outputs": [
    {
     "name": "stderr",
     "output_type": "stream",
     "text": [
      "C:\\Users\\18791\\Anaconda3\\envs\\py\\lib\\site-packages\\ipykernel_launcher.py:4: DeprecationWarning: \n",
      ".ix is deprecated. Please use\n",
      ".loc for label based indexing or\n",
      ".iloc for positional indexing\n",
      "\n",
      "See the documentation here:\n",
      "http://pandas.pydata.org/pandas-docs/stable/indexing.html#ix-indexer-is-deprecated\n",
      "  after removing the cwd from sys.path.\n"
     ]
    }
   ],
   "source": [
    "import numpy as np\n",
    "def g_aggregate(sequence, name):\n",
    "    try:\n",
    "        g_scores = [df_stats.ix[item][name] for item in sequence]\n",
    "    except KeyError:\n",
    "        return 0\n",
    "    return sum(g_scores)/len(g_scores) if g_scores else 0 # Average\n",
    "dataframe['malicious_g'] = dataframe['sequences'].map(lambda x: g_aggregate(x, 'malicious_g'))\n",
    "dataframe['legit_g'] = dataframe['sequences'].map(lambda x: g_aggregate(x, 'legit_g'))"
   ]
  },
  {
   "cell_type": "code",
   "execution_count": 25,
   "metadata": {
    "collapsed": false
   },
   "outputs": [
    {
     "data": {
      "text/html": [
       "<div>\n",
       "<style>\n",
       "    .dataframe thead tr:only-child th {\n",
       "        text-align: right;\n",
       "    }\n",
       "\n",
       "    .dataframe thead th {\n",
       "        text-align: left;\n",
       "    }\n",
       "\n",
       "    .dataframe tbody tr th {\n",
       "        vertical-align: top;\n",
       "    }\n",
       "</style>\n",
       "<table border=\"1\" class=\"dataframe\">\n",
       "  <thead>\n",
       "    <tr style=\"text-align: right;\">\n",
       "      <th></th>\n",
       "      <th>raw_sql</th>\n",
       "      <th>type</th>\n",
       "      <th>parsed_sql</th>\n",
       "      <th>sequences</th>\n",
       "      <th>length</th>\n",
       "      <th>entropy</th>\n",
       "      <th>malicious_g</th>\n",
       "      <th>legit_g</th>\n",
       "    </tr>\n",
       "  </thead>\n",
       "  <tbody>\n",
       "    <tr>\n",
       "      <th>0</th>\n",
       "      <td>&lt;!DOCTYPE html&gt;</td>\n",
       "      <td>malicious</td>\n",
       "      <td>[Comparison, Identifier, Comparison]</td>\n",
       "      <td>[('Comparison',), ('Identifier',), ('Compariso...</td>\n",
       "      <td>3</td>\n",
       "      <td>3.906891</td>\n",
       "      <td>2785.017554</td>\n",
       "      <td>-2340.129251</td>\n",
       "    </tr>\n",
       "    <tr>\n",
       "      <th>1</th>\n",
       "      <td>&lt;html lang=\"en\"&gt;</td>\n",
       "      <td>malicious</td>\n",
       "      <td>[Comparison, Identifier, Comparison, Comparison]</td>\n",
       "      <td>[('Comparison',), ('Identifier',), ('Compariso...</td>\n",
       "      <td>4</td>\n",
       "      <td>3.625000</td>\n",
       "      <td>3144.706600</td>\n",
       "      <td>-2357.361880</td>\n",
       "    </tr>\n",
       "    <tr>\n",
       "      <th>2</th>\n",
       "      <td>&lt;head&gt;</td>\n",
       "      <td>malicious</td>\n",
       "      <td>[Comparison, Identifier, Comparison]</td>\n",
       "      <td>[('Comparison',), ('Identifier',), ('Compariso...</td>\n",
       "      <td>3</td>\n",
       "      <td>2.584963</td>\n",
       "      <td>2785.017554</td>\n",
       "      <td>-2340.129251</td>\n",
       "    </tr>\n",
       "    <tr>\n",
       "      <th>3</th>\n",
       "      <td>&lt;meta charset=\"utf-8\"&gt;</td>\n",
       "      <td>malicious</td>\n",
       "      <td>[Comparison, Identifier, Keyword, Comparison, ...</td>\n",
       "      <td>[('Comparison',), ('Identifier',), ('Keyword',...</td>\n",
       "      <td>6</td>\n",
       "      <td>3.970573</td>\n",
       "      <td>2189.123708</td>\n",
       "      <td>-1760.772330</td>\n",
       "    </tr>\n",
       "    <tr>\n",
       "      <th>4</th>\n",
       "      <td>&lt;link rel=\"dns-prefetch\" href=\"https://assets-...</td>\n",
       "      <td>malicious</td>\n",
       "      <td>[Comparison, Keyword, Comparison, Comparison, ...</td>\n",
       "      <td>[('Comparison',), ('Keyword',), ('Comparison',...</td>\n",
       "      <td>5</td>\n",
       "      <td>4.581719</td>\n",
       "      <td>3229.041492</td>\n",
       "      <td>-2295.865014</td>\n",
       "    </tr>\n",
       "  </tbody>\n",
       "</table>\n",
       "</div>"
      ],
      "text/plain": [
       "                                             raw_sql       type  \\\n",
       "0                                    <!DOCTYPE html>  malicious   \n",
       "1                                   <html lang=\"en\">  malicious   \n",
       "2                                             <head>  malicious   \n",
       "3                             <meta charset=\"utf-8\">  malicious   \n",
       "4  <link rel=\"dns-prefetch\" href=\"https://assets-...  malicious   \n",
       "\n",
       "                                          parsed_sql  \\\n",
       "0               [Comparison, Identifier, Comparison]   \n",
       "1   [Comparison, Identifier, Comparison, Comparison]   \n",
       "2               [Comparison, Identifier, Comparison]   \n",
       "3  [Comparison, Identifier, Keyword, Comparison, ...   \n",
       "4  [Comparison, Keyword, Comparison, Comparison, ...   \n",
       "\n",
       "                                           sequences  length   entropy  \\\n",
       "0  [('Comparison',), ('Identifier',), ('Compariso...       3  3.906891   \n",
       "1  [('Comparison',), ('Identifier',), ('Compariso...       4  3.625000   \n",
       "2  [('Comparison',), ('Identifier',), ('Compariso...       3  2.584963   \n",
       "3  [('Comparison',), ('Identifier',), ('Keyword',...       6  3.970573   \n",
       "4  [('Comparison',), ('Keyword',), ('Comparison',...       5  4.581719   \n",
       "\n",
       "   malicious_g      legit_g  \n",
       "0  2785.017554 -2340.129251  \n",
       "1  3144.706600 -2357.361880  \n",
       "2  2785.017554 -2340.129251  \n",
       "3  2189.123708 -1760.772330  \n",
       "4  3229.041492 -2295.865014  "
      ]
     },
     "execution_count": 25,
     "metadata": {},
     "output_type": "execute_result"
    }
   ],
   "source": [
    "dataframe.head()"
   ]
  },
  {
   "cell_type": "code",
   "execution_count": 26,
   "metadata": {
    "collapsed": false
   },
   "outputs": [
    {
     "name": "stderr",
     "output_type": "stream",
     "text": [
      "C:\\Users\\18791\\Anaconda3\\envs\\py\\lib\\site-packages\\numpy\\core\\fromnumeric.py:57: FutureWarning: reshape is deprecated and will raise in a subsequent release. Please use .values.reshape(...) instead\n",
      "  return getattr(obj, method)(*args, **kwds)\n"
     ]
    },
    {
     "data": {
      "text/plain": [
       "Text(0,0.5,u'SQL Statement Entropy')"
      ]
     },
     "execution_count": 26,
     "metadata": {},
     "output_type": "execute_result"
    },
    {
     "data": {
      "image/png": "[encoded data removed]",
      "text/plain": [
       "<matplotlib.figure.Figure at 0xfa89438>"
      ]
     },
     "metadata": {},
     "output_type": "display_data"
    },
    {
     "data": {
      "image/png": "[encoded data removed]",
      "text/plain": [
       "<matplotlib.figure.Figure at 0xc361b38>"
      ]
     },
     "metadata": {},
     "output_type": "display_data"
    }
   ],
   "source": [
    "dataframe.boxplot('length','type')\n",
    "plt.ylabel('SQL Statement Length')\n",
    "dataframe.boxplot('entropy','type')\n",
    "plt.ylabel('SQL Statement Entropy')"
   ]
  },
  {
   "cell_type": "code",
   "execution_count": 27,
   "metadata": {
    "collapsed": false
   },
   "outputs": [
    {
     "data": {
      "text/plain": [
       "Text(0,0.5,u'SQL Statement Entropy')"
      ]
     },
     "execution_count": 27,
     "metadata": {},
     "output_type": "execute_result"
    },
    {
     "data": {
      "image/png": "[encoded data removed]",
      "text/plain": [
       "<matplotlib.figure.Figure at 0xffb8208>"
      ]
     },
     "metadata": {},
     "output_type": "display_data"
    }
   ],
   "source": [
    "fig, ax = plt.subplots(subplot_kw=dict(axisbg='#EEEEE5'))\n",
    "ax.grid(color='grey', linestyle='solid')\n",
    "cond = dataframe['type'] == 'malicious'\n",
    "evil = dataframe[cond]\n",
    "legit = dataframe[~cond]\n",
    "plt.scatter(legit['length'], legit['entropy'], s=140, c='#aaaaff', label='Legit', alpha=.7)\n",
    "plt.scatter(evil['length'], evil['entropy'], s=40, c='r', label='Injections', alpha=.3)\n",
    "plt.legend()\n",
    "plt.xlabel('SQL Statement Length')\n",
    "plt.ylabel('SQL Statement Entropy')"
   ]
  },
  {
   "cell_type": "code",
   "execution_count": 28,
   "metadata": {
    "collapsed": false
   },
   "outputs": [
    {
     "data": {
      "text/plain": [
       "Text(0.5,0,u'Malicious SQL G-Test Score')"
      ]
     },
     "execution_count": 28,
     "metadata": {},
     "output_type": "execute_result"
    },
    {
     "data": {
      "image/png": "[encoded data removed]",
      "text/plain": [
       "<matplotlib.figure.Figure at 0xffc0a20>"
      ]
     },
     "metadata": {},
     "output_type": "display_data"
    }
   ],
   "source": [
    "# Split the classes up so we can set colors, size, labels\n",
    "fig, ax = plt.subplots(subplot_kw=dict(axisbg='#EEEEE5'))\n",
    "ax.grid(color='grey', linestyle='solid')\n",
    "plt.scatter(legit['malicious_g'], legit['legit_g'], s=140, c='#aaaaff', label='Legit', alpha=.7)\n",
    "plt.scatter(evil['malicious_g'], evil['legit_g'], s=40, c='r', label='Injections', alpha=.3)\n",
    "plt.legend()\n",
    "plt.ylabel('Legit SQL G-Test Score')\n",
    "plt.xlabel('Malicious SQL G-Test Score')"
   ]
  },
  {
   "cell_type": "code",
   "execution_count": 29,
   "metadata": {
    "collapsed": true
   },
   "outputs": [],
   "source": [
    "\n",
    "# In preparation for using scikit learn we're just going to use\n",
    "# some handles that help take us from pandas land to scikit land\n",
    "\n",
    "# List of feature vectors (scikit learn uses 'X' for the matrix of feature vectors)\n",
    "X = dataframe.as_matrix(['length', 'entropy','legit_g','malicious_g'])\n",
    "\n",
    "# Labels (scikit learn uses 'y' for classification labels)\n",
    "y = np.array(dataframe['type'].tolist())  # Yes, this is weird but it needs \n",
    "                                            # to be an np.array of strings"
   ]
  },
  {
   "cell_type": "code",
   "execution_count": 30,
   "metadata": {
    "collapsed": true
   },
   "outputs": [],
   "source": [
    "# Random Forest is a popular ensemble machine learning classifier.\n",
    "# http://scikit-learn.org/dev/modules/generated/sklearn.ensemble.RandomForestClassifier.html\n",
    "#\n",
    "import sklearn.ensemble\n",
    "clf = sklearn.ensemble.RandomForestClassifier(n_estimators=20) # Trees in the forest"
   ]
  },
  {
   "cell_type": "code",
   "execution_count": 32,
   "metadata": {
    "collapsed": false
   },
   "outputs": [
    {
     "name": "stderr",
     "output_type": "stream",
     "text": [
      "C:\\Users\\18791\\Anaconda3\\envs\\py\\lib\\site-packages\\sklearn\\cross_validation.py:41: DeprecationWarning: This module was deprecated in version 0.18 in favor of the model_selection module into which all the refactored classes and functions are moved. Also note that the interface of the new CV iterators are different from that of this module. This module will be removed in 0.20.\n",
      "  \"This module will be removed in 0.20.\", DeprecationWarning)\n"
     ]
    },
    {
     "name": "stdout",
     "output_type": "stream",
     "text": [
      "[ 0.4695752   0.76693456  0.91618829  0.9045977   0.94597701  0.97238205\n",
      "  0.75719217  0.94361335  0.87917146  0.84579977]\n"
     ]
    }
   ],
   "source": [
    "import sklearn.cross_validation\n",
    "scores = sklearn.cross_validation.cross_val_score(clf, X, y, cv=10, n_jobs=4)\n",
    "print scores"
   ]
  },
  {
   "cell_type": "code",
   "execution_count": 33,
   "metadata": {
    "collapsed": true
   },
   "outputs": [],
   "source": [
    "# Wow 99% accurate! There is an issue though...\n",
    "# Recall that we have ~13k 'malicious SQL statements and\n",
    "# we only have about 1k 'legit' SQL statements, so we dive \n",
    "# in a bit and look at the predictive performance more deeply.\n",
    "\n",
    "# Train on a 80/20 split\n",
    "from sklearn.cross_validation import train_test_split\n",
    "X_train, X_test, y_train, y_test, index_train, index_test = train_test_split(X, y, dataframe.index, test_size=0.2)\n",
    "clf.fit(X_train, y_train)\n",
    "y_pred = clf.predict(X_test)"
   ]
  },
  {
   "cell_type": "code",
   "execution_count": 34,
   "metadata": {
    "collapsed": false
   },
   "outputs": [
    {
     "name": "stdout",
     "output_type": "stream",
     "text": [
      "Confusion Matrix Stats\n",
      "legit/legit: 83.14% (774/931)\n",
      "legit/malicious: 16.86% (157/931)\n",
      "malicious/legit: 13.84% (112/809)\n",
      "malicious/malicious: 86.16% (697/809)\n"
     ]
    },
    {
     "data": {
      "image/png": "[encoded data removed]",
      "text/plain": [
       "<matplotlib.figure.Figure at 0x106b9128>"
      ]
     },
     "metadata": {},
     "output_type": "display_data"
    }
   ],
   "source": [
    "# Now plot the results of the 80/20 split in a confusion matrix\n",
    "from sklearn.metrics import confusion_matrix\n",
    "labels = ['legit', 'malicious']\n",
    "cm = confusion_matrix(y_test, y_pred, labels)\n",
    "\n",
    "def plot_cm(cm, labels):\n",
    "    \n",
    "    # Compute percentanges\n",
    "    percent = (cm*100.0)/np.array(np.matrix(cm.sum(axis=1)).T)  # Derp, I'm sure there's a better way\n",
    "    \n",
    "    print 'Confusion Matrix Stats'\n",
    "    for i, label_i in enumerate(labels):\n",
    "        for j, label_j in enumerate(labels):\n",
    "            print \"%s/%s: %.2f%% (%d/%d)\" % (label_i, label_j, (percent[i][j]), cm[i][j], cm[i].sum())\n",
    "\n",
    "    # Show confusion matrix\n",
    "    # Thanks kermit666 from stackoverflow :)\n",
    "    fig = plt.figure()\n",
    "    ax = fig.add_subplot(111)\n",
    "    ax.grid(b=False)\n",
    "    cax = ax.matshow(percent, cmap='coolwarm')\n",
    "    plt.title('Confusion matrix of the classifier')\n",
    "    fig.colorbar(cax)\n",
    "    ax.set_xticklabels([''] + labels)\n",
    "    ax.set_yticklabels([''] + labels)\n",
    "    plt.xlabel('Predicted')\n",
    "    plt.ylabel('True')\n",
    "    plt.show()\n",
    "\n",
    "plot_cm(cm, labels)"
   ]
  },
  {
   "cell_type": "code",
   "execution_count": 35,
   "metadata": {
    "collapsed": false
   },
   "outputs": [
    {
     "name": "stdout",
     "output_type": "stream",
     "text": [
      "Confusion Matrix Stats\n",
      "legit/legit: 90.98% (847/931)\n",
      "legit/malicious: 9.02% (84/931)\n",
      "malicious/legit: 85.78% (694/809)\n",
      "malicious/malicious: 14.22% (115/809)\n"
     ]
    },
    {
     "data": {
      "image/png": "[encoded data removed]",
      "text/plain": [
       "<matplotlib.figure.Figure at 0xfa86668>"
      ]
     },
     "metadata": {},
     "output_type": "display_data"
    }
   ],
   "source": [
    "\n",
    "# Compute the precition probabilities and use them to mimimize our false positives\n",
    "# Note: This is simply a trade off, it means we'll miss a few of the malicious\n",
    "# ones but typically false alarms are a death blow to any new 'fancy stuff' so\n",
    "# we definitely want to mimimize the false alarms.\n",
    "y_probs = clf.predict_proba(X_test)[:,1]\n",
    "thres = .9 # This can be set to whatever you'd like\n",
    "y_pred[y_probs<thres] = 'legit'\n",
    "y_pred[y_probs>=thres] = 'malicious'\n",
    "cm = confusion_matrix(y_test, y_pred, labels)\n",
    "plot_cm(cm, labels)"
   ]
  },
  {
   "cell_type": "code",
   "execution_count": 36,
   "metadata": {
    "collapsed": false
   },
   "outputs": [
    {
     "data": {
      "text/plain": [
       "[('length', 0.17111626171666924),\n",
       " ('entropy', 0.48308049916477669),\n",
       " ('legit_g', 0.18588091600519346),\n",
       " ('malicious_g', 0.15992232311336052)]"
      ]
     },
     "execution_count": 36,
     "metadata": {},
     "output_type": "execute_result"
    }
   ],
   "source": [
    "\n",
    "# We can also look at what features the learning algorithm thought were the most important\n",
    "importances = zip(['length', 'entropy', 'legit_g', 'malicious_g'], clf.feature_importances_)\n",
    "importances\n",
    "\n",
    "# From the list below we see our feature importance scores. There's a lot of feature selection,\n",
    "# sensitivity study, etc stuff that you could do if you wanted at this point."
   ]
  },
  {
   "cell_type": "code",
   "execution_count": 37,
   "metadata": {
    "collapsed": false
   },
   "outputs": [
    {
     "name": "stderr",
     "output_type": "stream",
     "text": [
      "C:\\Users\\18791\\Anaconda3\\envs\\py\\lib\\site-packages\\ipykernel_launcher.py:4: DeprecationWarning: \n",
      ".ix is deprecated. Please use\n",
      ".loc for label based indexing or\n",
      ".iloc for positional indexing\n",
      "\n",
      "See the documentation here:\n",
      "http://pandas.pydata.org/pandas-docs/stable/indexing.html#ix-indexer-is-deprecated\n",
      "  after removing the cwd from sys.path.\n"
     ]
    },
    {
     "data": {
      "text/html": [
       "<div>\n",
       "<style>\n",
       "    .dataframe thead tr:only-child th {\n",
       "        text-align: right;\n",
       "    }\n",
       "\n",
       "    .dataframe thead th {\n",
       "        text-align: left;\n",
       "    }\n",
       "\n",
       "    .dataframe tbody tr th {\n",
       "        vertical-align: top;\n",
       "    }\n",
       "</style>\n",
       "<table border=\"1\" class=\"dataframe\">\n",
       "  <thead>\n",
       "    <tr style=\"text-align: right;\">\n",
       "      <th></th>\n",
       "      <th>raw_sql</th>\n",
       "      <th>type</th>\n",
       "      <th>parsed_sql</th>\n",
       "      <th>sequences</th>\n",
       "      <th>length</th>\n",
       "      <th>entropy</th>\n",
       "      <th>malicious_g</th>\n",
       "      <th>legit_g</th>\n",
       "      <th>pred</th>\n",
       "    </tr>\n",
       "  </thead>\n",
       "  <tbody>\n",
       "    <tr>\n",
       "      <th>753</th>\n",
       "      <td>New repository</td>\n",
       "      <td>legit</td>\n",
       "      <td>[Keyword, Identifier]</td>\n",
       "      <td>[('Keyword',), ('Identifier',), ('Keyword', 'I...</td>\n",
       "      <td>2</td>\n",
       "      <td>3.378783</td>\n",
       "      <td>201.372607</td>\n",
       "      <td>-35.589241</td>\n",
       "      <td>malicious</td>\n",
       "    </tr>\n",
       "    <tr>\n",
       "      <th>788</th>\n",
       "      <td>Your profile</td>\n",
       "      <td>legit</td>\n",
       "      <td>[Identifier, Keyword]</td>\n",
       "      <td>[('Identifier',), ('Keyword',), ('Identifier',...</td>\n",
       "      <td>2</td>\n",
       "      <td>3.251629</td>\n",
       "      <td>509.819910</td>\n",
       "      <td>-474.159584</td>\n",
       "      <td>malicious</td>\n",
       "    </tr>\n",
       "    <tr>\n",
       "      <th>5018</th>\n",
       "      <td>&lt;td id=\"LC965\" class=\"blob-code blob-code-inne...</td>\n",
       "      <td>legit</td>\n",
       "      <td>[Comparison, Identifier, Comparison, Keyword, ...</td>\n",
       "      <td>[('Comparison',), ('Identifier',), ('Compariso...</td>\n",
       "      <td>22</td>\n",
       "      <td>4.728612</td>\n",
       "      <td>884.419369</td>\n",
       "      <td>-615.821572</td>\n",
       "      <td>malicious</td>\n",
       "    </tr>\n",
       "    <tr>\n",
       "      <th>4870</th>\n",
       "      <td>&lt;td id=\"LC928\" class=\"blob-code blob-code-inne...</td>\n",
       "      <td>legit</td>\n",
       "      <td>[Comparison, Identifier, Comparison, Keyword, ...</td>\n",
       "      <td>[('Comparison',), ('Identifier',), ('Compariso...</td>\n",
       "      <td>24</td>\n",
       "      <td>4.718754</td>\n",
       "      <td>884.465921</td>\n",
       "      <td>-618.840115</td>\n",
       "      <td>malicious</td>\n",
       "    </tr>\n",
       "    <tr>\n",
       "      <th>1138</th>\n",
       "      <td>data-ga-click=\"Repository, open with desktop, ...</td>\n",
       "      <td>legit</td>\n",
       "      <td>[Keyword, Operator, Comparison, Comparison]</td>\n",
       "      <td>[('Keyword',), ('Operator',), ('Comparison',),...</td>\n",
       "      <td>4</td>\n",
       "      <td>4.436243</td>\n",
       "      <td>2357.436319</td>\n",
       "      <td>-1584.833951</td>\n",
       "      <td>malicious</td>\n",
       "    </tr>\n",
       "  </tbody>\n",
       "</table>\n",
       "</div>"
      ],
      "text/plain": [
       "                                                raw_sql   type  \\\n",
       "753                                      New repository  legit   \n",
       "788                                        Your profile  legit   \n",
       "5018  <td id=\"LC965\" class=\"blob-code blob-code-inne...  legit   \n",
       "4870  <td id=\"LC928\" class=\"blob-code blob-code-inne...  legit   \n",
       "1138  data-ga-click=\"Repository, open with desktop, ...  legit   \n",
       "\n",
       "                                             parsed_sql  \\\n",
       "753                               [Keyword, Identifier]   \n",
       "788                               [Identifier, Keyword]   \n",
       "5018  [Comparison, Identifier, Comparison, Keyword, ...   \n",
       "4870  [Comparison, Identifier, Comparison, Keyword, ...   \n",
       "1138        [Keyword, Operator, Comparison, Comparison]   \n",
       "\n",
       "                                              sequences  length   entropy  \\\n",
       "753   [('Keyword',), ('Identifier',), ('Keyword', 'I...       2  3.378783   \n",
       "788   [('Identifier',), ('Keyword',), ('Identifier',...       2  3.251629   \n",
       "5018  [('Comparison',), ('Identifier',), ('Compariso...      22  4.728612   \n",
       "4870  [('Comparison',), ('Identifier',), ('Compariso...      24  4.718754   \n",
       "1138  [('Keyword',), ('Operator',), ('Comparison',),...       4  4.436243   \n",
       "\n",
       "      malicious_g      legit_g       pred  \n",
       "753    201.372607   -35.589241  malicious  \n",
       "788    509.819910  -474.159584  malicious  \n",
       "5018   884.419369  -615.821572  malicious  \n",
       "4870   884.465921  -618.840115  malicious  \n",
       "1138  2357.436319 -1584.833951  malicious  "
      ]
     },
     "execution_count": 37,
     "metadata": {},
     "output_type": "execute_result"
    }
   ],
   "source": [
    "\n",
    "# Now were going to just do some post analysis on how the ML algorithm performed.\n",
    "# Lets look at the legit samples that were misclassified as malicious\n",
    "test_set = dataframe.ix[index_test]\n",
    "test_set['pred'] = y_pred\n",
    "misclassified = test_set[(test_set['type']=='legit') & (test_set['pred']=='malicious')]\n",
    "misclassified.head()"
   ]
  },
  {
   "cell_type": "code",
   "execution_count": 42,
   "metadata": {
    "collapsed": true
   },
   "outputs": [],
   "source": [
    "# Discussion for how to use the resulting models.\n",
    "# Typically Machine Learning comes in two phases\n",
    "#    - Training of the Model\n",
    "#    - Evaluation of new observations against the Model\n",
    "# This notebook is about exploration of the data and training the model.\n",
    "# After you have a model that you are satisfied with, just 'pickle' it\n",
    "# at the end of the your training script and then in a separate\n",
    "# evaluation script 'unpickle' it and evaluate/score new observations\n",
    "# coming in (through a file, or ZeroMQ, or whatever...)\n",
    "#\n",
    "# In this case we'd have to pickle the RandomForest classifier.\n",
    "# See 'test_it' below for how to use them in evaluation mode.\n",
    "\n",
    "\n",
    "# test_it shows how to do evaluation, also fun for manual testing below :)\n",
    "def test_it(sql):\n",
    "    parsed_sql = parse_it(sql)\n",
    "    ngram_list = ngrams(parsed_sql, 3)\n",
    "    malicious_g = g_aggregate(ngram_list, 'malicious_g')\n",
    "    legit_g = g_aggregate(ngram_list, 'legit_g')\n",
    "    _X = [len(parsed_sql), entropy(sql), legit_g, malicious_g]\n",
    "    print '%-40s: %s' % (sql, clf.predict(_X)[0])"
   ]
  },
  {
   "cell_type": "code",
   "execution_count": 43,
   "metadata": {
    "collapsed": false
   },
   "outputs": [
    {
     "ename": "ValueError",
     "evalue": "Expected 2D array, got 1D array instead:\narray=[   4.            3.46423459  108.3910141    42.59859085].\nReshape your data either using array.reshape(-1, 1) if your data has a single feature or array.reshape(1, -1) if it contains a single sample.",
     "output_type": "error",
     "traceback": [
      "\u001b[1;31m---------------------------------------------------------------------------\u001b[0m",
      "\u001b[1;31mValueError\u001b[0m                                Traceback (most recent call last)",
      "\u001b[1;32m<ipython-input-43-88b068cc01a1>\u001b[0m in \u001b[0;36m<module>\u001b[1;34m()\u001b[0m\n\u001b[1;32m----> 1\u001b[1;33m \u001b[0mtest_it\u001b[0m\u001b[1;33m(\u001b[0m\u001b[1;34m'select * from employees'\u001b[0m\u001b[1;33m)\u001b[0m\u001b[1;33m\u001b[0m\u001b[0m\n\u001b[0m\u001b[0;32m      2\u001b[0m \u001b[0mtest_it\u001b[0m\u001b[1;33m(\u001b[0m\u001b[1;34m\"'; exec master..xp_cmdshell\"\u001b[0m\u001b[1;33m)\u001b[0m\u001b[1;33m\u001b[0m\u001b[0m\n\u001b[0;32m      3\u001b[0m \u001b[0mtest_it\u001b[0m\u001b[1;33m(\u001b[0m\u001b[1;34m\"'any 'x'='x'\"\u001b[0m\u001b[1;33m)\u001b[0m\u001b[1;33m\u001b[0m\u001b[0m\n\u001b[0;32m      4\u001b[0m \u001b[0mtest_it\u001b[0m\u001b[1;33m(\u001b[0m\u001b[1;34m'from dorseys mom xp_cmdshell biache'\u001b[0m\u001b[1;33m)\u001b[0m\u001b[1;33m\u001b[0m\u001b[0m\n\u001b[0;32m      5\u001b[0m \u001b[0mtest_it\u001b[0m\u001b[1;33m(\u001b[0m\u001b[1;34m'select * from your_mom'\u001b[0m\u001b[1;33m)\u001b[0m\u001b[1;33m\u001b[0m\u001b[0m\n",
      "\u001b[1;32m<ipython-input-42-ad1ac8424cf8>\u001b[0m in \u001b[0;36mtest_it\u001b[1;34m(sql)\u001b[0m\n\u001b[0;32m     20\u001b[0m     \u001b[0mlegit_g\u001b[0m \u001b[1;33m=\u001b[0m \u001b[0mg_aggregate\u001b[0m\u001b[1;33m(\u001b[0m\u001b[0mngram_list\u001b[0m\u001b[1;33m,\u001b[0m \u001b[1;34m'legit_g'\u001b[0m\u001b[1;33m)\u001b[0m\u001b[1;33m\u001b[0m\u001b[0m\n\u001b[0;32m     21\u001b[0m     \u001b[0m_X\u001b[0m \u001b[1;33m=\u001b[0m \u001b[1;33m[\u001b[0m\u001b[0mlen\u001b[0m\u001b[1;33m(\u001b[0m\u001b[0mparsed_sql\u001b[0m\u001b[1;33m)\u001b[0m\u001b[1;33m,\u001b[0m \u001b[0mentropy\u001b[0m\u001b[1;33m(\u001b[0m\u001b[0msql\u001b[0m\u001b[1;33m)\u001b[0m\u001b[1;33m,\u001b[0m \u001b[0mlegit_g\u001b[0m\u001b[1;33m,\u001b[0m \u001b[0mmalicious_g\u001b[0m\u001b[1;33m]\u001b[0m\u001b[1;33m\u001b[0m\u001b[0m\n\u001b[1;32m---> 22\u001b[1;33m     \u001b[1;32mprint\u001b[0m \u001b[1;34m'%-40s: %s'\u001b[0m \u001b[1;33m%\u001b[0m \u001b[1;33m(\u001b[0m\u001b[0msql\u001b[0m\u001b[1;33m,\u001b[0m \u001b[0mclf\u001b[0m\u001b[1;33m.\u001b[0m\u001b[0mpredict\u001b[0m\u001b[1;33m(\u001b[0m\u001b[0m_X\u001b[0m\u001b[1;33m)\u001b[0m\u001b[1;33m[\u001b[0m\u001b[1;36m0\u001b[0m\u001b[1;33m]\u001b[0m\u001b[1;33m)\u001b[0m\u001b[1;33m\u001b[0m\u001b[0m\n\u001b[0m",
      "\u001b[1;32mC:\\Users\\18791\\Anaconda3\\envs\\py\\lib\\site-packages\\sklearn\\ensemble\\forest.py\u001b[0m in \u001b[0;36mpredict\u001b[1;34m(self, X)\u001b[0m\n\u001b[0;32m    536\u001b[0m             \u001b[0mThe\u001b[0m \u001b[0mpredicted\u001b[0m \u001b[0mclasses\u001b[0m\u001b[1;33m.\u001b[0m\u001b[1;33m\u001b[0m\u001b[0m\n\u001b[0;32m    537\u001b[0m         \"\"\"\n\u001b[1;32m--> 538\u001b[1;33m         \u001b[0mproba\u001b[0m \u001b[1;33m=\u001b[0m \u001b[0mself\u001b[0m\u001b[1;33m.\u001b[0m\u001b[0mpredict_proba\u001b[0m\u001b[1;33m(\u001b[0m\u001b[0mX\u001b[0m\u001b[1;33m)\u001b[0m\u001b[1;33m\u001b[0m\u001b[0m\n\u001b[0m\u001b[0;32m    539\u001b[0m \u001b[1;33m\u001b[0m\u001b[0m\n\u001b[0;32m    540\u001b[0m         \u001b[1;32mif\u001b[0m \u001b[0mself\u001b[0m\u001b[1;33m.\u001b[0m\u001b[0mn_outputs_\u001b[0m \u001b[1;33m==\u001b[0m \u001b[1;36m1\u001b[0m\u001b[1;33m:\u001b[0m\u001b[1;33m\u001b[0m\u001b[0m\n",
      "\u001b[1;32mC:\\Users\\18791\\Anaconda3\\envs\\py\\lib\\site-packages\\sklearn\\ensemble\\forest.py\u001b[0m in \u001b[0;36mpredict_proba\u001b[1;34m(self, X)\u001b[0m\n\u001b[0;32m    576\u001b[0m         \u001b[0mcheck_is_fitted\u001b[0m\u001b[1;33m(\u001b[0m\u001b[0mself\u001b[0m\u001b[1;33m,\u001b[0m \u001b[1;34m'estimators_'\u001b[0m\u001b[1;33m)\u001b[0m\u001b[1;33m\u001b[0m\u001b[0m\n\u001b[0;32m    577\u001b[0m         \u001b[1;31m# Check data\u001b[0m\u001b[1;33m\u001b[0m\u001b[1;33m\u001b[0m\u001b[0m\n\u001b[1;32m--> 578\u001b[1;33m         \u001b[0mX\u001b[0m \u001b[1;33m=\u001b[0m \u001b[0mself\u001b[0m\u001b[1;33m.\u001b[0m\u001b[0m_validate_X_predict\u001b[0m\u001b[1;33m(\u001b[0m\u001b[0mX\u001b[0m\u001b[1;33m)\u001b[0m\u001b[1;33m\u001b[0m\u001b[0m\n\u001b[0m\u001b[0;32m    579\u001b[0m \u001b[1;33m\u001b[0m\u001b[0m\n\u001b[0;32m    580\u001b[0m         \u001b[1;31m# Assign chunk of trees to jobs\u001b[0m\u001b[1;33m\u001b[0m\u001b[1;33m\u001b[0m\u001b[0m\n",
      "\u001b[1;32mC:\\Users\\18791\\Anaconda3\\envs\\py\\lib\\site-packages\\sklearn\\ensemble\\forest.py\u001b[0m in \u001b[0;36m_validate_X_predict\u001b[1;34m(self, X)\u001b[0m\n\u001b[0;32m    355\u001b[0m                                  \"call `fit` before exploiting the model.\")\n\u001b[0;32m    356\u001b[0m \u001b[1;33m\u001b[0m\u001b[0m\n\u001b[1;32m--> 357\u001b[1;33m         \u001b[1;32mreturn\u001b[0m \u001b[0mself\u001b[0m\u001b[1;33m.\u001b[0m\u001b[0mestimators_\u001b[0m\u001b[1;33m[\u001b[0m\u001b[1;36m0\u001b[0m\u001b[1;33m]\u001b[0m\u001b[1;33m.\u001b[0m\u001b[0m_validate_X_predict\u001b[0m\u001b[1;33m(\u001b[0m\u001b[0mX\u001b[0m\u001b[1;33m,\u001b[0m \u001b[0mcheck_input\u001b[0m\u001b[1;33m=\u001b[0m\u001b[0mTrue\u001b[0m\u001b[1;33m)\u001b[0m\u001b[1;33m\u001b[0m\u001b[0m\n\u001b[0m\u001b[0;32m    358\u001b[0m \u001b[1;33m\u001b[0m\u001b[0m\n\u001b[0;32m    359\u001b[0m     \u001b[1;33m@\u001b[0m\u001b[0mproperty\u001b[0m\u001b[1;33m\u001b[0m\u001b[0m\n",
      "\u001b[1;32mC:\\Users\\18791\\Anaconda3\\envs\\py\\lib\\site-packages\\sklearn\\tree\\tree.py\u001b[0m in \u001b[0;36m_validate_X_predict\u001b[1;34m(self, X, check_input)\u001b[0m\n\u001b[0;32m    371\u001b[0m         \u001b[1;34m\"\"\"Validate X whenever one tries to predict, apply, predict_proba\"\"\"\u001b[0m\u001b[1;33m\u001b[0m\u001b[0m\n\u001b[0;32m    372\u001b[0m         \u001b[1;32mif\u001b[0m \u001b[0mcheck_input\u001b[0m\u001b[1;33m:\u001b[0m\u001b[1;33m\u001b[0m\u001b[0m\n\u001b[1;32m--> 373\u001b[1;33m             \u001b[0mX\u001b[0m \u001b[1;33m=\u001b[0m \u001b[0mcheck_array\u001b[0m\u001b[1;33m(\u001b[0m\u001b[0mX\u001b[0m\u001b[1;33m,\u001b[0m \u001b[0mdtype\u001b[0m\u001b[1;33m=\u001b[0m\u001b[0mDTYPE\u001b[0m\u001b[1;33m,\u001b[0m \u001b[0maccept_sparse\u001b[0m\u001b[1;33m=\u001b[0m\u001b[1;34m\"csr\"\u001b[0m\u001b[1;33m)\u001b[0m\u001b[1;33m\u001b[0m\u001b[0m\n\u001b[0m\u001b[0;32m    374\u001b[0m             if issparse(X) and (X.indices.dtype != np.intc or\n\u001b[0;32m    375\u001b[0m                                 X.indptr.dtype != np.intc):\n",
      "\u001b[1;32mC:\\Users\\18791\\Anaconda3\\envs\\py\\lib\\site-packages\\sklearn\\utils\\validation.py\u001b[0m in \u001b[0;36mcheck_array\u001b[1;34m(array, accept_sparse, dtype, order, copy, force_all_finite, ensure_2d, allow_nd, ensure_min_samples, ensure_min_features, warn_on_dtype, estimator)\u001b[0m\n\u001b[0;32m    439\u001b[0m                     \u001b[1;34m\"Reshape your data either using array.reshape(-1, 1) if \"\u001b[0m\u001b[1;33m\u001b[0m\u001b[0m\n\u001b[0;32m    440\u001b[0m                     \u001b[1;34m\"your data has a single feature or array.reshape(1, -1) \"\u001b[0m\u001b[1;33m\u001b[0m\u001b[0m\n\u001b[1;32m--> 441\u001b[1;33m                     \"if it contains a single sample.\".format(array))\n\u001b[0m\u001b[0;32m    442\u001b[0m             \u001b[0marray\u001b[0m \u001b[1;33m=\u001b[0m \u001b[0mnp\u001b[0m\u001b[1;33m.\u001b[0m\u001b[0matleast_2d\u001b[0m\u001b[1;33m(\u001b[0m\u001b[0marray\u001b[0m\u001b[1;33m)\u001b[0m\u001b[1;33m\u001b[0m\u001b[0m\n\u001b[0;32m    443\u001b[0m             \u001b[1;31m# To ensure that array flags are maintained\u001b[0m\u001b[1;33m\u001b[0m\u001b[1;33m\u001b[0m\u001b[0m\n",
      "\u001b[1;31mValueError\u001b[0m: Expected 2D array, got 1D array instead:\narray=[   4.            3.46423459  108.3910141    42.59859085].\nReshape your data either using array.reshape(-1, 1) if your data has a single feature or array.reshape(1, -1) if it contains a single sample."
     ]
    }
   ],
   "source": [
    "test_it('select * from employees')\n",
    "test_it(\"'; exec master..xp_cmdshell\")\n",
    "test_it(\"'any 'x'='x'\")\n",
    "test_it('from dorseys mom xp_cmdshell biache')\n",
    "test_it('select * from your_mom')"
   ]
  },
  {
   "cell_type": "code",
   "execution_count": null,
   "metadata": {
    "collapsed": true
   },
   "outputs": [],
   "source": []
  }
 ],
 "metadata": {
  "anaconda-cloud": {},
  "kernelspec": {
   "display_name": "Python [conda env:my-r-env]",
   "language": "python",
   "name": "conda-env-my-r-env-py"
  },
  "language_info": {
   "codemirror_mode": {
    "name": "ipython",
    "version": 3
   },
   "file_extension": ".py",
   "mimetype": "text/x-python",
   "name": "python",
   "nbconvert_exporter": "python",
   "pygments_lexer": "ipython3",
   "version": "3.6.3"
  }
 },
 "nbformat": 4,
 "nbformat_minor": 1
}
