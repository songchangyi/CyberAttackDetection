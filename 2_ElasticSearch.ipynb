{
 "cells": [
  {
   "cell_type": "markdown",
   "metadata": {},
   "source": [
    "### Import ES & Libs"
   ]
  },
  {
   "cell_type": "code",
   "execution_count": 1,
   "metadata": {
    "collapsed": true
   },
   "outputs": [],
   "source": [
    "import pickle\n",
    "import pandas as pd\n",
    "import numpy as np\n",
    "from pandas import Series,DataFrame"
   ]
  },
  {
   "cell_type": "code",
   "execution_count": 7,
   "metadata": {
    "collapsed": true
   },
   "outputs": [],
   "source": [
    "from datetime import datetime\n",
    "from elasticsearch import Elasticsearch\n",
    "es = Elasticsearch()"
   ]
  },
  {
   "cell_type": "code",
   "execution_count": 18,
   "metadata": {
    "collapsed": true
   },
   "outputs": [
    {
     "name": "stdout",
     "output_type": "stream",
     "text": [
      "{'timed_out': False, '_shards': {'failed': 0, 'total': 3, 'successful': 3, 'skipped': 0}, 'took': 90, 'hits': {'max_score': 1.0, 'total': 7, 'hits': [{'_source': {'age': '35', 'country': 'China', 'name': '大昌意', 'date': '1982-10-14'}, '_score': 1.0, '_index': 'people', '_type': 'man', '_id': 'AV-UVGo0dGVqd-b-kBV6'}, {'_source': {'timed': '14', 'timestamp': '[22/Jan/2018:15:02:01', 'action': 'GET /css/index.css HTTP/1.1', 'status': '200', 'respsize': '945', 'data': 'director 123456 136.133.92.208 1 Mozilla/5.0 (Macintosh; Intel Mac OS X 10_10_3) AppleWebKit/537.36 (KHTML, like Gecko) Chrome/43.0.2357.81 Safari/537.36'}, '_score': 1.0, '_index': 'people', '_type': 'log', '_id': '0'}, {'_source': {'timed': '2', 'timestamp': '[22/Jan/2018:15:02:03', 'action': 'GET / HTTP/1.1', 'status': '200', 'respsize': '1040', 'data': 'administrator 123456 30.142.97.121 1 Mozilla/5.0 (Macintosh; Intel Mac OS X 10_10_3) AppleWebKit/537.36 (KHTML, like Gecko) Chrome/43.0.2357.81 Safari/537.36'}, '_score': 1.0, '_index': 'people', '_type': 'log', '_id': '2'}, {'_source': {'timed': '7', 'timestamp': '[22/Jan/2018:15:02:04', 'action': 'GET /img/logo.png HTTP/1.1', 'status': '200', 'respsize': '34463', 'data': 'administrator 123456 30.142.97.121 1 Mozilla/5.0 (Macintosh; Intel Mac OS X 10_10_3) AppleWebKit/537.36 (KHTML, like Gecko) Chrome/43.0.2357.81 Safari/537.36'}, '_score': 1.0, '_index': 'people', '_type': 'log', '_id': '4'}, {'_source': {'age': '35', 'country': 'China', 'name': '大昌意', 'date': '1982-10-14'}, '_score': 1.0, '_index': 'people', '_type': 'man', '_id': '1'}, {'_source': {'timed': '9', 'timestamp': '[22/Jan/2018:15:02:02', 'action': 'GET /img/logo.png HTTP/1.1', 'status': '200', 'respsize': '34463', 'data': 'director 123456 136.133.92.208 1 Mozilla/5.0 (Macintosh; Intel Mac OS X 10_10_3) AppleWebKit/537.36 (KHTML, like Gecko) Chrome/43.0.2357.81 Safari/537.36'}, '_score': 1.0, '_index': 'people', '_type': 'log', '_id': '1'}, {'_source': {'timed': '9', 'timestamp': '[22/Jan/2018:15:02:04', 'action': 'GET /css/index.css HTTP/1.1', 'status': '200', 'respsize': '945', 'data': 'administrator 123456 30.142.97.121 1 Mozilla/5.0 (Macintosh; Intel Mac OS X 10_10_3) AppleWebKit/537.36 (KHTML, like Gecko) Chrome/43.0.2357.81 Safari/537.36'}, '_score': 1.0, '_index': 'people', '_type': 'log', '_id': '3'}]}}\n"
     ]
    }
   ],
   "source": [
    "# get exist data\n",
    "res = es.search(index=\"people\", body={\"query\": {\"match_all\": {}}})\n",
    "print(res)"
   ]
  },
  {
   "cell_type": "markdown",
   "metadata": {},
   "source": [
    "### Index data"
   ]
  },
  {
   "cell_type": "code",
   "execution_count": 24,
   "metadata": {},
   "outputs": [
    {
     "data": {
      "text/html": [
       "<div>\n",
       "<style scoped>\n",
       "    .dataframe tbody tr th:only-of-type {\n",
       "        vertical-align: middle;\n",
       "    }\n",
       "\n",
       "    .dataframe tbody tr th {\n",
       "        vertical-align: top;\n",
       "    }\n",
       "\n",
       "    .dataframe thead th {\n",
       "        text-align: right;\n",
       "    }\n",
       "</style>\n",
       "<table border=\"1\" class=\"dataframe\">\n",
       "  <thead>\n",
       "    <tr style=\"text-align: right;\">\n",
       "      <th></th>\n",
       "      <th>0</th>\n",
       "      <th>1</th>\n",
       "      <th>2</th>\n",
       "      <th>3</th>\n",
       "      <th>4</th>\n",
       "      <th>5</th>\n",
       "      <th>6</th>\n",
       "      <th>7</th>\n",
       "      <th>8</th>\n",
       "      <th>9</th>\n",
       "      <th>10</th>\n",
       "    </tr>\n",
       "  </thead>\n",
       "  <tbody>\n",
       "    <tr>\n",
       "      <th>0</th>\n",
       "      <td>::ffff:46.20.170.141</td>\n",
       "      <td>-</td>\n",
       "      <td>-</td>\n",
       "      <td>[22/Jan/2018:15:02:01</td>\n",
       "      <td>+0000]</td>\n",
       "      <td>GET / HTTP/1.1</td>\n",
       "      <td>200</td>\n",
       "      <td>1040</td>\n",
       "      <td>-</td>\n",
       "      <td>director 123456 136.133.92.208 1 Mozilla/5.0 (...</td>\n",
       "      <td>312</td>\n",
       "    </tr>\n",
       "  </tbody>\n",
       "</table>\n",
       "</div>"
      ],
      "text/plain": [
       "                     0  1  2                      3       4               5   \\\n",
       "0  ::ffff:46.20.170.141  -  -  [22/Jan/2018:15:02:01  +0000]  GET / HTTP/1.1   \n",
       "\n",
       "    6     7  8                                                  9    10  \n",
       "0  200  1040  -  director 123456 136.133.92.208 1 Mozilla/5.0 (...  312  "
      ]
     },
     "execution_count": 24,
     "metadata": {},
     "output_type": "execute_result"
    }
   ],
   "source": [
    "# import file\n",
    "BF_logs_raw = pd.read_csv(\"./data/BF_datalab_httpd_all.log\", header = None, delimiter = \" \")\n",
    "log_length = BF_logs_raw.shape[0]\n",
    "BF_logs_raw.head(1)"
   ]
  },
  {
   "cell_type": "code",
   "execution_count": 27,
   "metadata": {},
   "outputs": [],
   "source": [
    "from elasticsearch import helpers\n",
    "\n",
    "def bulkData(length, log_type):\n",
    "    es = Elasticsearch()\n",
    "    j = 0\n",
    "    actions = []\n",
    "    while (j < length):\n",
    "        log = BF_logs_raw.loc[j]\n",
    "        action = {\n",
    "            \"_index\": 'log',\n",
    "            \"_type\": log_type,\n",
    "            \"_id\": j,\n",
    "            \"_source\": {\n",
    "                \"timestamp\":log[3],\n",
    "                \"action\":log[5],\n",
    "                \"status\":log[6],\n",
    "                \"respsize\":log[7],\n",
    "                \"data\":log[9],\n",
    "                \"timed\":log[10]\n",
    "            }\n",
    "        }\n",
    "        actions.append(action)\n",
    "        j += 1\n",
    "    # use bulk to POST data\n",
    "    if (len(actions) > 0):\n",
    "        helpers.bulk(es, actions)\n",
    "        del actions[0:len(actions)]"
   ]
  },
  {
   "cell_type": "code",
   "execution_count": 28,
   "metadata": {},
   "outputs": [],
   "source": [
    "# execute function to store data\n",
    "bulkData(log_length, 'bf')"
   ]
  },
  {
   "cell_type": "markdown",
   "metadata": {},
   "source": [
    "#### For other logs"
   ]
  },
  {
   "cell_type": "code",
   "execution_count": 32,
   "metadata": {
    "collapsed": true
   },
   "outputs": [
    {
     "name": "stderr",
     "output_type": "stream",
     "text": [
      "b'Skipping line 79: expected 24 fields, saw 26\\nSkipping line 80: expected 24 fields, saw 26\\nSkipping line 81: expected 24 fields, saw 26\\nSkipping line 82: expected 24 fields, saw 26\\nSkipping line 83: expected 24 fields, saw 26\\nSkipping line 84: expected 24 fields, saw 25\\nSkipping line 85: expected 24 fields, saw 25\\nSkipping line 86: expected 24 fields, saw 25\\nSkipping line 87: expected 24 fields, saw 25\\nSkipping line 88: expected 24 fields, saw 25\\nSkipping line 89: expected 24 fields, saw 25\\nSkipping line 180: expected 24 fields, saw 27\\nSkipping line 181: expected 24 fields, saw 27\\nSkipping line 182: expected 24 fields, saw 27\\nSkipping line 183: expected 24 fields, saw 27\\nSkipping line 184: expected 24 fields, saw 27\\nSkipping line 248: expected 24 fields, saw 25\\nSkipping line 249: expected 24 fields, saw 25\\nSkipping line 250: expected 24 fields, saw 25\\nSkipping line 251: expected 24 fields, saw 25\\nSkipping line 252: expected 24 fields, saw 25\\nSkipping line 299: expected 24 fields, saw 25\\nSkipping line 300: expected 24 fields, saw 25\\nSkipping line 301: expected 24 fields, saw 25\\nSkipping line 302: expected 24 fields, saw 25\\nSkipping line 303: expected 24 fields, saw 25\\nSkipping line 304: expected 24 fields, saw 25\\nSkipping line 305: expected 24 fields, saw 25\\nSkipping line 306: expected 24 fields, saw 25\\nSkipping line 307: expected 24 fields, saw 25\\nSkipping line 308: expected 24 fields, saw 25\\nSkipping line 309: expected 24 fields, saw 25\\nSkipping line 315: expected 24 fields, saw 25\\nSkipping line 316: expected 24 fields, saw 25\\nSkipping line 317: expected 24 fields, saw 25\\nSkipping line 318: expected 24 fields, saw 25\\nSkipping line 319: expected 24 fields, saw 25\\nSkipping line 320: expected 24 fields, saw 25\\nSkipping line 326: expected 24 fields, saw 26\\nSkipping line 327: expected 24 fields, saw 26\\nSkipping line 328: expected 24 fields, saw 26\\nSkipping line 329: expected 24 fields, saw 26\\nSkipping line 330: expected 24 fields, saw 26\\nSkipping line 331: expected 24 fields, saw 26\\nSkipping line 363: expected 24 fields, saw 25\\nSkipping line 364: expected 24 fields, saw 25\\nSkipping line 365: expected 24 fields, saw 25\\nSkipping line 366: expected 24 fields, saw 25\\nSkipping line 367: expected 24 fields, saw 25\\nSkipping line 378: expected 24 fields, saw 25\\nSkipping line 379: expected 24 fields, saw 25\\nSkipping line 380: expected 24 fields, saw 25\\nSkipping line 381: expected 24 fields, saw 25\\nSkipping line 382: expected 24 fields, saw 25\\nSkipping line 383: expected 24 fields, saw 25\\nSkipping line 390: expected 24 fields, saw 25\\nSkipping line 391: expected 24 fields, saw 25\\nSkipping line 392: expected 24 fields, saw 25\\nSkipping line 393: expected 24 fields, saw 25\\nSkipping line 394: expected 24 fields, saw 25\\nSkipping line 395: expected 24 fields, saw 26\\nSkipping line 396: expected 24 fields, saw 26\\nSkipping line 397: expected 24 fields, saw 26\\nSkipping line 398: expected 24 fields, saw 26\\nSkipping line 399: expected 24 fields, saw 26\\nSkipping line 400: expected 24 fields, saw 26\\nSkipping line 401: expected 24 fields, saw 26\\nSkipping line 402: expected 24 fields, saw 26\\nSkipping line 403: expected 24 fields, saw 26\\nSkipping line 404: expected 24 fields, saw 26\\nSkipping line 405: expected 24 fields, saw 26\\nSkipping line 432: expected 24 fields, saw 25\\nSkipping line 433: expected 24 fields, saw 25\\nSkipping line 434: expected 24 fields, saw 25\\nSkipping line 435: expected 24 fields, saw 25\\nSkipping line 436: expected 24 fields, saw 25\\nSkipping line 442: expected 24 fields, saw 25\\nSkipping line 443: expected 24 fields, saw 25\\nSkipping line 444: expected 24 fields, saw 25\\nSkipping line 445: expected 24 fields, saw 25\\nSkipping line 446: expected 24 fields, saw 25\\nSkipping line 447: expected 24 fields, saw 25\\nSkipping line 448: expected 24 fields, saw 25\\nSkipping line 449: expected 24 fields, saw 25\\nSkipping line 450: expected 24 fields, saw 25\\nSkipping line 451: expected 24 fields, saw 25\\nSkipping line 456: expected 24 fields, saw 28\\nSkipping line 457: expected 24 fields, saw 28\\nSkipping line 458: expected 24 fields, saw 28\\nSkipping line 459: expected 24 fields, saw 28\\nSkipping line 460: expected 24 fields, saw 28\\nSkipping line 461: expected 24 fields, saw 25\\nSkipping line 462: expected 24 fields, saw 25\\nSkipping line 463: expected 24 fields, saw 25\\nSkipping line 464: expected 24 fields, saw 25\\nSkipping line 465: expected 24 fields, saw 25\\nSkipping line 472: expected 24 fields, saw 25\\nSkipping line 473: expected 24 fields, saw 25\\nSkipping line 474: expected 24 fields, saw 25\\nSkipping line 475: expected 24 fields, saw 25\\nSkipping line 476: expected 24 fields, saw 25\\nSkipping line 477: expected 24 fields, saw 27\\nSkipping line 478: expected 24 fields, saw 27\\nSkipping line 479: expected 24 fields, saw 27\\nSkipping line 480: expected 24 fields, saw 27\\nSkipping line 481: expected 24 fields, saw 27\\nSkipping line 482: expected 24 fields, saw 25\\nSkipping line 483: expected 24 fields, saw 25\\nSkipping line 484: expected 24 fields, saw 25\\nSkipping line 485: expected 24 fields, saw 25\\nSkipping line 486: expected 24 fields, saw 25\\nSkipping line 487: expected 24 fields, saw 25\\nSkipping line 488: expected 24 fields, saw 25\\nSkipping line 489: expected 24 fields, saw 25\\nSkipping line 490: expected 24 fields, saw 25\\nSkipping line 491: expected 24 fields, saw 25\\nSkipping line 492: expected 24 fields, saw 25\\nSkipping line 493: expected 24 fields, saw 25\\nSkipping line 494: expected 24 fields, saw 26\\nSkipping line 495: expected 24 fields, saw 26\\nSkipping line 496: expected 24 fields, saw 26\\nSkipping line 497: expected 24 fields, saw 26\\nSkipping line 498: expected 24 fields, saw 26\\nSkipping line 499: expected 24 fields, saw 26\\nSkipping line 500: expected 24 fields, saw 25\\nSkipping line 501: expected 24 fields, saw 25\\nSkipping line 502: expected 24 fields, saw 25\\nSkipping line 503: expected 24 fields, saw 25\\nSkipping line 504: expected 24 fields, saw 25\\nSkipping line 505: expected 24 fields, saw 25\\nSkipping line 512: expected 24 fields, saw 25\\nSkipping line 513: expected 24 fields, saw 25\\nSkipping line 514: expected 24 fields, saw 25\\nSkipping line 515: expected 24 fields, saw 25\\nSkipping line 516: expected 24 fields, saw 25\\nSkipping line 517: expected 24 fields, saw 25\\nSkipping line 518: expected 24 fields, saw 25\\nSkipping line 519: expected 24 fields, saw 25\\nSkipping line 520: expected 24 fields, saw 25\\nSkipping line 521: expected 24 fields, saw 25\\nSkipping line 522: expected 24 fields, saw 25\\nSkipping line 529: expected 24 fields, saw 25\\nSkipping line 530: expected 24 fields, saw 25\\nSkipping line 531: expected 24 fields, saw 25\\nSkipping line 532: expected 24 fields, saw 25\\nSkipping line 533: expected 24 fields, saw 25\\nSkipping line 534: expected 24 fields, saw 25\\nSkipping line 541: expected 24 fields, saw 26\\nSkipping line 542: expected 24 fields, saw 26\\nSkipping line 543: expected 24 fields, saw 26\\nSkipping line 544: expected 24 fields, saw 26\\nSkipping line 545: expected 24 fields, saw 26\\nSkipping line 551: expected 24 fields, saw 26\\nSkipping line 552: expected 24 fields, saw 26\\nSkipping line 553: expected 24 fields, saw 26\\nSkipping line 554: expected 24 fields, saw 26\\nSkipping line 555: expected 24 fields, saw 26\\n'\n"
     ]
    }
   ],
   "source": [
    "normal_logs_raw = pd.read_csv(\"./data/normal.log\", header = None, delimiter = \" \")\n",
    "sql_logs_raw = pd.read_csv(\"./data/sql.log\", header = None, delimiter = \" \")\n",
    "xss_logs_raw = pd.read_csv(\"./data/xss.log\", header = None, delimiter = \" \",error_bad_lines=False)\n",
    "\n",
    "log_length_normal = normal_logs_raw.shape[0]\n",
    "log_length_sql = sql_logs_raw.shape[0]\n",
    "log_length_xss = xss_logs_raw.shape[0]"
   ]
  },
  {
   "cell_type": "code",
   "execution_count": 33,
   "metadata": {
    "collapsed": true
   },
   "outputs": [],
   "source": [
    "def bulkData(length, log_type):\n",
    "    es = Elasticsearch()\n",
    "    j = 0\n",
    "    actions = []\n",
    "    # give diffrent separators to diffrent logs\n",
    "    if log_type == 'bf':\n",
    "        separator = 0\n",
    "    if log_type == 'normal':\n",
    "        separator = 200000\n",
    "    if log_type == 'sql':\n",
    "        separator = 400000\n",
    "    if log_type == 'xss':\n",
    "        separator = 600000\n",
    "    while (j < length):\n",
    "        log = BF_logs_raw.loc[j]\n",
    "        action = {\n",
    "            \"_index\": 'log',\n",
    "            \"_type\": log_type,\n",
    "            \"_id\": j + separator,\n",
    "            \"_source\": {\n",
    "                \"timestamp\":log[3],\n",
    "                \"action\":log[5],\n",
    "                \"status\":log[6],\n",
    "                \"respsize\":log[7],\n",
    "                \"data\":log[9],\n",
    "                \"timed\":log[10]\n",
    "            }\n",
    "        }\n",
    "        actions.append(action)\n",
    "        j += 1\n",
    "    # use bulk to POST data\n",
    "    if (len(actions) > 0):\n",
    "        helpers.bulk(es, actions)\n",
    "        del actions[0:len(actions)]"
   ]
  },
  {
   "cell_type": "code",
   "execution_count": 34,
   "metadata": {
    "collapsed": true
   },
   "outputs": [],
   "source": [
    "bulkData(log_length_normal, 'normal')\n",
    "bulkData(log_length_sql, 'sql')\n",
    "bulkData(log_length_xss, 'xss')"
   ]
  },
  {
   "cell_type": "markdown",
   "metadata": {},
   "source": [
    "### Get data "
   ]
  },
  {
   "cell_type": "code",
   "execution_count": 56,
   "metadata": {},
   "outputs": [
    {
     "data": {
      "text/plain": [
       "{'_shards': {'failed': 0, 'skipped': 0, 'successful': 5, 'total': 5},\n",
       " 'hits': {'hits': [{'_id': '200000',\n",
       "    '_index': 'log',\n",
       "    '_score': 1.0,\n",
       "    '_source': {'action': 'GET / HTTP/1.1',\n",
       "     'data': 'director 123456 136.133.92.208 1 Mozilla/5.0 (Macintosh; Intel Mac OS X 10_10_3) AppleWebKit/537.36 (KHTML, like Gecko) Chrome/43.0.2357.81 Safari/537.36',\n",
       "     'respsize': '1040',\n",
       "     'status': '200',\n",
       "     'timed': '312',\n",
       "     'timestamp': '[22/Jan/2018:15:02:01'},\n",
       "    '_type': 'normal'},\n",
       "   {'_id': '200001',\n",
       "    '_index': 'log',\n",
       "    '_score': 1.0,\n",
       "    '_source': {'action': 'GET /css/index.css HTTP/1.1',\n",
       "     'data': 'director 123456 136.133.92.208 1 Mozilla/5.0 (Macintosh; Intel Mac OS X 10_10_3) AppleWebKit/537.36 (KHTML, like Gecko) Chrome/43.0.2357.81 Safari/537.36',\n",
       "     'respsize': '945',\n",
       "     'status': '200',\n",
       "     'timed': '14',\n",
       "     'timestamp': '[22/Jan/2018:15:02:01'},\n",
       "    '_type': 'normal'},\n",
       "   {'_id': '200015',\n",
       "    '_index': 'log',\n",
       "    '_score': 1.0,\n",
       "    '_source': {'action': 'GET / HTTP/1.1',\n",
       "     'data': 'testing 123456 30.142.97.121 1 Mozilla/5.0 (Macintosh; Intel Mac OS X 10_10_3) AppleWebKit/537.36 (KHTML, like Gecko) Chrome/43.0.2357.81 Safari/537.36',\n",
       "     'respsize': '1040',\n",
       "     'status': '200',\n",
       "     'timed': '0',\n",
       "     'timestamp': '[22/Jan/2018:15:02:16'},\n",
       "    '_type': 'normal'},\n",
       "   {'_id': '200016',\n",
       "    '_index': 'log',\n",
       "    '_score': 1.0,\n",
       "    '_source': {'action': 'POST /datalab HTTP/1.1',\n",
       "     'data': 'password 123456 136.133.92.208 1 Mozilla/5.0 (Macintosh; Intel Mac OS X 10_10_3) AppleWebKit/537.36 (KHTML, like Gecko) Chrome/43.0.2357.81 Safari/537.36',\n",
       "     'respsize': '1073',\n",
       "     'status': '200',\n",
       "     'timed': '3403',\n",
       "     'timestamp': '[22/Jan/2018:15:02:17'},\n",
       "    '_type': 'normal'},\n",
       "   {'_id': '200017',\n",
       "    '_index': 'log',\n",
       "    '_score': 1.0,\n",
       "    '_source': {'action': 'GET /css/index.css HTTP/1.1',\n",
       "     'data': 'testing 123456 30.142.97.121 1 Mozilla/5.0 (Macintosh; Intel Mac OS X 10_10_3) AppleWebKit/537.36 (KHTML, like Gecko) Chrome/43.0.2357.81 Safari/537.36',\n",
       "     'respsize': '945',\n",
       "     'status': '200',\n",
       "     'timed': '7',\n",
       "     'timestamp': '[22/Jan/2018:15:02:17'},\n",
       "    '_type': 'normal'},\n",
       "   {'_id': '200020',\n",
       "    '_index': 'log',\n",
       "    '_score': 1.0,\n",
       "    '_source': {'action': 'GET /img/logo.png HTTP/1.1',\n",
       "     'data': 'password 123456 136.133.92.208 1 Mozilla/5.0 (Macintosh; Intel Mac OS X 10_10_3) AppleWebKit/537.36 (KHTML, like Gecko) Chrome/43.0.2357.81 Safari/537.36',\n",
       "     'respsize': '-',\n",
       "     'status': '304',\n",
       "     'timed': '5',\n",
       "     'timestamp': '[22/Jan/2018:15:02:18'},\n",
       "    '_type': 'normal'},\n",
       "   {'_id': '200029',\n",
       "    '_index': 'log',\n",
       "    '_score': 1.0,\n",
       "    '_source': {'action': 'POST /datalab HTTP/1.1',\n",
       "     'data': 'help 123456 136.133.92.208 1 Mozilla/5.0 (Macintosh; Intel Mac OS X 10_10_3) AppleWebKit/537.36 (KHTML, like Gecko) Chrome/43.0.2357.81 Safari/537.36',\n",
       "     'respsize': '1073',\n",
       "     'status': '200',\n",
       "     'timed': '149',\n",
       "     'timestamp': '[22/Jan/2018:15:02:24'},\n",
       "    '_type': 'normal'},\n",
       "   {'_id': '200030',\n",
       "    '_index': 'log',\n",
       "    '_score': 1.0,\n",
       "    '_source': {'action': 'GET /css/index.css HTTP/1.1',\n",
       "     'data': 'help 123456 136.133.92.208 1 Mozilla/5.0 (Macintosh; Intel Mac OS X 10_10_3) AppleWebKit/537.36 (KHTML, like Gecko) Chrome/43.0.2357.81 Safari/537.36',\n",
       "     'respsize': '-',\n",
       "     'status': '304',\n",
       "     'timed': '3',\n",
       "     'timestamp': '[22/Jan/2018:15:02:25'},\n",
       "    '_type': 'normal'},\n",
       "   {'_id': '200031',\n",
       "    '_index': 'log',\n",
       "    '_score': 1.0,\n",
       "    '_source': {'action': 'GET /img/logo.png HTTP/1.1',\n",
       "     'data': 'help 123456 136.133.92.208 1 Mozilla/5.0 (Macintosh; Intel Mac OS X 10_10_3) AppleWebKit/537.36 (KHTML, like Gecko) Chrome/43.0.2357.81 Safari/537.36',\n",
       "     'respsize': '-',\n",
       "     'status': '304',\n",
       "     'timed': '4',\n",
       "     'timestamp': '[22/Jan/2018:15:02:25'},\n",
       "    '_type': 'normal'},\n",
       "   {'_id': '200034',\n",
       "    '_index': 'log',\n",
       "    '_score': 1.0,\n",
       "    '_source': {'action': 'GET /img/logo.png HTTP/1.1',\n",
       "     'data': 'admin 123456 30.142.97.121 1 Mozilla/5.0 (Macintosh; Intel Mac OS X 10_10_3) AppleWebKit/537.36 (KHTML, like Gecko) Chrome/43.0.2357.81 Safari/537.36',\n",
       "     'respsize': '-',\n",
       "     'status': '304',\n",
       "     'timed': '1',\n",
       "     'timestamp': '[22/Jan/2018:15:02:27'},\n",
       "    '_type': 'normal'}],\n",
       "  'max_score': 1.0,\n",
       "  'total': 12000},\n",
       " 'timed_out': False,\n",
       " 'took': 2}"
      ]
     },
     "execution_count": 56,
     "metadata": {},
     "output_type": "execute_result"
    }
   ],
   "source": [
    "es.search(index=\"log\", doc_type='normal',body={\"query\": {\"match_all\": {}}})"
   ]
  }
 ],
 "metadata": {
  "anaconda-cloud": {},
  "kernelspec": {
   "display_name": "Python [default]",
   "language": "python",
   "name": "python3"
  },
  "language_info": {
   "codemirror_mode": {
    "name": "ipython",
    "version": 3
   },
   "file_extension": ".py",
   "mimetype": "text/x-python",
   "name": "python",
   "nbconvert_exporter": "python",
   "pygments_lexer": "ipython3",
   "version": "3.5.2"
  }
 },
 "nbformat": 4,
 "nbformat_minor": 1
}
