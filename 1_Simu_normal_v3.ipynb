{
 "cells": [
  {
   "cell_type": "markdown",
   "metadata": {},
   "source": [
    "### Libraries"
   ]
  },
  {
   "cell_type": "code",
   "execution_count": 1,
   "metadata": {
    "collapsed": true
   },
   "outputs": [],
   "source": [
    "from selenium import webdriver\n",
    "from selenium.webdriver.common.desired_capabilities import DesiredCapabilities\n",
    "from selenium.webdriver.common.action_chains import ActionChains\n",
    "from bs4 import BeautifulSoup\n",
    "from datetime import datetime\n",
    "import getpass\n",
    "import json, time, os, re, random"
   ]
  },
  {
   "cell_type": "markdown",
   "metadata": {},
   "source": [
    "### Import data - username & password"
   ]
  },
  {
   "cell_type": "code",
   "execution_count": 2,
   "metadata": {
    "collapsed": true
   },
   "outputs": [],
   "source": [
    "import pandas as pd\n",
    "combo_list = pd.read_csv('combo_list_normal.csv', delimiter = ',')\n",
    "# To lists\n",
    "user_list = combo_list['username'].tolist()\n",
    "pwd_list = combo_list.iloc[:,1].tolist()\n",
    "# URL\n",
    "url = 'http://31.14.135.81:3000/'"
   ]
  },
  {
   "cell_type": "markdown",
   "metadata": {},
   "source": [
    "### Login funtion"
   ]
  },
  {
   "cell_type": "code",
   "execution_count": 3,
   "metadata": {
    "collapsed": true
   },
   "outputs": [],
   "source": [
    "def user_login(url,liste_login,liste_password,successful_rate=0.9):\n",
    "    if successful_rate < 0 or successful_rate > 1:\n",
    "        return\n",
    "    # Random user\n",
    "    index = random.randint(0, len(liste_login)-1) \n",
    "    # Random IP\n",
    "    ip = str(random.randint(0, 255)) + '.' + str(random.randint(0, 255)) + '.' + str(random.randint(0, 255)) + '.' + str(random.randint(0, 255)) \n",
    "    # Successful login or not\n",
    "    forget_login = random.random()\n",
    "    forget_pwd = random.random()\n",
    "    if forget_login > successful_rate: # forgot login\n",
    "        username = liste_login[random.randint(0, len(liste_login)-1)]\n",
    "        password = liste_password[index]\n",
    "    elif forget_pwd > successful_rate: # forgot password\n",
    "        username = liste_login[index]\n",
    "        password = liste_password[random.randint(0, len(liste_login)-1)]\n",
    "    else:\n",
    "        username = liste_login[index]\n",
    "        password = liste_password[index]\n",
    "    # Login\n",
    "    dcap = dict(DesiredCapabilities.PHANTOMJS)\n",
    "    dcap['phantomjs.page.settings.userAgent'] = username+' '+password+' '+ip+' 0'+' Mozilla/5.0 (Macintosh; Intel Mac OS X 10_10_3) AppleWebKit/537.36 (KHTML, like Gecko) Chrome/43.0.2357.81 Safari/537.36'\n",
    "    time.sleep(0.5 + random.random()) # wait at least 0.5 second\n",
    "    browser = webdriver.PhantomJS(desired_capabilities=dcap)\n",
    "    time.sleep(0.5)\n",
    "    browser.get(url)\n",
    "    \n",
    "    login = browser.find_element_by_name(\"pseudo\")\n",
    "    login.send_keys(str(username))\n",
    "    login = browser.find_element_by_name(\"pwd\")\n",
    "    login.send_keys(str(password))\n",
    "            \n",
    "    browser.find_element_by_tag_name('button').click()\n",
    "#     print('Login :', login, 'pwd :', password,'\\n', 'IP :', ip)"
   ]
  },
  {
   "cell_type": "markdown",
   "metadata": {},
   "source": [
    "### Single thread login"
   ]
  },
  {
   "cell_type": "code",
   "execution_count": 4,
   "metadata": {},
   "outputs": [
    {
     "name": "stdout",
     "output_type": "stream",
     "text": [
      "10.0 % finished\n",
      "20.0 % finished\n",
      "30.0 % finished\n",
      "40.0 % finished\n",
      "50.0 % finished\n",
      "60.0 % finished\n",
      "70.0 % finished\n",
      "80.0 % finished\n",
      "90.0 % finished\n",
      "100.0 % finished\n"
     ]
    }
   ],
   "source": [
    "total_number_login = 2000\n",
    "number_to_login = 0\n",
    "while(number_to_login < total_number_login):\n",
    "    user_login(url, user_list, pwd_list)\n",
    "    number_to_login += 1\n",
    "    if (number_to_login % (total_number_login * 0.1)) == 0:\n",
    "        print((number_to_login / total_number_login) * 100,'% finished')"
   ]
  },
  {
   "cell_type": "markdown",
   "metadata": {},
   "source": [
    "### Multi-thread login"
   ]
  },
  {
   "cell_type": "code",
   "execution_count": 5,
   "metadata": {
    "collapsed": true
   },
   "outputs": [],
   "source": [
    "# import time, threading\n",
    "\n",
    "# login_1 = threading.Thread(target = user_login, args=(url, user_list, pwd_list), name='login_1')\n",
    "# login_2 = threading.Thread(target = user_login, args=(url, user_list, pwd_list), name='login_2')\n",
    "# login_3 = threading.Thread(target = user_login, args=(url, user_list, pwd_list), name='login_3')\n",
    "# login_4 = threading.Thread(target = user_login, args=(url, user_list, pwd_list), name='login_4')\n",
    "\n",
    "# login_1.start()\n",
    "# login_2.start()\n",
    "# login_3.start()\n",
    "# login_4.start()\n",
    "\n",
    "# login_1.join()\n",
    "# login_2.join()\n",
    "# login_3.join()\n",
    "# login_4.join()"
   ]
  }
 ],
 "metadata": {
  "anaconda-cloud": {},
  "kernelspec": {
   "display_name": "Python [default]",
   "language": "python",
   "name": "python3"
  },
  "language_info": {
   "codemirror_mode": {
    "name": "ipython",
    "version": 3
   },
   "file_extension": ".py",
   "mimetype": "text/x-python",
   "name": "python",
   "nbconvert_exporter": "python",
   "pygments_lexer": "ipython3",
   "version": "3.5.2"
  }
 },
 "nbformat": 4,
 "nbformat_minor": 2
}
