{
 "cells": [
  {
   "cell_type": "markdown",
   "metadata": {},
   "source": [
    "### Python libs"
   ]
  },
  {
   "cell_type": "code",
   "execution_count": 22,
   "metadata": {},
   "outputs": [],
   "source": [
    "import pandas as pd\n",
    "import numpy as np\n",
    "from pandas import Series,DataFrame\n",
    "import matplotlib.pyplot as plt\n",
    "from sklearn import cross_validation\n",
    "from sklearn import tree\n",
    "from sklearn import svm\n",
    "from sklearn.linear_model import LogisticRegression\n",
    "from sklearn.ensemble import RandomForestClassifier\n",
    "from sklearn.ensemble import AdaBoostClassifier\n",
    "from sklearn import preprocessing\n",
    "import pydotplus"
   ]
  },
  {
   "cell_type": "markdown",
   "metadata": {},
   "source": [
    "### Data import"
   ]
  },
  {
   "cell_type": "markdown",
   "metadata": {},
   "source": [
    "#### Read data"
   ]
  },
  {
   "cell_type": "code",
   "execution_count": 2,
   "metadata": {},
   "outputs": [
    {
     "data": {
      "text/plain": [
       "((64031, 13), (12000, 13))"
      ]
     },
     "execution_count": 2,
     "metadata": {},
     "output_type": "execute_result"
    }
   ],
   "source": [
    "BF_logs = pd.read_pickle('./data/BF_logs.p')\n",
    "Normal_logs = pd.read_pickle('./data/Normal_logs.p')\n",
    "BF_logs.shape, Normal_logs.shape"
   ]
  },
  {
   "cell_type": "markdown",
   "metadata": {},
   "source": [
    "#### Concatenate"
   ]
  },
  {
   "cell_type": "code",
   "execution_count": 3,
   "metadata": {},
   "outputs": [
    {
     "data": {
      "text/plain": [
       "(76031, 13)"
      ]
     },
     "execution_count": 3,
     "metadata": {},
     "output_type": "execute_result"
    }
   ],
   "source": [
    "all_data = pd.concat([BF_logs, Normal_logs])\n",
    "all_data.shape"
   ]
  },
  {
   "cell_type": "markdown",
   "metadata": {},
   "source": [
    "### Preparation"
   ]
  },
  {
   "cell_type": "markdown",
   "metadata": {},
   "source": [
    "#### Prepare"
   ]
  },
  {
   "cell_type": "code",
   "execution_count": 4,
   "metadata": {
    "collapsed": true
   },
   "outputs": [],
   "source": [
    "# if respsize is -, then 0\n",
    "all_data = all_data.replace('-',0)"
   ]
  },
  {
   "cell_type": "code",
   "execution_count": 5,
   "metadata": {},
   "outputs": [
    {
     "name": "stdout",
     "output_type": "stream",
     "text": [
      "<class 'pandas.core.frame.DataFrame'>\n",
      "Int64Index: 76031 entries, 0 to 11999\n",
      "Data columns (total 13 columns):\n",
      "status        76031 non-null object\n",
      "respsize      76031 non-null object\n",
      "timed         76031 non-null object\n",
      "date          76031 non-null object\n",
      "hour          76031 non-null object\n",
      "minute        76031 non-null object\n",
      "seconds       76031 non-null object\n",
      "protocol      76031 non-null object\n",
      "username      76031 non-null object\n",
      "password      76031 non-null object\n",
      "ip_address    76031 non-null object\n",
      "comment       76031 non-null object\n",
      "label         76031 non-null object\n",
      "dtypes: object(13)\n",
      "memory usage: 8.1+ MB\n",
      "None\n",
      "count     76031\n",
      "unique        2\n",
      "top           1\n",
      "freq      64031\n",
      "Name: label, dtype: object\n"
     ]
    }
   ],
   "source": [
    "print(all_data.info())\n",
    "print(all_data['label'].describe())"
   ]
  },
  {
   "cell_type": "markdown",
   "metadata": {},
   "source": [
    "#### Features & Target"
   ]
  },
  {
   "cell_type": "code",
   "execution_count": 6,
   "metadata": {
    "collapsed": true
   },
   "outputs": [],
   "source": [
    "train = all_data.loc[:,['status','respsize','timed']]\n",
    "train_ip = all_data.loc[:,['status','respsize','timed','ip_address']]\n",
    "# target is always the label\n",
    "target = all_data.label"
   ]
  },
  {
   "cell_type": "code",
   "execution_count": 7,
   "metadata": {},
   "outputs": [
    {
     "data": {
      "text/html": [
       "<div>\n",
       "<style scoped>\n",
       "    .dataframe tbody tr th:only-of-type {\n",
       "        vertical-align: middle;\n",
       "    }\n",
       "\n",
       "    .dataframe tbody tr th {\n",
       "        vertical-align: top;\n",
       "    }\n",
       "\n",
       "    .dataframe thead th {\n",
       "        text-align: right;\n",
       "    }\n",
       "</style>\n",
       "<table border=\"1\" class=\"dataframe\">\n",
       "  <thead>\n",
       "    <tr style=\"text-align: right;\">\n",
       "      <th></th>\n",
       "      <th>status</th>\n",
       "      <th>respsize</th>\n",
       "      <th>timed</th>\n",
       "      <th>ip_address</th>\n",
       "    </tr>\n",
       "  </thead>\n",
       "  <tbody>\n",
       "    <tr>\n",
       "      <th>0</th>\n",
       "      <td>200</td>\n",
       "      <td>1040</td>\n",
       "      <td>312</td>\n",
       "      <td>332</td>\n",
       "    </tr>\n",
       "    <tr>\n",
       "      <th>1</th>\n",
       "      <td>200</td>\n",
       "      <td>945</td>\n",
       "      <td>14</td>\n",
       "      <td>332</td>\n",
       "    </tr>\n",
       "    <tr>\n",
       "      <th>2</th>\n",
       "      <td>200</td>\n",
       "      <td>34463</td>\n",
       "      <td>9</td>\n",
       "      <td>332</td>\n",
       "    </tr>\n",
       "    <tr>\n",
       "      <th>3</th>\n",
       "      <td>200</td>\n",
       "      <td>1040</td>\n",
       "      <td>2</td>\n",
       "      <td>1419</td>\n",
       "    </tr>\n",
       "    <tr>\n",
       "      <th>4</th>\n",
       "      <td>200</td>\n",
       "      <td>945</td>\n",
       "      <td>9</td>\n",
       "      <td>1419</td>\n",
       "    </tr>\n",
       "  </tbody>\n",
       "</table>\n",
       "</div>"
      ],
      "text/plain": [
       "  status respsize timed  ip_address\n",
       "0    200     1040   312         332\n",
       "1    200      945    14         332\n",
       "2    200    34463     9         332\n",
       "3    200     1040     2        1419\n",
       "4    200      945     9        1419"
      ]
     },
     "execution_count": 7,
     "metadata": {},
     "output_type": "execute_result"
    }
   ],
   "source": [
    "# Special process for train_ip : transform string variable to numbers\n",
    "le = preprocessing.LabelEncoder()\n",
    "train_ip['ip_address'] = le.fit_transform(train_ip['ip_address']) \n",
    "train_ip.head()"
   ]
  },
  {
   "cell_type": "markdown",
   "metadata": {},
   "source": [
    "### Detection"
   ]
  },
  {
   "cell_type": "markdown",
   "metadata": {},
   "source": [
    "#### Evaluation rules"
   ]
  },
  {
   "cell_type": "code",
   "execution_count": 8,
   "metadata": {
    "collapsed": true
   },
   "outputs": [],
   "source": [
    "# evaluation indicators\n",
    "from sklearn import metrics\n",
    "def performance(y_test,y_pred):\n",
    "    print (\"Accuracy:\", round(metrics.accuracy_score(y_test, y_pred),3))\n",
    "    print (\"Precision:\", round(metrics.precision_score(y_test, y_pred, pos_label='1'),3))\n",
    "    print (\"Recall:\", round(metrics.recall_score(y_test, y_pred, pos_label='1'),3))\n",
    "    print (\"F1:\", round(metrics.f1_score(y_test,y_pred, pos_label='1'),3))\n",
    "#     print (\"metrics.confusion_matrix:\")\n",
    "#     print (metrics.confusion_matrix(y_test, y_pred))"
   ]
  },
  {
   "cell_type": "code",
   "execution_count": 9,
   "metadata": {
    "collapsed": true
   },
   "outputs": [],
   "source": [
    "# Show confusion matrix\n",
    "from sklearn import metrics\n",
    "def plot_cm(cm, labels):\n",
    "    # Compute percentanges\n",
    "    percent = (cm*100.0)/np.array(np.matrix(cm.sum(axis=1)).T)  # Derp, I'm sure there's a better way\n",
    "    print ('Confusion Matrix Stats')\n",
    "    for i, label_i in enumerate(labels):\n",
    "        for j, label_j in enumerate(labels):\n",
    "            print (\"%s/%s: %.2f%% (%d/%d)\" % (label_i, label_j, (percent[i][j]), cm[i][j], cm[i].sum()))\n",
    "    # Thanks kermit666 from stackoverflow :)\n",
    "    fig = plt.figure()\n",
    "    ax = fig.add_subplot(111)\n",
    "    ax.grid(b=False)\n",
    "    cax = ax.matshow(percent, cmap='coolwarm')\n",
    "    plt.title('Confusion matrix of the classifier')\n",
    "    fig.colorbar(cax)\n",
    "    ax.set_xticklabels([''] + labels)\n",
    "    ax.set_yticklabels([''] + labels)\n",
    "    plt.xlabel('Predicted')\n",
    "    plt.ylabel('True')\n",
    "    plt.show()"
   ]
  },
  {
   "cell_type": "markdown",
   "metadata": {},
   "source": [
    "#### Without ip_address"
   ]
  },
  {
   "cell_type": "code",
   "execution_count": 10,
   "metadata": {
    "collapsed": true
   },
   "outputs": [],
   "source": [
    "# data split\n",
    "X_train, X_test, y_train, y_test = cross_validation.train_test_split(train.values, target.values, test_size=0.3, random_state=0)"
   ]
  },
  {
   "cell_type": "markdown",
   "metadata": {},
   "source": [
    "#### 1. Decision Tree"
   ]
  },
  {
   "cell_type": "code",
   "execution_count": 11,
   "metadata": {},
   "outputs": [
    {
     "name": "stdout",
     "output_type": "stream",
     "text": [
      "The result of cross validation is:\n",
      " [0.84008417 0.83966855 0.84585032 0.84058924 0.84348284 0.83861634\n",
      " 0.84321978 0.8408523  0.83782717 0.82309615] \n",
      "\n",
      "Confusion Matrix Stats\n",
      "no attaque/no attaque: 5.24% (191/3643)\n",
      "no attaque/attaque: 94.76% (3452/3643)\n",
      "attaque/no attaque: 1.43% (274/19167)\n",
      "attaque/attaque: 98.57% (18893/19167)\n"
     ]
    },
    {
     "data": {
      "image/png": "[encoded data removed]",
      "text/plain": [
       "<matplotlib.figure.Figure at 0xcd91475e48>"
      ]
     },
     "metadata": {},
     "output_type": "display_data"
    },
    {
     "name": "stdout",
     "output_type": "stream",
     "text": [
      "Accuracy: 0.837\n",
      "Precision: 0.846\n",
      "Recall: 0.986\n",
      "F1: 0.91\n"
     ]
    }
   ],
   "source": [
    "# classifier\n",
    "clf = tree.DecisionTreeClassifier()\n",
    "# cross validation\n",
    "print('The result of cross validation is:\\n',cross_validation.cross_val_score(clf, X = train.values, y = target.values, cv = 10),'\\n')\n",
    "# training\n",
    "clf = clf.fit(X_train, y_train)\n",
    "# classification\n",
    "y_pred = clf.predict(X_test)\n",
    "# confusion matrix\n",
    "labels = ['no attaque', 'attaque']\n",
    "cm = metrics.confusion_matrix(y_test, y_pred)\n",
    "plot_cm(cm, labels)\n",
    "# performance\n",
    "performance(y_test, y_pred)"
   ]
  },
  {
   "cell_type": "code",
   "execution_count": 12,
   "metadata": {
    "collapsed": true
   },
   "outputs": [],
   "source": [
    "# # Visualization\n",
    "# dot_data = tree.export_graphviz(clf, out_file=None)\n",
    "# graph = pydotplus.graph_from_dot_data(dot_data)\n",
    "# graph.write_pdf('./data/test.png')"
   ]
  },
  {
   "cell_type": "markdown",
   "metadata": {},
   "source": [
    "#### 2.Logistic"
   ]
  },
  {
   "cell_type": "code",
   "execution_count": 13,
   "metadata": {},
   "outputs": [
    {
     "name": "stdout",
     "output_type": "stream",
     "text": [
      "The result of cross validation is:\n",
      " [0.84218832 0.84216757 0.84216757 0.84216757 0.84216757 0.84216757\n",
      " 0.84216757 0.84216757 0.84216757 0.84216757] \n",
      "\n",
      "Confusion Matrix Stats\n",
      "no attaque/no attaque: 0.00% (0/3643)\n",
      "no attaque/attaque: 100.00% (3643/3643)\n",
      "attaque/no attaque: 0.00% (0/19167)\n",
      "attaque/attaque: 100.00% (19167/19167)\n"
     ]
    },
    {
     "data": {
      "image/png": "[encoded data removed]",
      "text/plain": [
       "<matplotlib.figure.Figure at 0xcd91506f28>"
      ]
     },
     "metadata": {},
     "output_type": "display_data"
    },
    {
     "name": "stdout",
     "output_type": "stream",
     "text": [
      "Accuracy: 0.84\n",
      "Precision: 0.84\n",
      "Recall: 1.0\n",
      "F1: 0.913\n"
     ]
    }
   ],
   "source": [
    "# classifier\n",
    "clf_log = LogisticRegression()\n",
    "# cross validation\n",
    "print('The result of cross validation is:\\n',cross_validation.cross_val_score(clf_log, X = train.values, y = target.values, cv = 10),'\\n')\n",
    "# training\n",
    "clf_log = clf_log.fit(X_train, y_train)\n",
    "# classification\n",
    "y_pred = clf_log.predict(X_test)\n",
    "# confusion matrix\n",
    "labels = ['no attaque', 'attaque']\n",
    "cm = metrics.confusion_matrix(y_test, y_pred)\n",
    "plot_cm(cm, labels)\n",
    "# performance\n",
    "performance(y_test, y_pred)"
   ]
  },
  {
   "cell_type": "markdown",
   "metadata": {},
   "source": [
    "#### 3.RandomForest"
   ]
  },
  {
   "cell_type": "code",
   "execution_count": 18,
   "metadata": {},
   "outputs": [
    {
     "name": "stdout",
     "output_type": "stream",
     "text": [
      "The result of cross validation is:\n",
      " [0.84074171 0.83966855 0.84690254 0.84348284 0.84374589 0.83966855\n",
      " 0.84532421 0.84098382 0.83927397 0.82559516] \n",
      "\n",
      "Confusion Matrix Stats\n",
      "no attaque/no attaque: 4.91% (179/3643)\n",
      "no attaque/attaque: 95.09% (3464/3643)\n",
      "attaque/no attaque: 1.05% (202/19167)\n",
      "attaque/attaque: 98.95% (18965/19167)\n"
     ]
    },
    {
     "data": {
      "image/png": "[encoded data removed]",
      "text/plain": [
       "<matplotlib.figure.Figure at 0xcd9219eef0>"
      ]
     },
     "metadata": {},
     "output_type": "display_data"
    },
    {
     "name": "stdout",
     "output_type": "stream",
     "text": [
      "Accuracy: 0.839\n",
      "Precision: 0.846\n",
      "Recall: 0.989\n",
      "F1: 0.912\n"
     ]
    }
   ],
   "source": [
    "# classifier\n",
    "clf_rf = RandomForestClassifier()\n",
    "# cross validation\n",
    "print('The result of cross validation is:\\n',cross_validation.cross_val_score(clf_rf, X = train.values, y = target.values, cv = 10),'\\n')\n",
    "# training\n",
    "clf_rf = clf_rf.fit(X_train, y_train)\n",
    "# classification\n",
    "y_pred = clf_rf.predict(X_test)\n",
    "# confusion matrix\n",
    "labels = ['no attaque', 'attaque']\n",
    "cm = metrics.confusion_matrix(y_test, y_pred)\n",
    "plot_cm(cm, labels)\n",
    "# performance\n",
    "performance(y_test, y_pred)"
   ]
  },
  {
   "cell_type": "markdown",
   "metadata": {},
   "source": [
    "#### 4.Adaboost"
   ]
  },
  {
   "cell_type": "code",
   "execution_count": 23,
   "metadata": {},
   "outputs": [
    {
     "name": "stdout",
     "output_type": "stream",
     "text": [
      "The result of cross validation is:\n",
      " [0.8460021  0.84308825 0.84216757 0.84216757 0.84216757 0.84400894\n",
      " 0.84216757 0.84374589 0.84216757 0.84177298] \n",
      "\n",
      "Confusion Matrix Stats\n",
      "no attaque/no attaque: 0.00% (0/3643)\n",
      "no attaque/attaque: 100.00% (3643/3643)\n",
      "attaque/no attaque: 0.00% (0/19167)\n",
      "attaque/attaque: 100.00% (19167/19167)\n"
     ]
    },
    {
     "data": {
      "image/png": "[encoded data removed]",
      "text/plain": [
       "<matplotlib.figure.Figure at 0xcd92a37860>"
      ]
     },
     "metadata": {},
     "output_type": "display_data"
    },
    {
     "name": "stdout",
     "output_type": "stream",
     "text": [
      "Accuracy: 0.84\n",
      "Precision: 0.84\n",
      "Recall: 1.0\n",
      "F1: 0.913\n"
     ]
    }
   ],
   "source": [
    "# classifier\n",
    "clf_ada = AdaBoostClassifier(n_estimators=100)\n",
    "# cross validation\n",
    "print('The result of cross validation is:\\n',cross_validation.cross_val_score(clf_ada, X = train.values, y = target.values, cv = 10),'\\n')\n",
    "# training\n",
    "clf_ada = clf_ada.fit(X_train, y_train)\n",
    "# classification\n",
    "y_pred = clf_ada.predict(X_test)\n",
    "# confusion matrix\n",
    "labels = ['no attaque', 'attaque']\n",
    "cm = metrics.confusion_matrix(y_test, y_pred)\n",
    "plot_cm(cm, labels)\n",
    "# performance\n",
    "performance(y_test, y_pred)"
   ]
  },
  {
   "cell_type": "markdown",
   "metadata": {},
   "source": [
    "#### 5.SVM (Warning: take too much time)"
   ]
  },
  {
   "cell_type": "code",
   "execution_count": null,
   "metadata": {
    "collapsed": true
   },
   "outputs": [],
   "source": [
    "# # classifier\n",
    "# clf_svm = svm.SVC(kernel='linear', C=1)\n",
    "# # cross validation\n",
    "# print('The result of cross validation is:\\n',cross_validation.cross_val_score(clf_svm, X = train.values, y = target.values, cv = 10),'\\n')\n",
    "# # training\n",
    "# clf_svm = clf_svm.fit(X_train, y_train)\n",
    "# # classification\n",
    "# y_pred = clf_svm.predict(X_test)\n",
    "# # confusion matrix\n",
    "# labels = ['no attaque', 'attaque']\n",
    "# cm = metrics.confusion_matrix(y_test, y_pred)\n",
    "# plot_cm(cm, labels)\n",
    "# # performance\n",
    "# performance(y_test, y_pred)"
   ]
  },
  {
   "cell_type": "markdown",
   "metadata": {},
   "source": [
    "#### With ip_address"
   ]
  },
  {
   "cell_type": "code",
   "execution_count": 19,
   "metadata": {
    "collapsed": true
   },
   "outputs": [],
   "source": [
    "# data split\n",
    "X_train_ip, X_test_ip, y_train_ip, y_test_ip = cross_validation.train_test_split(train_ip.values, target.values, test_size=0.3, random_state=0)"
   ]
  },
  {
   "cell_type": "markdown",
   "metadata": {},
   "source": [
    "#### 1.Decision Tree"
   ]
  },
  {
   "cell_type": "code",
   "execution_count": 21,
   "metadata": {},
   "outputs": [
    {
     "name": "stdout",
     "output_type": "stream",
     "text": [
      "The result of cross validation is:\n",
      " [0.99921094 0.99921084 1.         0.99921084 0.99842168 1.\n",
      " 0.99842168 0.99842168 1.         0.99842168]\n",
      "Confusion Matrix Stats\n",
      "no attaque/no attaque: 100.00% (3643/3643)\n",
      "no attaque/attaque: 0.00% (0/3643)\n",
      "attaque/no attaque: 0.00% (0/19167)\n",
      "attaque/attaque: 100.00% (19167/19167)\n"
     ]
    },
    {
     "data": {
      "image/png": "[encoded data removed]",
      "text/plain": [
       "<matplotlib.figure.Figure at 0xcd92206d30>"
      ]
     },
     "metadata": {},
     "output_type": "display_data"
    },
    {
     "name": "stdout",
     "output_type": "stream",
     "text": [
      "Accuracy: 1.0\n",
      "Precision: 1.0\n",
      "Recall: 1.0\n",
      "F1: 1.0\n"
     ]
    }
   ],
   "source": [
    "# classifier\n",
    "clf_ip = tree.DecisionTreeClassifier()\n",
    "# cross validation\n",
    "print('The result of cross validation is:\\n',cross_validation.cross_val_score(clf_ip, X = train_ip.values, y = target.values, cv = 10))\n",
    "# training\n",
    "clf_ip = clf_ip.fit(X_train_ip, y_train_ip)\n",
    "# classification\n",
    "y_pred_ip = clf_ip.predict(X_test_ip)\n",
    "# confusion matrix\n",
    "labels = ['no attaque', 'attaque']\n",
    "cm_ip = metrics.confusion_matrix(y_test_ip, y_pred_ip)\n",
    "plot_cm(cm_ip, labels)\n",
    "# performance\n",
    "performance(y_test_ip, y_pred_ip)"
   ]
  }
 ],
 "metadata": {
  "anaconda-cloud": {},
  "kernelspec": {
   "display_name": "Python [default]",
   "language": "python",
   "name": "python3"
  },
  "language_info": {
   "codemirror_mode": {
    "name": "ipython",
    "version": 3
   },
   "file_extension": ".py",
   "mimetype": "text/x-python",
   "name": "python",
   "nbconvert_exporter": "python",
   "pygments_lexer": "ipython3",
   "version": "3.5.2"
  }
 },
 "nbformat": 4,
 "nbformat_minor": 1
}
