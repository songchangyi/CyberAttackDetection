{
 "cells": [
  {
   "cell_type": "markdown",
   "metadata": {},
   "source": [
    "# Détection de tous les attaques en précisant leurs types (BF/SQL/XSS)  "
   ]
  },
  {
   "cell_type": "markdown",
   "metadata": {},
   "source": [
    "### Import data"
   ]
  },
  {
   "cell_type": "code",
   "execution_count": 1,
   "metadata": {
    "collapsed": true,
    "scrolled": true
   },
   "outputs": [],
   "source": [
    "# normal:12000 brut force:12000 sql:236 xss:452\n",
    "import pandas as pd \n",
    "import numpy as np \n",
    "from pandas import Series,DataFrame\n",
    "bf_logs = pd.read_csv(\"./data/bf.csv\")\n",
    "normal_logs = pd.read_csv(\"./data/normal.csv\")\n",
    "sql_logs = pd.read_csv(\"./data/sql.csv\")\n",
    "xss_logs = pd.read_csv(\"./data/xss.csv\")"
   ]
  },
  {
   "cell_type": "code",
   "execution_count": 2,
   "metadata": {
    "collapsed": true
   },
   "outputs": [
    {
     "data": {
      "text/html": [
       "<div>\n",
       "<table border=\"1\" class=\"dataframe\">\n",
       "  <thead>\n",
       "    <tr style=\"text-align: right;\">\n",
       "      <th></th>\n",
       "      <th>Unnamed: 0</th>\n",
       "      <th>ip_address</th>\n",
       "      <th>date</th>\n",
       "      <th>hour</th>\n",
       "      <th>minute</th>\n",
       "      <th>seconds</th>\n",
       "      <th>protocol</th>\n",
       "      <th>username</th>\n",
       "      <th>password</th>\n",
       "      <th>status</th>\n",
       "      <th>respsize</th>\n",
       "      <th>timed</th>\n",
       "      <th>label</th>\n",
       "    </tr>\n",
       "  </thead>\n",
       "  <tbody>\n",
       "    <tr>\n",
       "      <th>0</th>\n",
       "      <td>0</td>\n",
       "      <td>192.108.116.88</td>\n",
       "      <td>18/Dec/2017</td>\n",
       "      <td>13</td>\n",
       "      <td>0</td>\n",
       "      <td>31</td>\n",
       "      <td>GET</td>\n",
       "      <td>datalab</td>\n",
       "      <td>';alert(String.fromCharCode(88,83,83))//';aler...</td>\n",
       "      <td>200</td>\n",
       "      <td>1040</td>\n",
       "      <td>183</td>\n",
       "      <td>3</td>\n",
       "    </tr>\n",
       "    <tr>\n",
       "      <th>1</th>\n",
       "      <td>1</td>\n",
       "      <td>192.108.116.88</td>\n",
       "      <td>18/Dec/2017</td>\n",
       "      <td>13</td>\n",
       "      <td>0</td>\n",
       "      <td>31</td>\n",
       "      <td>GET</td>\n",
       "      <td>datalab</td>\n",
       "      <td>';alert(String.fromCharCode(88,83,83))//';aler...</td>\n",
       "      <td>200</td>\n",
       "      <td>945</td>\n",
       "      <td>35</td>\n",
       "      <td>3</td>\n",
       "    </tr>\n",
       "    <tr>\n",
       "      <th>2</th>\n",
       "      <td>2</td>\n",
       "      <td>192.108.116.88</td>\n",
       "      <td>18/Dec/2017</td>\n",
       "      <td>13</td>\n",
       "      <td>0</td>\n",
       "      <td>31</td>\n",
       "      <td>GET</td>\n",
       "      <td>datalab</td>\n",
       "      <td>';alert(String.fromCharCode(88,83,83))//';aler...</td>\n",
       "      <td>200</td>\n",
       "      <td>34463</td>\n",
       "      <td>8</td>\n",
       "      <td>3</td>\n",
       "    </tr>\n",
       "    <tr>\n",
       "      <th>3</th>\n",
       "      <td>3</td>\n",
       "      <td>192.108.116.88</td>\n",
       "      <td>18/Dec/2017</td>\n",
       "      <td>13</td>\n",
       "      <td>2</td>\n",
       "      <td>31</td>\n",
       "      <td>POST</td>\n",
       "      <td>datalab</td>\n",
       "      <td>';alert(String.fromCharCode(88,83,83))//';aler...</td>\n",
       "      <td>-</td>\n",
       "      <td>-</td>\n",
       "      <td>-</td>\n",
       "      <td>3</td>\n",
       "    </tr>\n",
       "    <tr>\n",
       "      <th>4</th>\n",
       "      <td>4</td>\n",
       "      <td>192.108.116.88</td>\n",
       "      <td>18/Dec/2017</td>\n",
       "      <td>13</td>\n",
       "      <td>4</td>\n",
       "      <td>31</td>\n",
       "      <td>POST</td>\n",
       "      <td>datalab</td>\n",
       "      <td>';alert(String.fromCharCode(88,83,83))//';aler...</td>\n",
       "      <td>-</td>\n",
       "      <td>-</td>\n",
       "      <td>-</td>\n",
       "      <td>3</td>\n",
       "    </tr>\n",
       "  </tbody>\n",
       "</table>\n",
       "</div>"
      ],
      "text/plain": [
       "   Unnamed: 0      ip_address         date  hour  minute  seconds protocol  \\\n",
       "0           0  192.108.116.88  18/Dec/2017    13       0       31      GET   \n",
       "1           1  192.108.116.88  18/Dec/2017    13       0       31      GET   \n",
       "2           2  192.108.116.88  18/Dec/2017    13       0       31      GET   \n",
       "3           3  192.108.116.88  18/Dec/2017    13       2       31     POST   \n",
       "4           4  192.108.116.88  18/Dec/2017    13       4       31     POST   \n",
       "\n",
       "  username                                           password status respsize  \\\n",
       "0  datalab  ';alert(String.fromCharCode(88,83,83))//';aler...    200     1040   \n",
       "1  datalab  ';alert(String.fromCharCode(88,83,83))//';aler...    200      945   \n",
       "2  datalab  ';alert(String.fromCharCode(88,83,83))//';aler...    200    34463   \n",
       "3  datalab  ';alert(String.fromCharCode(88,83,83))//';aler...      -        -   \n",
       "4  datalab  ';alert(String.fromCharCode(88,83,83))//';aler...      -        -   \n",
       "\n",
       "  timed  label  \n",
       "0   183      3  \n",
       "1    35      3  \n",
       "2     8      3  \n",
       "3     -      3  \n",
       "4     -      3  "
      ]
     },
     "execution_count": 2,
     "metadata": {},
     "output_type": "execute_result"
    }
   ],
   "source": [
    "# add labels for attacks\n",
    "bf_logs.label = 1\n",
    "sql_logs.label = 2\n",
    "xss_logs.label = 3\n",
    "xss_logs.head()"
   ]
  },
  {
   "cell_type": "code",
   "execution_count": 3,
   "metadata": {
    "collapsed": true
   },
   "outputs": [],
   "source": [
    "# concatenate\n",
    "frames = [normal_logs,sql_logs,xss_logs]\n",
    "data_logs = pd.concat(frames)"
   ]
  },
  {
   "cell_type": "markdown",
   "metadata": {},
   "source": [
    "### Pré-traitement des données\n",
    "#### Ajout des nouveaux features comme les longueurs, des symboles spéciaux et des mots spéciaux"
   ]
  },
  {
   "cell_type": "code",
   "execution_count": 4,
   "metadata": {
    "collapsed": true
   },
   "outputs": [],
   "source": [
    "import re\n",
    "import numpy as np\n",
    "from sklearn.feature_extraction.text import CountVectorizer\n",
    "# obtenir la longueur de lien(information)\n",
    "def get_len(info_comp):\n",
    "    return len(info_comp)\n",
    "\n",
    "# obtenir des symboles spéciaux pour logs sql\n",
    "def get_sql_char(info_comp):\n",
    "    return len(re.findall(\"[?=\\*#@%>]\", info_comp, re.IGNORECASE))\n",
    "\n",
    "# obtenir des mots spéciaux pour logs sql\n",
    "def get_sql_word(info_comp):\n",
    "    return len(re.findall(\"(SELECT)|(version)|(comment)|(user)|(FROM)|(mysql)|(host)|(DELET)|(name)|(MYSQL)|(WHERE)|(password)|(ORDER)\",info_comp,re.IGNORECASE))\n",
    "\n",
    "# obtenir des symboles spéciaux pour logs xss\n",
    "def get_xss_char(info_comp):\n",
    "    return len(re.findall(\"[<>\\\"\\'=&{}!#\\*]\", info_comp, re.IGNORECASE))\n",
    "\n",
    "# obtenir des mots spéciaux pour logs xss\n",
    "def get_xss_word(info_comp):\n",
    "    return len(re.findall(\"(alert)|(script)|(XSS)|(SRC=)|(xss)|(onerror)|(onload)|(BODY)|(src=)|(INPUT)|(http)|(LINK)|(url=)|(SCRIPT)\",info_comp,re.IGNORECASE))\n",
    "\n",
    "def get_password_number(info_comp):\n",
    "    return len(re.findall(\"((?:0(?=1)|1(?=2)|2(?=3)|3(?=4)|4(?=5)|5(?=6)|6(?=7)|7(?=8)|8(?=9)|9(?=0)){2}\\d)|((\\d)\\1{2})\",info_comp,re.IGNORECASE))\n",
    "\n",
    "def get_feature(info_comp):\n",
    "    return [get_len(info_comp),get_evil_char(info_comp),get_evil_word(info_comp)]\n"
   ]
  },
  {
   "cell_type": "code",
   "execution_count": 5,
   "metadata": {
    "collapsed": true
   },
   "outputs": [
    {
     "data": {
      "text/html": [
       "<div>\n",
       "<table border=\"1\" class=\"dataframe\">\n",
       "  <thead>\n",
       "    <tr style=\"text-align: right;\">\n",
       "      <th></th>\n",
       "      <th>Unnamed: 0</th>\n",
       "      <th>ip_address</th>\n",
       "      <th>date</th>\n",
       "      <th>hour</th>\n",
       "      <th>minute</th>\n",
       "      <th>seconds</th>\n",
       "      <th>protocol</th>\n",
       "      <th>username</th>\n",
       "      <th>password</th>\n",
       "      <th>status</th>\n",
       "      <th>respsize</th>\n",
       "      <th>timed</th>\n",
       "      <th>label</th>\n",
       "      <th>len</th>\n",
       "      <th>sqlchar</th>\n",
       "      <th>sqlword</th>\n",
       "      <th>xsschar</th>\n",
       "      <th>xssword</th>\n",
       "      <th>passnumber</th>\n",
       "    </tr>\n",
       "  </thead>\n",
       "  <tbody>\n",
       "    <tr>\n",
       "      <th>0</th>\n",
       "      <td>0</td>\n",
       "      <td>76.121.199.123</td>\n",
       "      <td>21/Jan/2018</td>\n",
       "      <td>23</td>\n",
       "      <td>59</td>\n",
       "      <td>0</td>\n",
       "      <td>GET</td>\n",
       "      <td>12345678</td>\n",
       "      <td>michael</td>\n",
       "      <td>200</td>\n",
       "      <td>1040</td>\n",
       "      <td>20</td>\n",
       "      <td>0</td>\n",
       "      <td>7</td>\n",
       "      <td>0</td>\n",
       "      <td>0</td>\n",
       "      <td>0</td>\n",
       "      <td>0</td>\n",
       "      <td>0</td>\n",
       "    </tr>\n",
       "    <tr>\n",
       "      <th>1</th>\n",
       "      <td>1</td>\n",
       "      <td>76.121.199.123</td>\n",
       "      <td>21/Jan/2018</td>\n",
       "      <td>23</td>\n",
       "      <td>59</td>\n",
       "      <td>1</td>\n",
       "      <td>GET</td>\n",
       "      <td>12345678</td>\n",
       "      <td>michael</td>\n",
       "      <td>200</td>\n",
       "      <td>945</td>\n",
       "      <td>22</td>\n",
       "      <td>0</td>\n",
       "      <td>7</td>\n",
       "      <td>0</td>\n",
       "      <td>0</td>\n",
       "      <td>0</td>\n",
       "      <td>0</td>\n",
       "      <td>0</td>\n",
       "    </tr>\n",
       "  </tbody>\n",
       "</table>\n",
       "</div>"
      ],
      "text/plain": [
       "   Unnamed: 0      ip_address         date  hour  minute  seconds protocol  \\\n",
       "0           0  76.121.199.123  21/Jan/2018    23      59        0      GET   \n",
       "1           1  76.121.199.123  21/Jan/2018    23      59        1      GET   \n",
       "\n",
       "   username password status respsize timed  label  len  sqlchar  sqlword  \\\n",
       "0  12345678  michael    200     1040    20      0    7        0        0   \n",
       "1  12345678  michael    200      945    22      0    7        0        0   \n",
       "\n",
       "   xsschar  xssword  passnumber  \n",
       "0        0        0           0  \n",
       "1        0        0           0  "
      ]
     },
     "execution_count": 5,
     "metadata": {},
     "output_type": "execute_result"
    }
   ],
   "source": [
    "# for non brut force data\n",
    "f = lambda x: str(x)\n",
    "data_logs['len']=data_logs['password'].apply(f).apply(get_len)\n",
    "data_logs['sqlchar']=data_logs['password'].apply(f).apply(get_sql_char)\n",
    "data_logs['sqlword']=data_logs['password'].apply(f).apply(get_sql_word)\n",
    "data_logs['xsschar']=data_logs['password'].apply(f).apply(get_xss_char)\n",
    "data_logs['xssword']=data_logs['password'].apply(f).apply(get_xss_word)\n",
    "data_logs['passnumber']=data_logs['password'].apply(f).apply(get_password_number)\n",
    "data_logs.head(2)"
   ]
  },
  {
   "cell_type": "code",
   "execution_count": 6,
   "metadata": {
    "collapsed": true
   },
   "outputs": [
    {
     "data": {
      "text/html": [
       "<div>\n",
       "<table border=\"1\" class=\"dataframe\">\n",
       "  <thead>\n",
       "    <tr style=\"text-align: right;\">\n",
       "      <th></th>\n",
       "      <th>Unnamed: 0</th>\n",
       "      <th>ip_address</th>\n",
       "      <th>date</th>\n",
       "      <th>hour</th>\n",
       "      <th>minute</th>\n",
       "      <th>seconds</th>\n",
       "      <th>protocol</th>\n",
       "      <th>username</th>\n",
       "      <th>password</th>\n",
       "      <th>status</th>\n",
       "      <th>respsize</th>\n",
       "      <th>timed</th>\n",
       "      <th>label</th>\n",
       "      <th>len</th>\n",
       "      <th>sqlchar</th>\n",
       "      <th>sqlword</th>\n",
       "      <th>xsschar</th>\n",
       "      <th>xssword</th>\n",
       "      <th>passnumber</th>\n",
       "    </tr>\n",
       "  </thead>\n",
       "  <tbody>\n",
       "    <tr>\n",
       "      <th>0</th>\n",
       "      <td>0</td>\n",
       "      <td>136.133.92.208</td>\n",
       "      <td>22/Jan/2018</td>\n",
       "      <td>15</td>\n",
       "      <td>2</td>\n",
       "      <td>1</td>\n",
       "      <td>GET</td>\n",
       "      <td>director</td>\n",
       "      <td>123456</td>\n",
       "      <td>200</td>\n",
       "      <td>1040</td>\n",
       "      <td>312</td>\n",
       "      <td>1</td>\n",
       "      <td>6</td>\n",
       "      <td>0</td>\n",
       "      <td>0</td>\n",
       "      <td>0</td>\n",
       "      <td>0</td>\n",
       "      <td>2</td>\n",
       "    </tr>\n",
       "    <tr>\n",
       "      <th>1</th>\n",
       "      <td>1</td>\n",
       "      <td>136.133.92.208</td>\n",
       "      <td>22/Jan/2018</td>\n",
       "      <td>15</td>\n",
       "      <td>2</td>\n",
       "      <td>1</td>\n",
       "      <td>GET</td>\n",
       "      <td>director</td>\n",
       "      <td>123456</td>\n",
       "      <td>200</td>\n",
       "      <td>945</td>\n",
       "      <td>14</td>\n",
       "      <td>1</td>\n",
       "      <td>6</td>\n",
       "      <td>0</td>\n",
       "      <td>0</td>\n",
       "      <td>0</td>\n",
       "      <td>0</td>\n",
       "      <td>2</td>\n",
       "    </tr>\n",
       "  </tbody>\n",
       "</table>\n",
       "</div>"
      ],
      "text/plain": [
       "   Unnamed: 0      ip_address         date  hour  minute  seconds protocol  \\\n",
       "0           0  136.133.92.208  22/Jan/2018    15       2        1      GET   \n",
       "1           1  136.133.92.208  22/Jan/2018    15       2        1      GET   \n",
       "\n",
       "   username password status respsize timed  label  len  sqlchar  sqlword  \\\n",
       "0  director   123456    200     1040   312      1    6        0        0   \n",
       "1  director   123456    200      945    14      1    6        0        0   \n",
       "\n",
       "   xsschar  xssword  passnumber  \n",
       "0        0        0           2  \n",
       "1        0        0           2  "
      ]
     },
     "execution_count": 6,
     "metadata": {},
     "output_type": "execute_result"
    }
   ],
   "source": [
    "# for brut force data\n",
    "bf_logs['len']=bf_logs['password'].apply(f).apply(get_len)\n",
    "bf_logs['sqlchar']=bf_logs['password'].apply(f).apply(get_sql_char)\n",
    "bf_logs['sqlword']=bf_logs['password'].apply(f).apply(get_sql_word)\n",
    "bf_logs['xsschar']=bf_logs['password'].apply(f).apply(get_xss_char)\n",
    "bf_logs['xssword']=bf_logs['password'].apply(f).apply(get_xss_word)\n",
    "bf_logs['passnumber']=bf_logs['password'].apply(f).apply(get_password_number)\n",
    "bf_logs.head(2)"
   ]
  },
  {
   "cell_type": "markdown",
   "metadata": {},
   "source": [
    "#### Transformation de la forme de l'adresse IP"
   ]
  },
  {
   "cell_type": "code",
   "execution_count": 7,
   "metadata": {
    "collapsed": true
   },
   "outputs": [
    {
     "name": "stdout",
     "output_type": "stream",
     "text": [
      "   Unnamed: 0  ip_address         date  hour  minute  seconds protocol  \\\n",
      "0           0        1796  21/Jan/2018    23      59        0      GET   \n",
      "1           1        1796  21/Jan/2018    23      59        1      GET   \n",
      "\n",
      "   username password status respsize timed  label  len  sqlchar  sqlword  \\\n",
      "0  12345678  michael    200     1040    20      0    7        0        0   \n",
      "1  12345678  michael    200      945    22      0    7        0        0   \n",
      "\n",
      "   xsschar  xssword  passnumber  \n",
      "0        0        0           0  \n",
      "1        0        0           0  \n",
      "   Unnamed: 0  ip_address         date  hour  minute  seconds protocol  \\\n",
      "0           0           3  22/Jan/2018    15       2        1      GET   \n",
      "1           1           3  22/Jan/2018    15       2        1      GET   \n",
      "\n",
      "   username password status respsize timed  label  len  sqlchar  sqlword  \\\n",
      "0  director   123456    200     1040   312      1    6        0        0   \n",
      "1  director   123456    200      945    14      1    6        0        0   \n",
      "\n",
      "   xsschar  xssword  passnumber  \n",
      "0        0        0           2  \n",
      "1        0        0           2  \n"
     ]
    }
   ],
   "source": [
    "from sklearn import preprocessing\n",
    "le = preprocessing.LabelEncoder()\n",
    "data_logs['ip_address'] = le.fit_transform(data_logs['ip_address'].apply(f)) \n",
    "print(data_logs.head(2))\n",
    "bf_logs['ip_address'] = le.fit_transform(bf_logs['ip_address'].apply(f)) \n",
    "print(bf_logs.head(2))"
   ]
  },
  {
   "cell_type": "code",
   "execution_count": 8,
   "metadata": {
    "collapsed": true,
    "scrolled": true
   },
   "outputs": [],
   "source": [
    "del data_logs[data_logs.columns[0]]\n",
    "del bf_logs[bf_logs.columns[0]]"
   ]
  },
  {
   "cell_type": "markdown",
   "metadata": {},
   "source": [
    "#### Remplacement des données null au 0"
   ]
  },
  {
   "cell_type": "code",
   "execution_count": 9,
   "metadata": {
    "collapsed": true
   },
   "outputs": [],
   "source": [
    "def replace(resp):\n",
    "    if resp == '-':\n",
    "        resp = 0\n",
    "    elif (resp == resp) == False:\n",
    "        resp = 0\n",
    "    return (resp)\n",
    "data_logs['respsize'] = data_logs['respsize'].apply(replace)\n",
    "data_logs['timed'] = data_logs['timed'].apply(replace)\n",
    "data_logs['status'] = data_logs['status'].apply(replace)\n",
    "bf_logs['respsize'] = bf_logs['respsize'].apply(replace)\n",
    "bf_logs['timed'] = bf_logs['timed'].apply(replace)\n",
    "bf_logs['status'] = bf_logs['status'].apply(replace)"
   ]
  },
  {
   "cell_type": "markdown",
   "metadata": {},
   "source": [
    "#### Fonctions pour évaluer la performance"
   ]
  },
  {
   "cell_type": "code",
   "execution_count": 10,
   "metadata": {
    "collapsed": true
   },
   "outputs": [],
   "source": [
    "from sklearn import metrics\n",
    "def do_metrics(y_test,y_pred):\n",
    "    print (\"metrics.confusion_matrix:\")\n",
    "    print (metrics.confusion_matrix(y_test, y_pred))\n",
    "    print (\"metrics.accuracy_score:\")\n",
    "    print (metrics.accuracy_score(y_test, y_pred))\n",
    "    print (\"metrics.precision_score:\")\n",
    "    print (metrics.precision_score(y_test, y_pred))\n",
    "    print (\"metrics.recall_score:\")\n",
    "    print (metrics.recall_score(y_test, y_pred))\n",
    "    print (\"metrics.f1_score:\")\n",
    "    print (metrics.f1_score(y_test,y_pred))"
   ]
  },
  {
   "cell_type": "code",
   "execution_count": 11,
   "metadata": {
    "collapsed": true
   },
   "outputs": [],
   "source": [
    "import matplotlib.pyplot as plt\n",
    "from sklearn.metrics import roc_curve, auc\n",
    "\n",
    "def plot_cm(cm, labels):\n",
    "    \n",
    "    # Compute percentanges\n",
    "    percent = (cm*100.0)/np.array(np.matrix(cm.sum(axis=1)).T)  # Derp, I'm sure there's a better way\n",
    "    \n",
    "    print ('Confusion Matrix Stats')\n",
    "    for i, label_i in enumerate(labels):\n",
    "        for j, label_j in enumerate(labels):\n",
    "            print (\"%s/%s: %.2f%% (%d/%d)\" % (label_i, label_j, (percent[i][j]), cm[i][j], cm[i].sum()))\n",
    "\n",
    "    # Show confusion matrix\n",
    "    # Thanks kermit666 from stackoverflow :)\n",
    "    fig = plt.figure()\n",
    "    ax = fig.add_subplot(111)\n",
    "    ax.grid(b=False)\n",
    "    cax = ax.matshow(percent, cmap='Greens')\n",
    "    plt.title('Confusion matrix of the classifier')\n",
    "    fig.colorbar(cax)\n",
    "    ax.set_xticklabels([''] + labels)\n",
    "    ax.set_yticklabels([''] + labels)\n",
    "    plt.xlabel('Predicted')\n",
    "    plt.ylabel('True')\n",
    "    plt.show()\n",
    "    \n",
    "def plot_roc(model,y_test,y_pred):\n",
    "    # Compute ROC curve and ROC area for each class  \n",
    "    fpr,tpr,threshold = roc_curve(y_test, y_pred) ###True positive和false positive  \n",
    "    roc_auc = auc(fpr,tpr) ###auc \n",
    "\n",
    "    plt.figure()  \n",
    "    lw = 2  \n",
    "    plt.figure(figsize=(5,5))  \n",
    "    plt.plot(fpr, tpr, color='darkorange',  \n",
    "             lw=lw, label='ROC curve (area = %0.2f)' % roc_auc) \n",
    "    plt.plot([0, 1], [0, 1], color='navy', lw=lw, linestyle='--')  \n",
    "    plt.xlim([0.0, 1.0])  \n",
    "    plt.ylim([0.0, 1.05])  \n",
    "    plt.xlabel('False Positive Rate')  \n",
    "    plt.ylabel('True Positive Rate')  \n",
    "    plt.title('Receiver operating characteristic example')  \n",
    "    plt.legend(loc=\"lower right\")  \n",
    "    plt.show()  "
   ]
  },
  {
   "cell_type": "markdown",
   "metadata": {},
   "source": [
    "#### Nettoyage des features manuellement"
   ]
  },
  {
   "cell_type": "code",
   "execution_count": 12,
   "metadata": {
    "collapsed": true
   },
   "outputs": [
    {
     "data": {
      "text/html": [
       "<div>\n",
       "<table border=\"1\" class=\"dataframe\">\n",
       "  <thead>\n",
       "    <tr style=\"text-align: right;\">\n",
       "      <th></th>\n",
       "      <th>ip_address</th>\n",
       "      <th>hour</th>\n",
       "      <th>minute</th>\n",
       "      <th>seconds</th>\n",
       "      <th>status</th>\n",
       "      <th>respsize</th>\n",
       "      <th>timed</th>\n",
       "      <th>len</th>\n",
       "      <th>sqlchar</th>\n",
       "      <th>sqlword</th>\n",
       "      <th>xsschar</th>\n",
       "      <th>xssword</th>\n",
       "      <th>passnumber</th>\n",
       "    </tr>\n",
       "  </thead>\n",
       "  <tbody>\n",
       "    <tr>\n",
       "      <th>0</th>\n",
       "      <td>3</td>\n",
       "      <td>15</td>\n",
       "      <td>2</td>\n",
       "      <td>1</td>\n",
       "      <td>200</td>\n",
       "      <td>1040</td>\n",
       "      <td>312</td>\n",
       "      <td>6</td>\n",
       "      <td>0</td>\n",
       "      <td>0</td>\n",
       "      <td>0</td>\n",
       "      <td>0</td>\n",
       "      <td>2</td>\n",
       "    </tr>\n",
       "    <tr>\n",
       "      <th>1</th>\n",
       "      <td>3</td>\n",
       "      <td>15</td>\n",
       "      <td>2</td>\n",
       "      <td>1</td>\n",
       "      <td>200</td>\n",
       "      <td>945</td>\n",
       "      <td>14</td>\n",
       "      <td>6</td>\n",
       "      <td>0</td>\n",
       "      <td>0</td>\n",
       "      <td>0</td>\n",
       "      <td>0</td>\n",
       "      <td>2</td>\n",
       "    </tr>\n",
       "  </tbody>\n",
       "</table>\n",
       "</div>"
      ],
      "text/plain": [
       "   ip_address  hour  minute  seconds status respsize timed  len  sqlchar  \\\n",
       "0           3    15       2        1    200     1040   312    6        0   \n",
       "1           3    15       2        1    200      945    14    6        0   \n",
       "\n",
       "   sqlword  xsschar  xssword  passnumber  \n",
       "0        0        0        0           2  \n",
       "1        0        0        0           2  "
      ]
     },
     "execution_count": 12,
     "metadata": {},
     "output_type": "execute_result"
    }
   ],
   "source": [
    "data_logs.reset_index(drop=True, inplace=True)\n",
    "features = list(data_logs.columns[[0,2,3,4,8,9,10,12,13,14,15,16,17]])\n",
    "X_1 = data_logs[features]\n",
    "features = list(bf_logs.columns[[0,2,3,4,8,9,10,12,13,14,15,16,17]])\n",
    "X_2 = bf_logs[features]\n",
    "X_2.head(2)"
   ]
  },
  {
   "cell_type": "code",
   "execution_count": 13,
   "metadata": {
    "collapsed": true
   },
   "outputs": [
    {
     "name": "stderr",
     "output_type": "stream",
     "text": [
      "C:\\Users\\18791\\Anaconda3\\lib\\site-packages\\ipykernel\\__main__.py:4: SettingWithCopyWarning: \n",
      "A value is trying to be set on a copy of a slice from a DataFrame.\n",
      "Try using .loc[row_indexer,col_indexer] = value instead\n",
      "\n",
      "See the caveats in the documentation: http://pandas.pydata.org/pandas-docs/stable/indexing.html#indexing-view-versus-copy\n",
      "C:\\Users\\18791\\Anaconda3\\lib\\site-packages\\ipykernel\\__main__.py:5: SettingWithCopyWarning: \n",
      "A value is trying to be set on a copy of a slice from a DataFrame.\n",
      "Try using .loc[row_indexer,col_indexer] = value instead\n",
      "\n",
      "See the caveats in the documentation: http://pandas.pydata.org/pandas-docs/stable/indexing.html#indexing-view-versus-copy\n",
      "C:\\Users\\18791\\Anaconda3\\lib\\site-packages\\ipykernel\\__main__.py:6: SettingWithCopyWarning: \n",
      "A value is trying to be set on a copy of a slice from a DataFrame.\n",
      "Try using .loc[row_indexer,col_indexer] = value instead\n",
      "\n",
      "See the caveats in the documentation: http://pandas.pydata.org/pandas-docs/stable/indexing.html#indexing-view-versus-copy\n",
      "C:\\Users\\18791\\Anaconda3\\lib\\site-packages\\ipykernel\\__main__.py:7: SettingWithCopyWarning: \n",
      "A value is trying to be set on a copy of a slice from a DataFrame.\n",
      "Try using .loc[row_indexer,col_indexer] = value instead\n",
      "\n",
      "See the caveats in the documentation: http://pandas.pydata.org/pandas-docs/stable/indexing.html#indexing-view-versus-copy\n",
      "C:\\Users\\18791\\Anaconda3\\lib\\site-packages\\ipykernel\\__main__.py:8: SettingWithCopyWarning: \n",
      "A value is trying to be set on a copy of a slice from a DataFrame.\n",
      "Try using .loc[row_indexer,col_indexer] = value instead\n",
      "\n",
      "See the caveats in the documentation: http://pandas.pydata.org/pandas-docs/stable/indexing.html#indexing-view-versus-copy\n",
      "C:\\Users\\18791\\Anaconda3\\lib\\site-packages\\ipykernel\\__main__.py:9: SettingWithCopyWarning: \n",
      "A value is trying to be set on a copy of a slice from a DataFrame.\n",
      "Try using .loc[row_indexer,col_indexer] = value instead\n",
      "\n",
      "See the caveats in the documentation: http://pandas.pydata.org/pandas-docs/stable/indexing.html#indexing-view-versus-copy\n"
     ]
    }
   ],
   "source": [
    "def transint(x):\n",
    "    x = int(x)\n",
    "    return(x)\n",
    "X_1['status'] = X_1['status'].apply(transint)\n",
    "X_1['respsize'] = X_1['respsize'].apply(transint)\n",
    "X_1['timed'] = X_1['timed'].apply(transint)\n",
    "X_2['status'] = X_2['status'].apply(transint)\n",
    "X_2['respsize'] = X_2['respsize'].apply(transint)\n",
    "X_2['timed'] = X_2['timed'].apply(transint)"
   ]
  },
  {
   "cell_type": "markdown",
   "metadata": {},
   "source": [
    "#### Nettoyage des labels"
   ]
  },
  {
   "cell_type": "code",
   "execution_count": 14,
   "metadata": {
    "collapsed": true
   },
   "outputs": [],
   "source": [
    "y_1=data_logs['label']\n",
    "y_1=y_1.apply(transint)\n",
    "y_2=bf_logs['label']\n",
    "y_2=y_2.apply(transint)"
   ]
  },
  {
   "cell_type": "markdown",
   "metadata": {},
   "source": [
    "#### Séparation des données aux train set(70%) et test set(30%) \n",
    "#### Pour attaque par brute force train set(8%) et test set(92%)"
   ]
  },
  {
   "cell_type": "code",
   "execution_count": 15,
   "metadata": {
    "collapsed": true
   },
   "outputs": [
    {
     "name": "stderr",
     "output_type": "stream",
     "text": [
      "C:\\Users\\18791\\Anaconda3\\lib\\site-packages\\sklearn\\cross_validation.py:41: DeprecationWarning: This module was deprecated in version 0.18 in favor of the model_selection module into which all the refactored classes and functions are moved. Also note that the interface of the new CV iterators are different from that of this module. This module will be removed in 0.20.\n",
      "  \"This module will be removed in 0.20.\", DeprecationWarning)\n"
     ]
    }
   ],
   "source": [
    "from sklearn import cross_validation\n",
    "X_train1, X_test1, y_train1, y_test1 = cross_validation.train_test_split(X_1, y_1, test_size=0.3, random_state=0)"
   ]
  },
  {
   "cell_type": "code",
   "execution_count": 16,
   "metadata": {
    "collapsed": true
   },
   "outputs": [],
   "source": [
    "X_train2, X_test2, y_train2, y_test2 = cross_validation.train_test_split(X_2, y_2, test_size=0.92, random_state=0)"
   ]
  },
  {
   "cell_type": "code",
   "execution_count": 17,
   "metadata": {
    "collapsed": true
   },
   "outputs": [],
   "source": [
    "X_train = pd.concat([X_train1,X_train2])\n",
    "X_test = pd.concat([X_test1,X_test2])\n",
    "y_train = pd.concat([y_train1,y_train2])\n",
    "y_test = pd.concat([y_test1,y_test2])"
   ]
  },
  {
   "cell_type": "code",
   "execution_count": 18,
   "metadata": {
    "collapsed": true
   },
   "outputs": [],
   "source": [
    "def tanslateto1(x):\n",
    "    if x==2 or x==3:\n",
    "        x=1\n",
    "    return(x)"
   ]
  },
  {
   "cell_type": "code",
   "execution_count": 19,
   "metadata": {
    "collapsed": true,
    "scrolled": true
   },
   "outputs": [],
   "source": [
    "y_train = y_train.apply(tanslateto1)\n",
    "y_test = y_test.apply(tanslateto1)"
   ]
  },
  {
   "cell_type": "code",
   "execution_count": 20,
   "metadata": {
    "collapsed": true
   },
   "outputs": [],
   "source": [
    "# add \"IP count\" feature\n",
    "list_ip_train=np.array(X_train['ip_address']).tolist()\n",
    "def count_ip_train(x):\n",
    "    return list_ip_train.count(x)\n",
    "X_train['ipcount']=X_train['ip_address'].apply(count_ip_train)\n",
    "list_ip_test=np.array(X_test['ip_address']).tolist()\n",
    "def count_ip_test(x):\n",
    "    return list_ip_test.count(x)\n",
    "X_test['ipcount']=X_test['ip_address'].apply(count_ip_test)"
   ]
  },
  {
   "cell_type": "code",
   "execution_count": 21,
   "metadata": {
    "collapsed": false
   },
   "outputs": [
    {
     "data": {
      "text/html": [
       "<div>\n",
       "<table border=\"1\" class=\"dataframe\">\n",
       "  <thead>\n",
       "    <tr style=\"text-align: right;\">\n",
       "      <th></th>\n",
       "      <th>ip_address</th>\n",
       "      <th>hour</th>\n",
       "      <th>minute</th>\n",
       "      <th>seconds</th>\n",
       "      <th>status</th>\n",
       "      <th>respsize</th>\n",
       "      <th>timed</th>\n",
       "      <th>len</th>\n",
       "      <th>sqlchar</th>\n",
       "      <th>sqlword</th>\n",
       "      <th>xsschar</th>\n",
       "      <th>xssword</th>\n",
       "      <th>passnumber</th>\n",
       "      <th>ipcount</th>\n",
       "    </tr>\n",
       "  </thead>\n",
       "  <tbody>\n",
       "    <tr>\n",
       "      <th>1398</th>\n",
       "      <td>443</td>\n",
       "      <td>0</td>\n",
       "      <td>28</td>\n",
       "      <td>43</td>\n",
       "      <td>200</td>\n",
       "      <td>1040</td>\n",
       "      <td>1</td>\n",
       "      <td>4</td>\n",
       "      <td>0</td>\n",
       "      <td>0</td>\n",
       "      <td>0</td>\n",
       "      <td>0</td>\n",
       "      <td>0</td>\n",
       "      <td>3</td>\n",
       "    </tr>\n",
       "    <tr>\n",
       "      <th>1203</th>\n",
       "      <td>1050</td>\n",
       "      <td>0</td>\n",
       "      <td>24</td>\n",
       "      <td>43</td>\n",
       "      <td>200</td>\n",
       "      <td>1073</td>\n",
       "      <td>1046</td>\n",
       "      <td>6</td>\n",
       "      <td>0</td>\n",
       "      <td>0</td>\n",
       "      <td>0</td>\n",
       "      <td>0</td>\n",
       "      <td>0</td>\n",
       "      <td>4</td>\n",
       "    </tr>\n",
       "  </tbody>\n",
       "</table>\n",
       "</div>"
      ],
      "text/plain": [
       "      ip_address  hour  minute  seconds  status  respsize  timed  len  \\\n",
       "1398         443     0      28       43     200      1040      1    4   \n",
       "1203        1050     0      24       43     200      1073   1046    6   \n",
       "\n",
       "      sqlchar  sqlword  xsschar  xssword  passnumber  ipcount  \n",
       "1398        0        0        0        0           0        3  \n",
       "1203        0        0        0        0           0        4  "
      ]
     },
     "execution_count": 21,
     "metadata": {},
     "output_type": "execute_result"
    }
   ],
   "source": [
    "X_train.head(2)"
   ]
  },
  {
   "cell_type": "markdown",
   "metadata": {},
   "source": [
    "### Feature Engineering"
   ]
  },
  {
   "cell_type": "code",
   "execution_count": 22,
   "metadata": {
    "collapsed": true
   },
   "outputs": [],
   "source": [
    "del X_test['ip_address']\n",
    "del X_train['ip_address']"
   ]
  },
  {
   "cell_type": "code",
   "execution_count": 23,
   "metadata": {
    "collapsed": true
   },
   "outputs": [],
   "source": [
    "del X_test['hour']\n",
    "del X_train['hour']\n",
    "del X_test['minute']\n",
    "del X_train['minute']\n",
    "del X_test['seconds']\n",
    "del X_train['seconds']"
   ]
  },
  {
   "cell_type": "code",
   "execution_count": 24,
   "metadata": {
    "collapsed": false
   },
   "outputs": [
    {
     "data": {
      "text/plain": [
       "array([  2.20934356e-03,   6.83100561e-04,   3.67619637e-03,\n",
       "         8.77003552e-03,   2.65263446e-03,   6.49383839e-04,\n",
       "         3.00630001e-03,   2.26806440e-03,   2.25278616e-03,\n",
       "         9.73832155e-01])"
      ]
     },
     "execution_count": 24,
     "metadata": {},
     "output_type": "execute_result"
    }
   ],
   "source": [
    "from sklearn.ensemble import ExtraTreesClassifier\n",
    "from sklearn.feature_selection import SelectFromModel\n",
    "clf_f = ExtraTreesClassifier()\n",
    "clf_f = clf_f.fit(X_train, y_train)\n",
    "clf_f.feature_importances_"
   ]
  },
  {
   "cell_type": "code",
   "execution_count": 25,
   "metadata": {
    "collapsed": true
   },
   "outputs": [],
   "source": [
    "model = SelectFromModel(clf_f,threshold=0.001,prefit=True)\n",
    "X_train_new = model.transform(X_train)\n",
    "X_test_new = model.transform(X_test)"
   ]
  },
  {
   "cell_type": "code",
   "execution_count": 26,
   "metadata": {
    "collapsed": false,
    "scrolled": true
   },
   "outputs": [
    {
     "data": {
      "text/plain": [
       "array([200,   1,   4,   0,   0,   0,   0,   3], dtype=int64)"
      ]
     },
     "execution_count": 26,
     "metadata": {},
     "output_type": "execute_result"
    }
   ],
   "source": [
    "X_train_new[0]"
   ]
  },
  {
   "cell_type": "markdown",
   "metadata": {},
   "source": [
    "### Détection\n",
    "#### 1 - Algorithme de l'arbre de décision "
   ]
  },
  {
   "cell_type": "code",
   "execution_count": 27,
   "metadata": {
    "collapsed": false,
    "scrolled": false
   },
   "outputs": [
    {
     "name": "stdout",
     "output_type": "stream",
     "text": [
      "metrics.confusion_matrix:\n",
      "[[  3585     28]\n",
      " [   295 117717]]\n",
      "metrics.accuracy_score:\n",
      "0.997344295992\n",
      "metrics.precision_score:\n",
      "0.99976219797\n",
      "metrics.recall_score:\n",
      "0.997500254211\n",
      "metrics.f1_score:\n",
      "0.99862994524\n",
      "Confusion Matrix Stats\n",
      "no attaque/no attaque: 99.23% (3585/3613)\n",
      "no attaque/attaque: 0.77% (28/3613)\n",
      "attaque/no attaque: 0.25% (295/118012)\n",
      "attaque/attaque: 99.75% (117717/118012)\n"
     ]
    },
    {
     "data": {
      "image/png": "[encoded data removed]",
      "text/plain": [
       "<matplotlib.figure.Figure at 0x152c6d7a9e8>"
      ]
     },
     "metadata": {},
     "output_type": "display_data"
    }
   ],
   "source": [
    "from sklearn import tree\n",
    "clf = tree.DecisionTreeClassifier()\n",
    "# training\n",
    "clf = clf.fit(X_train_new, y_train)\n",
    "# classification\n",
    "y_pred = clf.predict(X_test_new)\n",
    "# confusion matrix\n",
    "do_metrics(y_test,y_pred)\n",
    "labels = ['no attaque', 'attaque']\n",
    "cm = metrics.confusion_matrix(y_test, y_pred)\n",
    "plot_cm(cm, labels)\n",
    "# performance"
   ]
  },
  {
   "cell_type": "code",
   "execution_count": 28,
   "metadata": {
    "collapsed": false
   },
   "outputs": [
    {
     "data": {
      "text/plain": [
       "<matplotlib.figure.Figure at 0x152c4cf1c88>"
      ]
     },
     "metadata": {},
     "output_type": "display_data"
    },
    {
     "data": {
      "image/png": "[encoded data removed]",
      "text/plain": [
       "<matplotlib.figure.Figure at 0x152c6d7ab00>"
      ]
     },
     "metadata": {},
     "output_type": "display_data"
    }
   ],
   "source": [
    "plot_roc(clf,y_test,y_pred)"
   ]
  },
  {
   "cell_type": "markdown",
   "metadata": {},
   "source": [
    "#### Visualisation de l'arbre de décision "
   ]
  },
  {
   "cell_type": "code",
   "execution_count": 86,
   "metadata": {
    "collapsed": true,
    "scrolled": true
   },
   "outputs": [],
   "source": [
    "# import os\n",
    "# os.environ[\"PATH\"] += os.pathsep + 'C:/Program Files (x86)/Graphviz2.38/bin/'\n",
    "# import graphviz\n",
    "# import pydotplus\n",
    "# from IPython.display import Image  \n",
    "# dot_data = tree.export_graphviz(clf, out_file=None, \n",
    "#                          feature_names=X_train[[0,2,3,4,7,8,9]].columns,  \n",
    "#                          class_names=['no attaque', 'attaque'],  \n",
    "#                          filled=True, rounded=True,  \n",
    "#                          special_characters=True)  \n",
    "# graph = pydotplus.graph_from_dot_data(dot_data)  \n",
    "# Image(graph.create_png())"
   ]
  },
  {
   "cell_type": "code",
   "execution_count": 87,
   "metadata": {
    "collapsed": true
   },
   "outputs": [],
   "source": [
    "# graph.write_pdf(\"tree.pdf\")"
   ]
  },
  {
   "cell_type": "markdown",
   "metadata": {},
   "source": [
    "#### 2 - Algorithme de la logistique régression "
   ]
  },
  {
   "cell_type": "code",
   "execution_count": 29,
   "metadata": {
    "collapsed": false
   },
   "outputs": [
    {
     "name": "stdout",
     "output_type": "stream",
     "text": [
      "metrics.confusion_matrix:\n",
      "[[  3585     28]\n",
      " [   175 117837]]\n",
      "metrics.accuracy_score:\n",
      "0.998330935252\n",
      "metrics.precision_score:\n",
      "0.99976244008\n",
      "metrics.recall_score:\n",
      "0.998517099956\n",
      "metrics.f1_score:\n",
      "0.999139381966\n",
      "Confusion Matrix Stats\n",
      "no attaque/no attaque: 99.23% (3585/3613)\n",
      "no attaque/attaque: 0.77% (28/3613)\n",
      "attaque/no attaque: 0.15% (175/118012)\n",
      "attaque/attaque: 99.85% (117837/118012)\n"
     ]
    },
    {
     "data": {
      "image/png": "[encoded data removed]",
      "text/plain": [
       "<matplotlib.figure.Figure at 0x152bfd4e278>"
      ]
     },
     "metadata": {},
     "output_type": "display_data"
    }
   ],
   "source": [
    "from sklearn.linear_model import LogisticRegression\n",
    "# classifier\n",
    "clf_log = LogisticRegression()\n",
    "# training\n",
    "clf_log = clf_log.fit(X_train_new, y_train)\n",
    "# classification\n",
    "y_pred = clf_log.predict(X_test_new)\n",
    "# confusion matrix\n",
    "labels = ['no attaque', 'attaque']\n",
    "do_metrics(y_test,y_pred)\n",
    "cm = metrics.confusion_matrix(y_test, y_pred)\n",
    "plot_cm(cm, labels)"
   ]
  },
  {
   "cell_type": "markdown",
   "metadata": {},
   "source": [
    "#### 3 - Algorithme du random forest"
   ]
  },
  {
   "cell_type": "code",
   "execution_count": 30,
   "metadata": {
    "collapsed": false
   },
   "outputs": [
    {
     "name": "stdout",
     "output_type": "stream",
     "text": [
      "metrics.confusion_matrix:\n",
      "[[  3585     28]\n",
      " [    69 117943]]\n",
      "metrics.accuracy_score:\n",
      "0.999202466598\n",
      "metrics.precision_score:\n",
      "0.999762653533\n",
      "metrics.recall_score:\n",
      "0.999415313697\n",
      "metrics.f1_score:\n",
      "0.999588953442\n",
      "Confusion Matrix Stats\n",
      "no attaque/no attaque: 99.23% (3585/3613)\n",
      "no attaque/attaque: 0.77% (28/3613)\n",
      "attaque/no attaque: 0.06% (69/118012)\n",
      "attaque/attaque: 99.94% (117943/118012)\n"
     ]
    },
    {
     "data": {
      "image/png": "[encoded data removed]",
      "text/plain": [
       "<matplotlib.figure.Figure at 0x152c98537b8>"
      ]
     },
     "metadata": {},
     "output_type": "display_data"
    }
   ],
   "source": [
    "from sklearn.ensemble import RandomForestClassifier\n",
    "# classifier\n",
    "clf_rf = RandomForestClassifier()\n",
    "# training\n",
    "clf_rf = clf_rf.fit(X_train_new, y_train)\n",
    "# classification\n",
    "y_pred = clf_rf.predict(X_test_new)\n",
    "# confusion matrix\n",
    "do_metrics(y_test,y_pred)\n",
    "labels = ['no attaque', 'attaque']\n",
    "cm = metrics.confusion_matrix(y_test, y_pred)\n",
    "plot_cm(cm, labels)"
   ]
  },
  {
   "cell_type": "code",
   "execution_count": 31,
   "metadata": {
    "collapsed": false
   },
   "outputs": [
    {
     "data": {
      "text/plain": [
       "<matplotlib.figure.Figure at 0x152c7850160>"
      ]
     },
     "metadata": {},
     "output_type": "display_data"
    },
    {
     "data": {
      "image/png": "[encoded data removed]",
      "text/plain": [
       "<matplotlib.figure.Figure at 0x152c98e8b70>"
      ]
     },
     "metadata": {},
     "output_type": "display_data"
    }
   ],
   "source": [
    "plot_roc(clf_rf,y_test,y_pred)"
   ]
  },
  {
   "cell_type": "markdown",
   "metadata": {},
   "source": [
    "#### 4 - Algorithme du Adaboost"
   ]
  },
  {
   "cell_type": "code",
   "execution_count": 32,
   "metadata": {
    "collapsed": false
   },
   "outputs": [
    {
     "name": "stdout",
     "output_type": "stream",
     "text": [
      "metrics.confusion_matrix:\n",
      "[[  3586     27]\n",
      " [   194 117818]]\n",
      "metrics.accuracy_score:\n",
      "0.998182939363\n",
      "metrics.precision_score:\n",
      "0.999770885485\n",
      "metrics.recall_score:\n",
      "0.99835609938\n",
      "metrics.f1_score:\n",
      "0.999062991558\n",
      "Confusion Matrix Stats\n",
      "no attaque/no attaque: 99.25% (3586/3613)\n",
      "no attaque/attaque: 0.75% (27/3613)\n",
      "attaque/no attaque: 0.16% (194/118012)\n",
      "attaque/attaque: 99.84% (117818/118012)\n"
     ]
    },
    {
     "data": {
      "image/png": "[encoded data removed]",
      "text/plain": [
       "<matplotlib.figure.Figure at 0x152c99b6e80>"
      ]
     },
     "metadata": {},
     "output_type": "display_data"
    }
   ],
   "source": [
    "from sklearn.ensemble import AdaBoostClassifier\n",
    "# classifier\n",
    "clf_ada = AdaBoostClassifier(n_estimators=100)\n",
    "# training\n",
    "clf_ada = clf_ada.fit(X_train_new, y_train)\n",
    "# classification\n",
    "y_pred = clf_ada.predict(X_test_new)\n",
    "# performance\n",
    "do_metrics(y_test,y_pred)\n",
    "# confusion matrix\n",
    "labels = ['no attaque', 'attaque']\n",
    "cm = metrics.confusion_matrix(y_test, y_pred)\n",
    "plot_cm(cm, labels)"
   ]
  },
  {
   "cell_type": "markdown",
   "metadata": {},
   "source": [
    "#### 5 - Algorithme du XGBoost"
   ]
  },
  {
   "cell_type": "code",
   "execution_count": 33,
   "metadata": {
    "collapsed": false
   },
   "outputs": [
    {
     "name": "stdout",
     "output_type": "stream",
     "text": [
      "metrics.confusion_matrix:\n",
      "[[  3585     28]\n",
      " [   194 117818]]\n",
      "metrics.accuracy_score:\n",
      "0.998174717369\n",
      "metrics.precision_score:\n",
      "0.999762401779\n",
      "metrics.recall_score:\n",
      "0.99835609938\n",
      "metrics.f1_score:\n",
      "0.999058755692\n",
      "Confusion Matrix Stats\n",
      "no attaque/no attaque: 99.23% (3585/3613)\n",
      "no attaque/attaque: 0.77% (28/3613)\n",
      "attaque/no attaque: 0.16% (194/118012)\n",
      "attaque/attaque: 99.84% (117818/118012)\n"
     ]
    },
    {
     "data": {
      "image/png": "[encoded data removed]",
      "text/plain": [
       "<matplotlib.figure.Figure at 0x152c98309b0>"
      ]
     },
     "metadata": {},
     "output_type": "display_data"
    }
   ],
   "source": [
    "from xgboost.sklearn import XGBClassifier\n",
    "model = XGBClassifier(max_depth=6, learning_rate=0.03, n_estimators=200, silent=True, objective='binary:logistic')\n",
    "model.fit(X_train_new, y_train)\n",
    "ans = model.predict(X_test_new)\n",
    "do_metrics(y_test, ans)\n",
    "labels = ['no attaque', 'attaque']\n",
    "cm = metrics.confusion_matrix(y_test, ans)\n",
    "plot_cm(cm, labels)"
   ]
  },
  {
   "cell_type": "markdown",
   "metadata": {},
   "source": [
    "### Réglage des paramètres de RandomForest"
   ]
  },
  {
   "cell_type": "markdown",
   "metadata": {},
   "source": [
    "#### 1 - le nombre d'estimateurs varient entre 10 et 201 par 20"
   ]
  },
  {
   "cell_type": "code",
   "execution_count": 34,
   "metadata": {
    "collapsed": false
   },
   "outputs": [
    {
     "name": "stderr",
     "output_type": "stream",
     "text": [
      "C:\\Users\\18791\\Anaconda3\\lib\\site-packages\\sklearn\\grid_search.py:42: DeprecationWarning: This module was deprecated in version 0.18 in favor of the model_selection module into which all the refactored classes and functions are moved. This module will be removed in 0.20.\n",
      "  DeprecationWarning)\n"
     ]
    },
    {
     "data": {
      "text/plain": [
       "([mean: 0.99720, std: 0.00109, params: {'n_estimators': 10},\n",
       "  mean: 0.99715, std: 0.00093, params: {'n_estimators': 30},\n",
       "  mean: 0.99718, std: 0.00094, params: {'n_estimators': 50},\n",
       "  mean: 0.99710, std: 0.00095, params: {'n_estimators': 70},\n",
       "  mean: 0.99713, std: 0.00099, params: {'n_estimators': 90},\n",
       "  mean: 0.99718, std: 0.00095, params: {'n_estimators': 110},\n",
       "  mean: 0.99711, std: 0.00092, params: {'n_estimators': 130},\n",
       "  mean: 0.99722, std: 0.00100, params: {'n_estimators': 150},\n",
       "  mean: 0.99715, std: 0.00096, params: {'n_estimators': 170},\n",
       "  mean: 0.99713, std: 0.00094, params: {'n_estimators': 190}],\n",
       " {'n_estimators': 150},\n",
       " 0.9972159861859331)"
      ]
     },
     "execution_count": 34,
     "metadata": {},
     "output_type": "execute_result"
    }
   ],
   "source": [
    "# 150 est le meilleur\n",
    "from sklearn.grid_search import GridSearchCV\n",
    "param_test1 = {'n_estimators':list(range(10,201,20))}\n",
    "gsearch1 = GridSearchCV(estimator = RandomForestClassifier(), \n",
    "                       param_grid = param_test1, scoring='roc_auc',cv=5)\n",
    "gsearch1.fit(X_train_new, y_train)\n",
    "gsearch1.grid_scores_, gsearch1.best_params_, gsearch1.best_score_"
   ]
  },
  {
   "cell_type": "markdown",
   "metadata": {},
   "source": [
    "#### 2 - 'max_depth' et 'min_samples_split'"
   ]
  },
  {
   "cell_type": "code",
   "execution_count": 42,
   "metadata": {
    "collapsed": false,
    "scrolled": true
   },
   "outputs": [
    {
     "data": {
      "text/plain": [
       "([mean: 0.99699, std: 0.00115, params: {'max_depth': 3, 'min_samples_split': 2},\n",
       "  mean: 0.99697, std: 0.00120, params: {'max_depth': 3, 'min_samples_split': 12},\n",
       "  mean: 0.99699, std: 0.00102, params: {'max_depth': 3, 'min_samples_split': 22},\n",
       "  mean: 0.99702, std: 0.00126, params: {'max_depth': 3, 'min_samples_split': 32},\n",
       "  mean: 0.99687, std: 0.00135, params: {'max_depth': 3, 'min_samples_split': 42},\n",
       "  mean: 0.99702, std: 0.00126, params: {'max_depth': 3, 'min_samples_split': 52},\n",
       "  mean: 0.99703, std: 0.00117, params: {'max_depth': 3, 'min_samples_split': 62},\n",
       "  mean: 0.99685, std: 0.00134, params: {'max_depth': 3, 'min_samples_split': 72},\n",
       "  mean: 0.99678, std: 0.00114, params: {'max_depth': 3, 'min_samples_split': 82},\n",
       "  mean: 0.99690, std: 0.00099, params: {'max_depth': 3, 'min_samples_split': 92},\n",
       "  mean: 0.99732, std: 0.00104, params: {'max_depth': 5, 'min_samples_split': 2},\n",
       "  mean: 0.99742, std: 0.00093, params: {'max_depth': 5, 'min_samples_split': 12},\n",
       "  mean: 0.99747, std: 0.00079, params: {'max_depth': 5, 'min_samples_split': 22},\n",
       "  mean: 0.99747, std: 0.00101, params: {'max_depth': 5, 'min_samples_split': 32},\n",
       "  mean: 0.99747, std: 0.00089, params: {'max_depth': 5, 'min_samples_split': 42},\n",
       "  mean: 0.99751, std: 0.00075, params: {'max_depth': 5, 'min_samples_split': 52},\n",
       "  mean: 0.99738, std: 0.00096, params: {'max_depth': 5, 'min_samples_split': 62},\n",
       "  mean: 0.99724, std: 0.00113, params: {'max_depth': 5, 'min_samples_split': 72},\n",
       "  mean: 0.99726, std: 0.00105, params: {'max_depth': 5, 'min_samples_split': 82},\n",
       "  mean: 0.99730, std: 0.00100, params: {'max_depth': 5, 'min_samples_split': 92},\n",
       "  mean: 0.99772, std: 0.00078, params: {'max_depth': 7, 'min_samples_split': 2},\n",
       "  mean: 0.99742, std: 0.00094, params: {'max_depth': 7, 'min_samples_split': 12},\n",
       "  mean: 0.99774, std: 0.00062, params: {'max_depth': 7, 'min_samples_split': 22},\n",
       "  mean: 0.99755, std: 0.00076, params: {'max_depth': 7, 'min_samples_split': 32},\n",
       "  mean: 0.99784, std: 0.00080, params: {'max_depth': 7, 'min_samples_split': 42},\n",
       "  mean: 0.99728, std: 0.00097, params: {'max_depth': 7, 'min_samples_split': 52},\n",
       "  mean: 0.99748, std: 0.00094, params: {'max_depth': 7, 'min_samples_split': 62},\n",
       "  mean: 0.99745, std: 0.00071, params: {'max_depth': 7, 'min_samples_split': 72},\n",
       "  mean: 0.99734, std: 0.00095, params: {'max_depth': 7, 'min_samples_split': 82},\n",
       "  mean: 0.99753, std: 0.00109, params: {'max_depth': 7, 'min_samples_split': 92},\n",
       "  mean: 0.99766, std: 0.00048, params: {'max_depth': 9, 'min_samples_split': 2},\n",
       "  mean: 0.99773, std: 0.00059, params: {'max_depth': 9, 'min_samples_split': 12},\n",
       "  mean: 0.99743, std: 0.00081, params: {'max_depth': 9, 'min_samples_split': 22},\n",
       "  mean: 0.99765, std: 0.00090, params: {'max_depth': 9, 'min_samples_split': 32},\n",
       "  mean: 0.99760, std: 0.00047, params: {'max_depth': 9, 'min_samples_split': 42},\n",
       "  mean: 0.99720, std: 0.00087, params: {'max_depth': 9, 'min_samples_split': 52},\n",
       "  mean: 0.99735, std: 0.00083, params: {'max_depth': 9, 'min_samples_split': 62},\n",
       "  mean: 0.99730, std: 0.00087, params: {'max_depth': 9, 'min_samples_split': 72},\n",
       "  mean: 0.99736, std: 0.00083, params: {'max_depth': 9, 'min_samples_split': 82},\n",
       "  mean: 0.99719, std: 0.00098, params: {'max_depth': 9, 'min_samples_split': 92},\n",
       "  mean: 0.99790, std: 0.00064, params: {'max_depth': 11, 'min_samples_split': 2},\n",
       "  mean: 0.99774, std: 0.00065, params: {'max_depth': 11, 'min_samples_split': 12},\n",
       "  mean: 0.99754, std: 0.00069, params: {'max_depth': 11, 'min_samples_split': 22},\n",
       "  mean: 0.99758, std: 0.00053, params: {'max_depth': 11, 'min_samples_split': 32},\n",
       "  mean: 0.99734, std: 0.00089, params: {'max_depth': 11, 'min_samples_split': 42},\n",
       "  mean: 0.99740, std: 0.00083, params: {'max_depth': 11, 'min_samples_split': 52},\n",
       "  mean: 0.99737, std: 0.00071, params: {'max_depth': 11, 'min_samples_split': 62},\n",
       "  mean: 0.99716, std: 0.00078, params: {'max_depth': 11, 'min_samples_split': 72},\n",
       "  mean: 0.99738, std: 0.00085, params: {'max_depth': 11, 'min_samples_split': 82},\n",
       "  mean: 0.99723, std: 0.00090, params: {'max_depth': 11, 'min_samples_split': 92},\n",
       "  mean: 0.99807, std: 0.00044, params: {'max_depth': 13, 'min_samples_split': 2},\n",
       "  mean: 0.99770, std: 0.00047, params: {'max_depth': 13, 'min_samples_split': 12},\n",
       "  mean: 0.99745, std: 0.00060, params: {'max_depth': 13, 'min_samples_split': 22},\n",
       "  mean: 0.99730, std: 0.00107, params: {'max_depth': 13, 'min_samples_split': 32},\n",
       "  mean: 0.99751, std: 0.00075, params: {'max_depth': 13, 'min_samples_split': 42},\n",
       "  mean: 0.99733, std: 0.00101, params: {'max_depth': 13, 'min_samples_split': 52},\n",
       "  mean: 0.99741, std: 0.00075, params: {'max_depth': 13, 'min_samples_split': 62},\n",
       "  mean: 0.99726, std: 0.00101, params: {'max_depth': 13, 'min_samples_split': 72},\n",
       "  mean: 0.99712, std: 0.00120, params: {'max_depth': 13, 'min_samples_split': 82},\n",
       "  mean: 0.99707, std: 0.00122, params: {'max_depth': 13, 'min_samples_split': 92},\n",
       "  mean: 0.99769, std: 0.00077, params: {'max_depth': 15, 'min_samples_split': 2},\n",
       "  mean: 0.99751, std: 0.00077, params: {'max_depth': 15, 'min_samples_split': 12},\n",
       "  mean: 0.99744, std: 0.00091, params: {'max_depth': 15, 'min_samples_split': 22},\n",
       "  mean: 0.99742, std: 0.00084, params: {'max_depth': 15, 'min_samples_split': 32},\n",
       "  mean: 0.99736, std: 0.00104, params: {'max_depth': 15, 'min_samples_split': 42},\n",
       "  mean: 0.99726, std: 0.00115, params: {'max_depth': 15, 'min_samples_split': 52},\n",
       "  mean: 0.99716, std: 0.00119, params: {'max_depth': 15, 'min_samples_split': 62},\n",
       "  mean: 0.99704, std: 0.00110, params: {'max_depth': 15, 'min_samples_split': 72},\n",
       "  mean: 0.99704, std: 0.00122, params: {'max_depth': 15, 'min_samples_split': 82},\n",
       "  mean: 0.99694, std: 0.00129, params: {'max_depth': 15, 'min_samples_split': 92},\n",
       "  mean: 0.99780, std: 0.00088, params: {'max_depth': 17, 'min_samples_split': 2},\n",
       "  mean: 0.99724, std: 0.00086, params: {'max_depth': 17, 'min_samples_split': 12},\n",
       "  mean: 0.99734, std: 0.00090, params: {'max_depth': 17, 'min_samples_split': 22},\n",
       "  mean: 0.99728, std: 0.00091, params: {'max_depth': 17, 'min_samples_split': 32},\n",
       "  mean: 0.99721, std: 0.00123, params: {'max_depth': 17, 'min_samples_split': 42},\n",
       "  mean: 0.99724, std: 0.00111, params: {'max_depth': 17, 'min_samples_split': 52},\n",
       "  mean: 0.99730, std: 0.00101, params: {'max_depth': 17, 'min_samples_split': 62},\n",
       "  mean: 0.99714, std: 0.00108, params: {'max_depth': 17, 'min_samples_split': 72},\n",
       "  mean: 0.99701, std: 0.00132, params: {'max_depth': 17, 'min_samples_split': 82},\n",
       "  mean: 0.99701, std: 0.00118, params: {'max_depth': 17, 'min_samples_split': 92},\n",
       "  mean: 0.99745, std: 0.00085, params: {'max_depth': 19, 'min_samples_split': 2},\n",
       "  mean: 0.99730, std: 0.00101, params: {'max_depth': 19, 'min_samples_split': 12},\n",
       "  mean: 0.99712, std: 0.00095, params: {'max_depth': 19, 'min_samples_split': 22},\n",
       "  mean: 0.99732, std: 0.00097, params: {'max_depth': 19, 'min_samples_split': 32},\n",
       "  mean: 0.99724, std: 0.00110, params: {'max_depth': 19, 'min_samples_split': 42},\n",
       "  mean: 0.99718, std: 0.00114, params: {'max_depth': 19, 'min_samples_split': 52},\n",
       "  mean: 0.99727, std: 0.00104, params: {'max_depth': 19, 'min_samples_split': 62},\n",
       "  mean: 0.99704, std: 0.00135, params: {'max_depth': 19, 'min_samples_split': 72},\n",
       "  mean: 0.99707, std: 0.00116, params: {'max_depth': 19, 'min_samples_split': 82},\n",
       "  mean: 0.99701, std: 0.00127, params: {'max_depth': 19, 'min_samples_split': 92}],\n",
       " {'max_depth': 13, 'min_samples_split': 2},\n",
       " 0.9980676237637118)"
      ]
     },
     "execution_count": 42,
     "metadata": {},
     "output_type": "execute_result"
    }
   ],
   "source": [
    "# les meilleurs paramètres : 'max_depth': 13, 'min_samples_split': 2\n",
    "param_test2 = {'max_depth':list(range(3,20,2)), 'min_samples_split':list(range(2,100,10))}\n",
    "gsearch2 = GridSearchCV(estimator = RandomForestClassifier(n_estimators= 150),\n",
    "   param_grid = param_test2, scoring='roc_auc',iid=False, cv=5)\n",
    "gsearch2.fit(X_train_new, y_train)\n",
    "gsearch2.grid_scores_, gsearch2.best_params_, gsearch2.best_score_"
   ]
  },
  {
   "cell_type": "markdown",
   "metadata": {},
   "source": [
    "#### 3 - 'min_samples_split' et 'min_samples_leaf'"
   ]
  },
  {
   "cell_type": "code",
   "execution_count": 43,
   "metadata": {
    "collapsed": false
   },
   "outputs": [
    {
     "data": {
      "text/plain": [
       "([mean: 0.99770, std: 0.00075, params: {'min_samples_split': 2, 'min_samples_leaf': 1},\n",
       "  mean: 0.99741, std: 0.00051, params: {'min_samples_split': 22, 'min_samples_leaf': 1},\n",
       "  mean: 0.99730, std: 0.00074, params: {'min_samples_split': 42, 'min_samples_leaf': 1},\n",
       "  mean: 0.99717, std: 0.00104, params: {'min_samples_split': 62, 'min_samples_leaf': 1},\n",
       "  mean: 0.99716, std: 0.00095, params: {'min_samples_split': 82, 'min_samples_leaf': 1},\n",
       "  mean: 0.99746, std: 0.00091, params: {'min_samples_split': 2, 'min_samples_leaf': 11},\n",
       "  mean: 0.99742, std: 0.00107, params: {'min_samples_split': 22, 'min_samples_leaf': 11},\n",
       "  mean: 0.99722, std: 0.00124, params: {'min_samples_split': 42, 'min_samples_leaf': 11},\n",
       "  mean: 0.99716, std: 0.00119, params: {'min_samples_split': 62, 'min_samples_leaf': 11},\n",
       "  mean: 0.99708, std: 0.00115, params: {'min_samples_split': 82, 'min_samples_leaf': 11},\n",
       "  mean: 0.99711, std: 0.00128, params: {'min_samples_split': 2, 'min_samples_leaf': 21},\n",
       "  mean: 0.99720, std: 0.00111, params: {'min_samples_split': 22, 'min_samples_leaf': 21},\n",
       "  mean: 0.99716, std: 0.00126, params: {'min_samples_split': 42, 'min_samples_leaf': 21},\n",
       "  mean: 0.99701, std: 0.00137, params: {'min_samples_split': 62, 'min_samples_leaf': 21},\n",
       "  mean: 0.99702, std: 0.00118, params: {'min_samples_split': 82, 'min_samples_leaf': 21},\n",
       "  mean: 0.99697, std: 0.00134, params: {'min_samples_split': 2, 'min_samples_leaf': 31},\n",
       "  mean: 0.99698, std: 0.00111, params: {'min_samples_split': 22, 'min_samples_leaf': 31},\n",
       "  mean: 0.99718, std: 0.00137, params: {'min_samples_split': 42, 'min_samples_leaf': 31},\n",
       "  mean: 0.99694, std: 0.00119, params: {'min_samples_split': 62, 'min_samples_leaf': 31},\n",
       "  mean: 0.99704, std: 0.00102, params: {'min_samples_split': 82, 'min_samples_leaf': 31},\n",
       "  mean: 0.99684, std: 0.00114, params: {'min_samples_split': 2, 'min_samples_leaf': 41},\n",
       "  mean: 0.99680, std: 0.00144, params: {'min_samples_split': 22, 'min_samples_leaf': 41},\n",
       "  mean: 0.99701, std: 0.00112, params: {'min_samples_split': 42, 'min_samples_leaf': 41},\n",
       "  mean: 0.99684, std: 0.00117, params: {'min_samples_split': 62, 'min_samples_leaf': 41},\n",
       "  mean: 0.99697, std: 0.00116, params: {'min_samples_split': 82, 'min_samples_leaf': 41},\n",
       "  mean: 0.99704, std: 0.00104, params: {'min_samples_split': 2, 'min_samples_leaf': 51},\n",
       "  mean: 0.99678, std: 0.00147, params: {'min_samples_split': 22, 'min_samples_leaf': 51},\n",
       "  mean: 0.99692, std: 0.00119, params: {'min_samples_split': 42, 'min_samples_leaf': 51},\n",
       "  mean: 0.99693, std: 0.00114, params: {'min_samples_split': 62, 'min_samples_leaf': 51},\n",
       "  mean: 0.99703, std: 0.00120, params: {'min_samples_split': 82, 'min_samples_leaf': 51}],\n",
       " {'min_samples_leaf': 1, 'min_samples_split': 2},\n",
       " 0.9977004553847821)"
      ]
     },
     "execution_count": 43,
     "metadata": {},
     "output_type": "execute_result"
    }
   ],
   "source": [
    "# les meilleurs paramètres : 'min_samples_leaf': 1, 'min_samples_split': 2\n",
    "param_test3 = {'min_samples_split':list(range(2,100,20)), 'min_samples_leaf':list(range(1,60,10))}\n",
    "gsearch3 = GridSearchCV(estimator = RandomForestClassifier(n_estimators= 150, max_depth=13),\n",
    "   param_grid = param_test3, scoring='roc_auc',iid=False, cv=5)\n",
    "gsearch3.fit(X_train_new, y_train)\n",
    "gsearch3.grid_scores_, gsearch3.best_params_, gsearch3.best_score_"
   ]
  },
  {
   "cell_type": "markdown",
   "metadata": {},
   "source": [
    "#### 4 - le nombre maximum des features"
   ]
  },
  {
   "cell_type": "code",
   "execution_count": 96,
   "metadata": {
    "collapsed": true
   },
   "outputs": [],
   "source": [
    "# param_test4 = {'max_features':list(range(3,7,1))}\n",
    "# gsearch4 = GridSearchCV(estimator = RandomForestClassifier(n_estimators= 150, max_depth=13, min_samples_split=2,\n",
    "#                                   min_samples_leaf=1),\n",
    "#    param_grid = param_test4, scoring='roc_auc',iid=False, cv=5)\n",
    "# gsearch4.fit(X_train_new, y_train)\n",
    "# gsearch4.grid_scores_, gsearch4.best_params_, gsearch4.best_score_"
   ]
  },
  {
   "cell_type": "markdown",
   "metadata": {},
   "source": [
    "### Détection avec les meilleurs paramètres"
   ]
  },
  {
   "cell_type": "markdown",
   "metadata": {},
   "source": [
    "#### 1 - Deux types"
   ]
  },
  {
   "cell_type": "code",
   "execution_count": 46,
   "metadata": {
    "collapsed": false
   },
   "outputs": [
    {
     "name": "stdout",
     "output_type": "stream",
     "text": [
      "metrics.confusion_matrix:\n",
      "[[  3585     28]\n",
      " [    12 118000]]\n",
      "metrics.accuracy_score:\n",
      "0.999671120247\n",
      "metrics.precision_score:\n",
      "0.999762768157\n",
      "metrics.recall_score:\n",
      "0.999898315426\n",
      "metrics.f1_score:\n",
      "0.999830537197\n",
      "Confusion Matrix Stats\n",
      "no attaque/no attaque: 99.23% (3585/3613)\n",
      "no attaque/attaque: 0.77% (28/3613)\n",
      "attaque/no attaque: 0.01% (12/118012)\n",
      "attaque/attaque: 99.99% (118000/118012)\n"
     ]
    },
    {
     "data": {
      "image/png": "[encoded data removed]",
      "text/plain": [
       "<matplotlib.figure.Figure at 0x152c9aca048>"
      ]
     },
     "metadata": {},
     "output_type": "display_data"
    }
   ],
   "source": [
    "from sklearn.ensemble import RandomForestClassifier\n",
    "# classifier\n",
    "clf_rf = RandomForestClassifier(n_estimators = 150, max_depth = 13, min_samples_split = 2,\n",
    "                                  min_samples_leaf = 1)\n",
    "# training\n",
    "clf_rf = clf_rf.fit(X_train_new, y_train)\n",
    "# classification\n",
    "y_pred = clf_rf.predict(X_test_new)\n",
    "# confusion matrix\n",
    "do_metrics(y_test,y_pred)\n",
    "labels = ['no attaque', 'attaque']\n",
    "cm = metrics.confusion_matrix(y_test, y_pred)\n",
    "plot_cm(cm, labels)"
   ]
  },
  {
   "cell_type": "markdown",
   "metadata": {},
   "source": [
    "#### 2 - Multiclassification ( logs normaux + 3 types d'attaques)"
   ]
  },
  {
   "cell_type": "code",
   "execution_count": 47,
   "metadata": {
    "collapsed": true
   },
   "outputs": [],
   "source": [
    "X_train4 = pd.concat([X_train1,X_train2])\n",
    "X_test4 = pd.concat([X_test1,X_test2])\n",
    "y_train4 = pd.concat([y_train1,y_train2])\n",
    "y_test4 = pd.concat([y_test1,y_test2])"
   ]
  },
  {
   "cell_type": "code",
   "execution_count": 48,
   "metadata": {
    "collapsed": true
   },
   "outputs": [],
   "source": [
    "def plot_cm4(cm, labels):\n",
    "    \n",
    "    # Compute percentanges\n",
    "    percent = (cm*100.0)/np.array(np.matrix(cm.sum(axis=1)).T)  # Derp, I'm sure there's a better way\n",
    "    \n",
    "    print ('Confusion Matrix Stats')\n",
    "    for i, label_i in enumerate(labels):\n",
    "        for j, label_j in enumerate(labels):\n",
    "            print (\"%s/%s: %.2f%% (%d/%d)\" % (label_i, label_j, (percent[i][j]), cm[i][j], cm[i].sum()))\n",
    "\n",
    "    # Show confusion matrix\n",
    "    # Thanks kermit666 from stackoverflow :)\n",
    "    fig = plt.figure()\n",
    "    ax = fig.add_subplot(111)\n",
    "    ax.grid(b=False)\n",
    "    cax = ax.matshow(percent, cmap='Greens')\n",
    "    plt.title('Confusion matrix of the classifier')\n",
    "    fig.colorbar(cax)\n",
    "    ax.set_xticklabels([''] + labels)\n",
    "    ax.set_yticklabels([''] + labels)\n",
    "    plt.xlabel('Predicted')\n",
    "    plt.ylabel('True')\n",
    "    plt.show()"
   ]
  },
  {
   "cell_type": "code",
   "execution_count": 49,
   "metadata": {
    "collapsed": true
   },
   "outputs": [],
   "source": [
    "def do_metrics4(y_test,y_pred):\n",
    "    print (\"metrics.confusion_matrix:\")\n",
    "    print (metrics.confusion_matrix(y_test, y_pred))\n",
    "    print (\"metrics.accuracy_score:\")\n",
    "    print (metrics.accuracy_score(y_test, y_pred))"
   ]
  },
  {
   "cell_type": "code",
   "execution_count": 50,
   "metadata": {
    "collapsed": false,
    "scrolled": false
   },
   "outputs": [
    {
     "name": "stdout",
     "output_type": "stream",
     "text": [
      "metrics.confusion_matrix:\n",
      "[[  3589     24      0      0]\n",
      " [     0 117818      0      0]\n",
      " [     0      0     82      0]\n",
      " [     0      0      0    112]]\n",
      "metrics.accuracy_score:\n",
      "0.999802672148\n",
      "Confusion Matrix Stats\n",
      "no attaque/no attaque: 99.34% (3589/3613)\n",
      "no attaque/brute force: 0.66% (24/3613)\n",
      "no attaque/sql: 0.00% (0/3613)\n",
      "no attaque/xss: 0.00% (0/3613)\n",
      "brute force/no attaque: 0.00% (0/117818)\n",
      "brute force/brute force: 100.00% (117818/117818)\n",
      "brute force/sql: 0.00% (0/117818)\n",
      "brute force/xss: 0.00% (0/117818)\n",
      "sql/no attaque: 0.00% (0/82)\n",
      "sql/brute force: 0.00% (0/82)\n",
      "sql/sql: 100.00% (82/82)\n",
      "sql/xss: 0.00% (0/82)\n",
      "xss/no attaque: 0.00% (0/112)\n",
      "xss/brute force: 0.00% (0/112)\n",
      "xss/sql: 0.00% (0/112)\n",
      "xss/xss: 100.00% (112/112)\n"
     ]
    },
    {
     "data": {
      "image/png": "[encoded data removed]",
      "text/plain": [
       "<matplotlib.figure.Figure at 0x152c9e0dda0>"
      ]
     },
     "metadata": {},
     "output_type": "display_data"
    }
   ],
   "source": [
    "from sklearn.ensemble import RandomForestClassifier\n",
    "# classifier\n",
    "clf_rf4 = RandomForestClassifier(n_estimators = 170, max_depth = 11, min_samples_split = 2,\n",
    "                                  min_samples_leaf = 1)\n",
    "# training\n",
    "clf_rf4 = clf_rf4.fit(X_train4, y_train4)\n",
    "# classification\n",
    "y_pred4 = clf_rf4.predict(X_test4)\n",
    "# confusion matrix\n",
    "do_metrics4(y_test4,y_pred4)\n",
    "labels = ['no attaque', 'brute force', 'sql','xss']\n",
    "cm = metrics.confusion_matrix(y_test4, y_pred4)\n",
    "plot_cm4(cm, labels)"
   ]
  }
 ],
 "metadata": {
  "anaconda-cloud": {},
  "kernelspec": {
   "display_name": "Python [default]",
   "language": "python",
   "name": "python3"
  },
  "language_info": {
   "codemirror_mode": {
    "name": "ipython",
    "version": 3
   },
   "file_extension": ".py",
   "mimetype": "text/x-python",
   "name": "python",
   "nbconvert_exporter": "python",
   "pygments_lexer": "ipython3",
   "version": "3.5.2"
  }
 },
 "nbformat": 4,
 "nbformat_minor": 1
}
